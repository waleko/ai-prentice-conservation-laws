{
 "cells": [
  {
   "cell_type": "code",
   "execution_count": 1,
   "metadata": {},
   "outputs": [
    {
     "name": "stderr",
     "output_type": "stream",
     "text": [
      "/home/antony/.local/lib/python3.8/site-packages/umap/distances.py:1063: NumbaDeprecationWarning: The 'nopython' keyword argument was not supplied to the 'numba.jit' decorator. The implicit default value for this argument is currently False, but it will be changed to True in Numba 0.59.0. See https://numba.readthedocs.io/en/stable/reference/deprecation.html#deprecation-of-object-mode-fall-back-behaviour-when-using-jit for details.\n",
      "  @numba.jit()\n",
      "/home/antony/.local/lib/python3.8/site-packages/umap/distances.py:1071: NumbaDeprecationWarning: The 'nopython' keyword argument was not supplied to the 'numba.jit' decorator. The implicit default value for this argument is currently False, but it will be changed to True in Numba 0.59.0. See https://numba.readthedocs.io/en/stable/reference/deprecation.html#deprecation-of-object-mode-fall-back-behaviour-when-using-jit for details.\n",
      "  @numba.jit()\n",
      "/home/antony/.local/lib/python3.8/site-packages/umap/distances.py:1086: NumbaDeprecationWarning: The 'nopython' keyword argument was not supplied to the 'numba.jit' decorator. The implicit default value for this argument is currently False, but it will be changed to True in Numba 0.59.0. See https://numba.readthedocs.io/en/stable/reference/deprecation.html#deprecation-of-object-mode-fall-back-behaviour-when-using-jit for details.\n",
      "  @numba.jit()\n",
      "/home/antony/.local/lib/python3.8/site-packages/umap/umap_.py:660: NumbaDeprecationWarning: The 'nopython' keyword argument was not supplied to the 'numba.jit' decorator. The implicit default value for this argument is currently False, but it will be changed to True in Numba 0.59.0. See https://numba.readthedocs.io/en/stable/reference/deprecation.html#deprecation-of-object-mode-fall-back-behaviour-when-using-jit for details.\n",
      "  @numba.jit()\n",
      "2023-08-08 15:43:55.633892: I tensorflow/tsl/cuda/cudart_stub.cc:28] Could not find cuda drivers on your machine, GPU will not be used.\n",
      "2023-08-08 15:43:55.809448: I tensorflow/tsl/cuda/cudart_stub.cc:28] Could not find cuda drivers on your machine, GPU will not be used.\n",
      "2023-08-08 15:43:55.812535: I tensorflow/core/platform/cpu_feature_guard.cc:182] This TensorFlow binary is optimized to use available CPU instructions in performance-critical operations.\n",
      "To enable the following instructions: AVX2 FMA, in other operations, rebuild TensorFlow with the appropriate compiler flags.\n"
     ]
    },
    {
     "ename": "RuntimeError",
     "evalue": "module compiled against API version 0xf but this version of numpy is 0xe",
     "output_type": "error",
     "traceback": [
      "\u001b[0;31m---------------------------------------------------------------------------\u001b[0m",
      "\u001b[0;31mRuntimeError\u001b[0m                              Traceback (most recent call last)",
      "\u001b[0;31mRuntimeError\u001b[0m: module compiled against API version 0xf but this version of numpy is 0xe"
     ]
    }
   ],
   "source": [
    "import numpy as np\n",
    "import matplotlib.pyplot as plt\n",
    "from tqdm import tqdm\n",
    "\n",
    "import ai_prentice_wasserstein"
   ]
  },
  {
   "cell_type": "code",
   "execution_count": 2,
   "metadata": {},
   "outputs": [],
   "source": [
    "def gen_data(dim, N_traj=200, N_samples=200):\n",
    "    dyn = np.random.uniform(size=(N_traj, N_samples, dim))\n",
    "    cons = np.stack([np.random.uniform(size=(N_traj, dim))] * N_samples, axis=1)\n",
    "    data = np.concatenate((dyn, cons), axis=2)\n",
    "    return data\n",
    "\n",
    "def compute_scores_on_the_synthetic_data(plt, dim, N_traj=200, N_samples=200):\n",
    "    data = gen_data(dim, N_traj, N_samples)\n",
    "\n",
    "    ai_prentice = ai_prentice_wasserstein.DimensionalityPrentice(f\"{dim} dimensional synthetic data\")\n",
    "    ai_prentice.fit(data)\n",
    "       \n",
    "    fig, axes = plt.subplots(1, 2, figsize=(15, 5))\n",
    "    ai_prentice._plot_scores(axes[0])\n",
    "    ai_prentice._plot_score_diffs(axes[1], dim)\n",
    "\n",
    "    return data, ai_prentice.scores\n",
    "\n",
    "def threshold_boundaries(N_experiments, N_traj=200, N_samples=200):\n",
    "    lower_boundaries = []\n",
    "    upper_boundaries = []\n",
    "    \n",
    "    for _ in tqdm(range(N_experiments)):\n",
    "        for dim in range(1, 4):\n",
    "            data = gen_data(dim, N_traj, N_samples)\n",
    "\n",
    "            ai_prentice = ai_prentice_wasserstein.DimensionalityPrentice(f\"{dim} dimensional synthetic data\", verbosity=0)\n",
    "            ai_prentice.fit(data)\n",
    "            \n",
    "            scores = np.array(ai_prentice.scores)\n",
    "            score_diffs = scores[:-1] - scores[1:]\n",
    "        \n",
    "            for d in range(dim - 1):\n",
    "                upper_boundaries.append(score_diffs[d])\n",
    "            lower_boundaries.append(score_diffs[dim - 1])\n",
    "    return lower_boundaries, upper_boundaries"
   ]
  },
  {
   "cell_type": "code",
   "execution_count": 3,
   "metadata": {},
   "outputs": [],
   "source": [
    "# for dim in range(1, 4):\n",
    "#     print(f\"conservation dimensionality: {dim}\")\n",
    "#     compute_scores_on_the_synthetic_data(plt, dim)\n",
    "#     plt.show()"
   ]
  },
  {
   "cell_type": "code",
   "execution_count": null,
   "metadata": {},
   "outputs": [
    {
     "name": "stderr",
     "output_type": "stream",
     "text": [
      "  0%|                                                                                                                                                                              | 0/100 [00:00<?, ?it/s]"
     ]
    },
    {
     "name": "stdout",
     "output_type": "stream",
     "text": [
      "Finished preprocessing 200 events in 0.0026s\n",
      "   1990 / 19900  EMDs computed  -  10.00% completed - 1.531s\n",
      "   3980 / 19900  EMDs computed  -  20.00% completed - 2.962s\n",
      "   5970 / 19900  EMDs computed  -  30.00% completed - 4.377s\n",
      "   7960 / 19900  EMDs computed  -  40.00% completed - 5.798s\n",
      "   9950 / 19900  EMDs computed  -  50.00% completed - 7.224s\n",
      "  11940 / 19900  EMDs computed  -  60.00% completed - 8.710s\n",
      "  13930 / 19900  EMDs computed  -  70.00% completed - 10.245s\n",
      "  15920 / 19900  EMDs computed  -  80.00% completed - 11.621s\n",
      "  17910 / 19900  EMDs computed  -  90.00% completed - 12.996s\n",
      "  19900 / 19900  EMDs computed  - 100.00% completed - 14.372s\n",
      "Finished preprocessing 200 events in 0.0009s\n",
      "   1990 / 19900  EMDs computed  -  10.00% completed - 1.440s\n",
      "   3980 / 19900  EMDs computed  -  20.00% completed - 2.815s\n",
      "   5970 / 19900  EMDs computed  -  30.00% completed - 4.205s\n",
      "   7960 / 19900  EMDs computed  -  40.00% completed - 5.601s\n",
      "   9950 / 19900  EMDs computed  -  50.00% completed - 7.081s\n",
      "  11940 / 19900  EMDs computed  -  60.00% completed - 8.507s\n",
      "  13930 / 19900  EMDs computed  -  70.00% completed - 10.052s\n",
      "  15920 / 19900  EMDs computed  -  80.00% completed - 11.500s\n",
      "  17910 / 19900  EMDs computed  -  90.00% completed - 12.919s\n",
      "  19900 / 19900  EMDs computed  - 100.00% completed - 14.306s\n",
      "Finished preprocessing 200 events in 0.0011s\n",
      "   1990 / 19900  EMDs computed  -  10.00% completed - 1.574s\n",
      "   3980 / 19900  EMDs computed  -  20.00% completed - 3.014s\n",
      "   5970 / 19900  EMDs computed  -  30.00% completed - 4.471s\n",
      "   7960 / 19900  EMDs computed  -  40.00% completed - 5.938s\n",
      "   9950 / 19900  EMDs computed  -  50.00% completed - 7.406s\n",
      "  11940 / 19900  EMDs computed  -  60.00% completed - 8.899s\n",
      "  13930 / 19900  EMDs computed  -  70.00% completed - 10.327s\n",
      "  15920 / 19900  EMDs computed  -  80.00% completed - 11.842s\n",
      "  17910 / 19900  EMDs computed  -  90.00% completed - 13.287s\n",
      "  19900 / 19900  EMDs computed  - 100.00% completed - 14.807s\n"
     ]
    },
    {
     "name": "stderr",
     "output_type": "stream",
     "text": [
      "  1%|█▋                                                                                                                                                                 | 1/100 [06:00<9:55:15, 360.76s/it]"
     ]
    },
    {
     "name": "stdout",
     "output_type": "stream",
     "text": [
      "Finished preprocessing 200 events in 0.0009s\n",
      "   1990 / 19900  EMDs computed  -  10.00% completed - 1.363s\n",
      "   3980 / 19900  EMDs computed  -  20.00% completed - 2.710s\n",
      "   5970 / 19900  EMDs computed  -  30.00% completed - 4.086s\n",
      "   7960 / 19900  EMDs computed  -  40.00% completed - 5.517s\n",
      "   9950 / 19900  EMDs computed  -  50.00% completed - 6.995s\n",
      "  11940 / 19900  EMDs computed  -  60.00% completed - 8.365s\n",
      "  13930 / 19900  EMDs computed  -  70.00% completed - 9.747s\n",
      "  15920 / 19900  EMDs computed  -  80.00% completed - 11.085s\n",
      "  17910 / 19900  EMDs computed  -  90.00% completed - 12.439s\n",
      "  19900 / 19900  EMDs computed  - 100.00% completed - 13.788s\n",
      "Finished preprocessing 200 events in 0.0010s\n",
      "   1990 / 19900  EMDs computed  -  10.00% completed - 1.549s\n",
      "   3980 / 19900  EMDs computed  -  20.00% completed - 3.096s\n",
      "   5970 / 19900  EMDs computed  -  30.00% completed - 4.728s\n",
      "   7960 / 19900  EMDs computed  -  40.00% completed - 6.197s\n",
      "   9950 / 19900  EMDs computed  -  50.00% completed - 7.707s\n",
      "  11940 / 19900  EMDs computed  -  60.00% completed - 9.161s\n",
      "  13930 / 19900  EMDs computed  -  70.00% completed - 10.670s\n",
      "  15920 / 19900  EMDs computed  -  80.00% completed - 12.093s\n",
      "  17910 / 19900  EMDs computed  -  90.00% completed - 13.534s\n",
      "  19900 / 19900  EMDs computed  - 100.00% completed - 14.961s\n",
      "Finished preprocessing 200 events in 0.0010s\n",
      "   1990 / 19900  EMDs computed  -  10.00% completed - 1.511s\n",
      "   3980 / 19900  EMDs computed  -  20.00% completed - 3.003s\n",
      "   5970 / 19900  EMDs computed  -  30.00% completed - 4.552s\n",
      "   7960 / 19900  EMDs computed  -  40.00% completed - 6.225s\n",
      "   9950 / 19900  EMDs computed  -  50.00% completed - 7.918s\n",
      "  11940 / 19900  EMDs computed  -  60.00% completed - 9.602s\n",
      "  13930 / 19900  EMDs computed  -  70.00% completed - 11.190s\n",
      "  15920 / 19900  EMDs computed  -  80.00% completed - 12.771s\n",
      "  17910 / 19900  EMDs computed  -  90.00% completed - 14.481s\n",
      "  19900 / 19900  EMDs computed  - 100.00% completed - 16.002s\n"
     ]
    },
    {
     "name": "stderr",
     "output_type": "stream",
     "text": [
      "  2%|███▎                                                                                                                                                               | 2/100 [12:06<9:53:34, 363.41s/it]"
     ]
    },
    {
     "name": "stdout",
     "output_type": "stream",
     "text": [
      "Finished preprocessing 200 events in 0.0025s\n",
      "   1990 / 19900  EMDs computed  -  10.00% completed - 1.349s\n",
      "   3980 / 19900  EMDs computed  -  20.00% completed - 2.745s\n",
      "   5970 / 19900  EMDs computed  -  30.00% completed - 4.089s\n",
      "   7960 / 19900  EMDs computed  -  40.00% completed - 5.570s\n",
      "   9950 / 19900  EMDs computed  -  50.00% completed - 6.924s\n",
      "  11940 / 19900  EMDs computed  -  60.00% completed - 8.336s\n",
      "  13930 / 19900  EMDs computed  -  70.00% completed - 9.747s\n",
      "  15920 / 19900  EMDs computed  -  80.00% completed - 11.132s\n",
      "  17910 / 19900  EMDs computed  -  90.00% completed - 12.504s\n",
      "  19900 / 19900  EMDs computed  - 100.00% completed - 13.975s\n",
      "Finished preprocessing 200 events in 0.0009s\n",
      "   1990 / 19900  EMDs computed  -  10.00% completed - 1.376s\n",
      "   3980 / 19900  EMDs computed  -  20.00% completed - 2.787s\n",
      "   5970 / 19900  EMDs computed  -  30.00% completed - 4.226s\n",
      "   7960 / 19900  EMDs computed  -  40.00% completed - 5.659s\n",
      "   9950 / 19900  EMDs computed  -  50.00% completed - 7.046s\n",
      "  11940 / 19900  EMDs computed  -  60.00% completed - 8.490s\n",
      "  13930 / 19900  EMDs computed  -  70.00% completed - 9.886s\n",
      "  15920 / 19900  EMDs computed  -  80.00% completed - 11.301s\n",
      "  17910 / 19900  EMDs computed  -  90.00% completed - 12.741s\n",
      "  19900 / 19900  EMDs computed  - 100.00% completed - 14.154s\n",
      "Finished preprocessing 200 events in 0.0010s\n",
      "   1990 / 19900  EMDs computed  -  10.00% completed - 1.409s\n",
      "   3980 / 19900  EMDs computed  -  20.00% completed - 2.859s\n",
      "   5970 / 19900  EMDs computed  -  30.00% completed - 4.305s\n",
      "   7960 / 19900  EMDs computed  -  40.00% completed - 5.781s\n",
      "   9950 / 19900  EMDs computed  -  50.00% completed - 7.206s\n",
      "  11940 / 19900  EMDs computed  -  60.00% completed - 8.694s\n",
      "  13930 / 19900  EMDs computed  -  70.00% completed - 10.161s\n",
      "  15920 / 19900  EMDs computed  -  80.00% completed - 11.686s\n",
      "  17910 / 19900  EMDs computed  -  90.00% completed - 13.136s\n",
      "  19900 / 19900  EMDs computed  - 100.00% completed - 14.589s\n"
     ]
    },
    {
     "name": "stderr",
     "output_type": "stream",
     "text": [
      "  3%|████▉                                                                                                                                                              | 3/100 [18:04<9:43:49, 361.12s/it]"
     ]
    },
    {
     "name": "stdout",
     "output_type": "stream",
     "text": [
      "Finished preprocessing 200 events in 0.0009s\n",
      "   1990 / 19900  EMDs computed  -  10.00% completed - 1.368s\n",
      "   3980 / 19900  EMDs computed  -  20.00% completed - 2.745s\n",
      "   5970 / 19900  EMDs computed  -  30.00% completed - 4.172s\n",
      "   7960 / 19900  EMDs computed  -  40.00% completed - 5.545s\n",
      "   9950 / 19900  EMDs computed  -  50.00% completed - 6.936s\n",
      "  11940 / 19900  EMDs computed  -  60.00% completed - 8.307s\n",
      "  13930 / 19900  EMDs computed  -  70.00% completed - 9.675s\n",
      "  15920 / 19900  EMDs computed  -  80.00% completed - 11.004s\n",
      "  17910 / 19900  EMDs computed  -  90.00% completed - 12.358s\n",
      "  19900 / 19900  EMDs computed  - 100.00% completed - 13.751s\n",
      "Finished preprocessing 200 events in 0.0009s\n",
      "   1990 / 19900  EMDs computed  -  10.00% completed - 1.389s\n",
      "   3980 / 19900  EMDs computed  -  20.00% completed - 2.831s\n",
      "   5970 / 19900  EMDs computed  -  30.00% completed - 4.222s\n",
      "   7960 / 19900  EMDs computed  -  40.00% completed - 5.652s\n",
      "   9950 / 19900  EMDs computed  -  50.00% completed - 7.054s\n",
      "  11940 / 19900  EMDs computed  -  60.00% completed - 8.465s\n",
      "  13930 / 19900  EMDs computed  -  70.00% completed - 9.914s\n",
      "  15920 / 19900  EMDs computed  -  80.00% completed - 11.346s\n",
      "  17910 / 19900  EMDs computed  -  90.00% completed - 12.815s\n",
      "  19900 / 19900  EMDs computed  - 100.00% completed - 14.234s\n"
     ]
    }
   ],
   "source": [
    "low_boundaries, up_boundaries = threshold_boundaries(100)"
   ]
  },
  {
   "cell_type": "code",
   "execution_count": null,
   "metadata": {},
   "outputs": [],
   "source": [
    "plt.hist(low_boundaries, label=\"lower\", bins=20)\n",
    "plt.hist(up_boundaries, label=\"upper\", bins=20)\n",
    "plt.legend()\n",
    "plt.show()"
   ]
  },
  {
   "cell_type": "code",
   "execution_count": null,
   "metadata": {},
   "outputs": [],
   "source": [
    "(np.array(low_boundaries) < 0.01).sum() / 300"
   ]
  },
  {
   "cell_type": "code",
   "execution_count": null,
   "metadata": {},
   "outputs": [],
   "source": [
    "(np.array(up_boundaries) > 0.01).sum() / 300"
   ]
  },
  {
   "cell_type": "code",
   "execution_count": null,
   "metadata": {},
   "outputs": [],
   "source": [
    "# np.savez(\"lower_boundaries.npz\", bound=low_boundaries)\n",
    "# np.savez(\"upper_boundaries.npz\", bound=up_boundaries)"
   ]
  },
  {
   "cell_type": "code",
   "execution_count": null,
   "metadata": {},
   "outputs": [],
   "source": [
    "lb = np.load(\"lower_boundaries.npz\")[\"bound\"]\n",
    "ub = np.load(\"upper_boundaries.npz\")[\"bound\"]"
   ]
  },
  {
   "cell_type": "code",
   "execution_count": null,
   "metadata": {},
   "outputs": [],
   "source": [
    "plt.hist(lb, label=\"lower\", bins=20)\n",
    "plt.hist(ub, label=\"upper\", bins=20)\n",
    "plt.plot([0.01, 0.01], [0, 160], linestyle=\"--\", label=\"threshold = 0.01\")\n",
    "plt.legend()\n",
    "plt.xlabel(\"boundary value\", fontsize=15)\n",
    "plt.ylabel(\"number of samples\", fontsize=15)\n",
    "plt.savefig(\"threshold.pdf\")\n",
    "plt.show()"
   ]
  },
  {
   "cell_type": "code",
   "execution_count": null,
   "metadata": {},
   "outputs": [],
   "source": [
    "lb[lb > 0.01]"
   ]
  },
  {
   "cell_type": "code",
   "execution_count": null,
   "metadata": {},
   "outputs": [],
   "source": []
  }
 ],
 "metadata": {
  "kernelspec": {
   "display_name": "Python 3 (ipykernel)",
   "language": "python",
   "name": "python3"
  },
  "language_info": {
   "codemirror_mode": {
    "name": "ipython",
    "version": 3
   },
   "file_extension": ".py",
   "mimetype": "text/x-python",
   "name": "python",
   "nbconvert_exporter": "python",
   "pygments_lexer": "ipython3",
   "version": "3.8.0"
  }
 },
 "nbformat": 4,
 "nbformat_minor": 4
}
