{
 "cells": [
  {
   "cell_type": "markdown",
   "metadata": {},
   "source": [
    "In this notebook we try to estimate the dimensionality of the dynamic trajectory subspace.\n",
    "\n",
    "### Helpful articles\n",
    "- [Supplementary material from AI Poincare](https://journals.aps.org/prl/supplemental/10.1103/PhysRevLett.126.180604/poincare_supplemental_materialv2.pdf)\n",
    "- [Interpretable conservation law estimation by deriving the symmetries of dynamics from trained deep neural networks](https://journals.aps.org/pre/pdf/10.1103/PhysRevE.103.033303) cited in AI Poincare."
   ]
  },
  {
   "cell_type": "code",
   "execution_count": null,
   "metadata": {
    "ExecuteTime": {
     "start_time": "2023-04-25T12:54:56.982727Z",
     "end_time": "2023-04-25T12:55:24.552753Z"
    }
   },
   "outputs": [],
   "source": [
    "from experiments import *\n",
    "import autoencoders as ae"
   ]
  },
  {
   "cell_type": "code",
   "execution_count": null,
   "metadata": {
    "ExecuteTime": {
     "start_time": "2023-04-25T12:55:24.557751Z",
     "end_time": "2023-04-25T12:55:24.560789Z"
    }
   },
   "outputs": [],
   "source": [
    "import wandb"
   ]
  },
  {
   "cell_type": "code",
   "execution_count": null,
   "metadata": {
    "ExecuteTime": {
     "start_time": "2023-04-25T12:55:24.563753Z",
     "end_time": "2023-04-25T12:55:31.059067Z"
    },
    "collapsed": false
   },
   "outputs": [],
   "source": [
    "sweep_configuration = {\n",
    "    'method': 'random',\n",
    "    'name': 'sweep kl1',\n",
    "    'metric': {\n",
    "        'goal': 'minimize',\n",
    "        'name': 'coupled_oscillator_2_test_mse'\n",
    "    },\n",
    "    'parameters': {\n",
    "        'k': {'values': [1, 3, 5, 10]},\n",
    "        'l1': {'values': [0, 1e-8, 1e-7, 1e-6, 1e-5, 1e-4, 1e-3, 1e-1, 1]},\n",
    "    }\n",
    "}\n",
    "sweep_id = wandb.sweep(sweep=sweep_configuration, project=\"AE new2 (co sweep)\")"
   ]
  },
  {
   "cell_type": "code",
   "execution_count": null,
   "outputs": [],
   "source": [
    "def main():\n",
    "    wandb.init(project=\"AE new2 (co sweep)\")\n",
    "    k = wandb.config.k\n",
    "    l1 = wandb.config.l1\n",
    "    for exp in [CoupledOscillator]:\n",
    "        suite = ae.TrajectoryAutoencoderSuite(exp, criterion=ae.GAELoss(k=k), additional_loss=ae.sparse_and_l1(l1_lambda=l1), epochs=2000, do_animate=True, log_prefix=f\"{k}_{l1}\")\n",
    "        suite.analyze_n_eff(42)"
   ],
   "metadata": {
    "collapsed": false,
    "ExecuteTime": {
     "start_time": "2023-04-25T12:55:31.065064Z",
     "end_time": "2023-04-25T12:55:31.069067Z"
    }
   }
  },
  {
   "cell_type": "code",
   "execution_count": null,
   "outputs": [],
   "source": [
    "wandb.agent(sweep_id, function=main)"
   ],
   "metadata": {
    "collapsed": false,
    "ExecuteTime": {
     "start_time": "2023-04-24T15:28:17.743434Z",
     "end_time": "2023-04-24T20:24:32.140745Z"
    }
   }
  },
  {
   "cell_type": "code",
   "execution_count": null,
   "outputs": [],
   "source": [
    "wandb.finish()"
   ],
   "metadata": {
    "collapsed": false,
    "ExecuteTime": {
     "start_time": "2023-04-24T20:24:32.151744Z",
     "end_time": "2023-04-24T20:24:32.274791Z"
    }
   }
  }
 ],
 "metadata": {
  "kernelspec": {
   "display_name": "Python 3 (ipykernel)",
   "language": "python",
   "name": "python3"
  },
  "language_info": {
   "codemirror_mode": {
    "name": "ipython",
    "version": 3
   },
   "file_extension": ".py",
   "mimetype": "text/x-python",
   "name": "python",
   "nbconvert_exporter": "python",
   "pygments_lexer": "ipython3",
   "version": "3.8.16 | packaged by conda-forge | (default, Feb  1 2023, 16:01:55) \n[GCC 11.3.0]"
  },
  "vscode": {
   "interpreter": {
    "hash": "d4d1e4263499bec80672ea0156c357c1ee493ec2b1c70f0acce89fc37c4a6abe"
   }
  }
 },
 "nbformat": 4,
 "nbformat_minor": 1
}
