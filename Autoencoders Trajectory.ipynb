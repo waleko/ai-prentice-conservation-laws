{
 "cells": [
  {
   "cell_type": "markdown",
   "metadata": {},
   "source": [
    "In this notebook we try to estimate the dimensionality of the dynamic trajectory subspace.\n",
    "\n",
    "### Helpful articles\n",
    "- [Supplementary material from AI Poincare](https://journals.aps.org/prl/supplemental/10.1103/PhysRevLett.126.180604/poincare_supplemental_materialv2.pdf)\n",
    "- [Interpretable conservation law estimation by deriving the symmetries of dynamics from trained deep neural networks](https://journals.aps.org/pre/pdf/10.1103/PhysRevE.103.033303) cited in AI Poincare."
   ]
  },
  {
   "cell_type": "code",
   "execution_count": null,
   "metadata": {
    "ExecuteTime": {
     "end_time": "2023-04-18T19:09:24.781743Z",
     "start_time": "2023-04-18T19:09:02.540111Z"
    },
    "pycharm": {
     "is_executing": true
    }
   },
   "outputs": [],
   "source": [
    "from experiments import *\n",
    "import autoencoders as ae"
   ]
  },
  {
   "cell_type": "code",
   "execution_count": null,
   "metadata": {
    "ExecuteTime": {
     "end_time": "2023-04-18T19:09:24.789749Z",
     "start_time": "2023-04-18T19:09:24.784744Z"
    },
    "pycharm": {
     "is_executing": true
    }
   },
   "outputs": [],
   "source": [
    "import wandb"
   ]
  },
  {
   "cell_type": "code",
   "execution_count": null,
   "metadata": {
    "ExecuteTime": {
     "end_time": "2023-04-18T19:09:24.826780Z",
     "start_time": "2023-04-18T19:09:24.792748Z"
    },
    "collapsed": false,
    "pycharm": {
     "is_executing": true
    }
   },
   "outputs": [],
   "source": [
    "sweep_configuration = {\n",
    "    'method': 'grid',\n",
    "    'name': 'sweep_k',\n",
    "    'metric': {\n",
    "        'goal': 'minimize',\n",
    "        'name': 'pendulum_1_test_mse'\n",
    "    },\n",
    "    'parameters': {\n",
    "        'k': {'values': [1, 5, 10, 20, 32]}\n",
    "    }\n",
    "}\n",
    "sweep_id = wandb.sweep(sweep=sweep_configuration, project=\"AE new (gae sweep)\")"
   ]
  },
  {
   "cell_type": "code",
   "execution_count": null,
   "metadata": {
    "ExecuteTime": {
     "end_time": "2023-04-18T19:09:28.899034Z",
     "start_time": "2023-04-18T19:09:28.894039Z"
    },
    "collapsed": false,
    "pycharm": {
     "is_executing": true
    }
   },
   "outputs": [],
   "source": [
    "def main():\n",
    "    wandb.init(project=\"AE new (gae sweep)\")\n",
    "    k = wandb.config.k\n",
    "    suite = ae.TrajectoryAutoencoderSuite(Pendulum, criterion=ae.GAELoss(k=k))\n",
    "    suite.analyze_n_eff()"
   ]
  },
  {
   "cell_type": "code",
   "execution_count": null,
   "metadata": {
    "collapsed": false,
    "pycharm": {
     "is_executing": true
    }
   },
   "outputs": [],
   "source": [
    "wandb.agent(sweep_id, function=main, count=1)"
   ]
  }
 ],
 "metadata": {
  "kernelspec": {
   "display_name": "Python 3 (ipykernel)",
   "language": "python",
   "name": "python3"
  },
  "language_info": {
   "codemirror_mode": {
    "name": "ipython",
    "version": 3
   },
   "file_extension": ".py",
   "mimetype": "text/x-python",
   "name": "python",
   "nbconvert_exporter": "python",
   "pygments_lexer": "ipython3",
   "version": "3.8.16 | packaged by conda-forge | (default, Feb  1 2023, 16:01:55) \n[GCC 11.3.0]"
  },
  "vscode": {
   "interpreter": {
    "hash": "d4d1e4263499bec80672ea0156c357c1ee493ec2b1c70f0acce89fc37c4a6abe"
   }
  }
 },
 "nbformat": 4,
 "nbformat_minor": 1
}
