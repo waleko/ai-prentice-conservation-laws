{
 "cells": [
  {
   "cell_type": "markdown",
   "metadata": {
    "collapsed": false
   },
   "source": [
    "In this notebook we try to estimate the dimensionality of the dynamic trajectory subspace.\n",
    "\n",
    "### Helpful articles\n",
    "- [Supplementary material from AI Poincare](https://journals.aps.org/prl/supplemental/10.1103/PhysRevLett.126.180604/poincare_supplemental_materialv2.pdf)\n",
    "- [Interpretable conservation law estimation by deriving the symmetries of dynamics from trained deep neural networks](https://journals.aps.org/pre/pdf/10.1103/PhysRevE.103.033303) cited in AI Poincare."
   ]
  },
  {
   "cell_type": "code",
   "execution_count": 1,
   "metadata": {},
   "outputs": [
    {
     "name": "stdout",
     "output_type": "stream",
     "text": [
      "Note: you may need to restart the kernel to use updated packages.\n"
     ]
    }
   ],
   "source": [
    "%pip install -r requirements.txt --quiet"
   ]
  },
  {
   "cell_type": "code",
   "execution_count": 1,
   "metadata": {
    "collapsed": true
   },
   "outputs": [],
   "source": [
    "import matplotlib.pyplot as plt\n",
    "import numpy as np\n",
    "from tqdm.notebook import tqdm\n",
    "import torch\n",
    "from torch import nn\n",
    "from torch.utils.data import DataLoader\n",
    "\n",
    "import torch\n",
    "from torch import nn\n",
    "from torch.nn import functional as F\n",
    "from torch.utils.data import DataLoader\n",
    "from torch.utils.data import random_split\n",
    "import pytorch_lightning as pl"
   ]
  },
  {
   "cell_type": "code",
   "execution_count": 2,
   "metadata": {
    "collapsed": false
   },
   "outputs": [],
   "source": [
    "import utils\n",
    "from experiments import *"
   ]
  },
  {
   "cell_type": "code",
   "execution_count": 3,
   "metadata": {},
   "outputs": [
    {
     "name": "stderr",
     "output_type": "stream",
     "text": [
      "\u001B[34m\u001B[1mwandb\u001B[0m: Currently logged in as: \u001B[33mwaleko\u001B[0m (\u001B[33mai-prentice\u001B[0m). Use \u001B[1m`wandb login --relogin`\u001B[0m to force relogin\n"
     ]
    },
    {
     "data": {
      "text/plain": "<IPython.core.display.HTML object>",
      "text/html": "Tracking run with wandb version 0.13.10"
     },
     "metadata": {},
     "output_type": "display_data"
    },
    {
     "data": {
      "text/plain": "<IPython.core.display.HTML object>",
      "text/html": "Run data is saved locally in <code>C:\\Users\\waleko\\Documents\\Projects\\hse\\ai-prentice-conservation-laws\\wandb\\run-20230228_235348-qq8ol06p</code>"
     },
     "metadata": {},
     "output_type": "display_data"
    },
    {
     "data": {
      "text/plain": "<IPython.core.display.HTML object>",
      "text/html": "Syncing run <strong><a href='https://wandb.ai/ai-prentice/Autoencoders%20Trajectory%20%28dp%29/runs/qq8ol06p' target=\"_blank\">glorious-bush-1</a></strong> to <a href='https://wandb.ai/ai-prentice/Autoencoders%20Trajectory%20%28dp%29' target=\"_blank\">Weights & Biases</a> (<a href='https://wandb.me/run' target=\"_blank\">docs</a>)<br/>"
     },
     "metadata": {},
     "output_type": "display_data"
    },
    {
     "data": {
      "text/plain": "<IPython.core.display.HTML object>",
      "text/html": " View project at <a href='https://wandb.ai/ai-prentice/Autoencoders%20Trajectory%20%28dp%29' target=\"_blank\">https://wandb.ai/ai-prentice/Autoencoders%20Trajectory%20%28dp%29</a>"
     },
     "metadata": {},
     "output_type": "display_data"
    },
    {
     "data": {
      "text/plain": "<IPython.core.display.HTML object>",
      "text/html": " View run at <a href='https://wandb.ai/ai-prentice/Autoencoders%20Trajectory%20%28dp%29/runs/qq8ol06p' target=\"_blank\">https://wandb.ai/ai-prentice/Autoencoders%20Trajectory%20%28dp%29/runs/qq8ol06p</a>"
     },
     "metadata": {},
     "output_type": "display_data"
    },
    {
     "data": {
      "text/html": "<button onClick=\"this.nextSibling.style.display='block';this.style.display='none';\">Display W&B run</button><iframe src='https://wandb.ai/ai-prentice/Autoencoders%20Trajectory%20%28dp%29/runs/qq8ol06p?jupyter=true' style='border:none;width:100%;height:420px;display:none;'></iframe>",
      "text/plain": "<wandb.sdk.wandb_run.Run at 0x25c004744f0>"
     },
     "execution_count": 3,
     "metadata": {},
     "output_type": "execute_result"
    }
   ],
   "source": [
    "import wandb\n",
    "wandb.init(project=\"Autoencoders Trajectory (dp)\")"
   ]
  },
  {
   "cell_type": "code",
   "execution_count": 4,
   "metadata": {},
   "outputs": [],
   "source": [
    "class AE(nn.Module):\n",
    "    def __init__(self, input_dim: int, hidden_dim: int, intermediate_dim: int):\n",
    "        super(AE, self).__init__()\n",
    "        self.encoder = nn.Sequential(\n",
    "            nn.Linear(input_dim, intermediate_dim),\n",
    "            nn.Tanh(),\n",
    "            nn.Linear(intermediate_dim, intermediate_dim),\n",
    "            nn.Tanh(),\n",
    "            nn.Linear(intermediate_dim, intermediate_dim),\n",
    "            nn.Tanh(),\n",
    "            nn.Linear(intermediate_dim, intermediate_dim),\n",
    "            nn.Tanh(),\n",
    "            nn.Linear(intermediate_dim, intermediate_dim),\n",
    "            nn.Tanh(),\n",
    "            nn.Linear(intermediate_dim, intermediate_dim),\n",
    "            nn.Tanh(),\n",
    "            nn.Linear(intermediate_dim, hidden_dim),\n",
    "            nn.Tanh(),\n",
    "        )\n",
    "        self.decoder = nn.Sequential(\n",
    "            nn.Linear(hidden_dim, intermediate_dim),\n",
    "            nn.Tanh(),\n",
    "            nn.Linear(intermediate_dim, intermediate_dim),\n",
    "            nn.Tanh(),\n",
    "            nn.Linear(intermediate_dim, intermediate_dim),\n",
    "            nn.Tanh(),\n",
    "            nn.Linear(intermediate_dim, intermediate_dim),\n",
    "            nn.Tanh(),\n",
    "            nn.Linear(intermediate_dim, intermediate_dim),\n",
    "            nn.Tanh(),\n",
    "            nn.Linear(intermediate_dim, intermediate_dim),\n",
    "            nn.Tanh(),\n",
    "            nn.Linear(intermediate_dim, input_dim),\n",
    "        )\n",
    "\n",
    "    def forward(self, x):\n",
    "        x = self.encoder(x)\n",
    "        x = self.decoder(x)\n",
    "        return x"
   ]
  },
  {
   "cell_type": "code",
   "execution_count": 5,
   "metadata": {
    "collapsed": false
   },
   "outputs": [],
   "source": [
    "def rand_point(dim=3):\n",
    "    x = np.random.rand(dim)\n",
    "    x[0] *= np.random.choice([-1, 1])\n",
    "    x[1] *= np.random.choice([-1, 1])\n",
    "    return x / np.linalg.norm(x)"
   ]
  },
  {
   "cell_type": "code",
   "execution_count": 6,
   "metadata": {},
   "outputs": [],
   "source": [
    "device = torch.device(\"cuda\" if torch.cuda.is_available() else \"cpu\")\n",
    "device = \"cpu\" # cpu is faster ??"
   ]
  },
  {
   "cell_type": "code",
   "execution_count": 7,
   "metadata": {
    "collapsed": false
   },
   "outputs": [],
   "source": [
    "def train_model(traj, experiment_name: str, hidden_layer_dim: int, epochs=1000, intermediate_dim=20, batch_size=10):\n",
    "    input_dim = traj.shape[1]\n",
    "\n",
    "    model = AE(input_dim, hidden_layer_dim, intermediate_dim).to(device)\n",
    "    criterion = nn.MSELoss().to(device)\n",
    "    optimizer = torch.optim.Adam(model.parameters())\n",
    "    \n",
    "    train_len = int(traj.shape[0] * 0.8)\n",
    "\n",
    "    traj_train, traj_val = random_split(traj, [train_len, traj.shape[0] - train_len])\n",
    "\n",
    "    train_dataloader = DataLoader(traj_train, batch_size=batch_size, shuffle=True)\n",
    "    val_dataloader = DataLoader(traj_val, batch_size=batch_size, shuffle=True)\n",
    "\n",
    "    for epoch in tqdm(range(epochs)):\n",
    "        running_loss = 0\n",
    "        for batch_pts in train_dataloader:\n",
    "            inp = batch_pts.float().to(device)\n",
    "            output = model(inp)\n",
    "            loss = criterion(output, inp)\n",
    "            running_loss += loss.item()\n",
    "\n",
    "            loss.backward()\n",
    "            optimizer.step()\n",
    "            optimizer.zero_grad()\n",
    "        epoch_rms = np.sqrt(running_loss / batch_size)\n",
    "        wandb.log({f\"{experiment_name}_{hidden_layer_dim}_train_loss\": epoch_rms})\n",
    "        # validate\n",
    "        running_loss = 0\n",
    "        with torch.no_grad():\n",
    "            for batch_pts in val_dataloader:\n",
    "                inp = batch_pts.float().to(device)\n",
    "                output = model(inp)\n",
    "                loss = criterion(output, inp)\n",
    "                running_loss += loss.item()\n",
    "        val_loss = np.sqrt(running_loss / batch_size)\n",
    "        wandb.log({f\"{experiment_name}_{hidden_layer_dim}_val_loss\": val_loss})\n",
    "    return model"
   ]
  },
  {
   "cell_type": "code",
   "execution_count": 8,
   "metadata": {
    "collapsed": false
   },
   "outputs": [],
   "source": [
    "def full_train(traj, experiment_name, max_hidden_size, epochs=1000, intermediate_dim=20, batch_size=32):\n",
    "    models = []\n",
    "    model_loss = []\n",
    "    criteriton = nn.MSELoss().to(device)\n",
    "    \n",
    "    for hidden_layer_size in tqdm(range(1, max_hidden_size + 1)):\n",
    "        model = train_model(traj, experiment_name, hidden_layer_size, intermediate_dim=intermediate_dim, batch_size=batch_size, epochs=epochs)\n",
    "        models.append(model)\n",
    "        with torch.no_grad():\n",
    "            test_traj = torch.Tensor(traj).to(device)\n",
    "            loss = criteriton(model(test_traj), test_traj)\n",
    "            model_loss.append(np.sqrt(loss.item()))\n",
    "    return models, model_loss"
   ]
  },
  {
   "cell_type": "code",
   "execution_count": 9,
   "metadata": {
    "collapsed": false
   },
   "outputs": [],
   "source": [
    "decision_threshold = 0.02"
   ]
  },
  {
   "cell_type": "code",
   "execution_count": 10,
   "metadata": {
    "collapsed": false
   },
   "outputs": [],
   "source": [
    "def plot_losses(experiment_name, n_eff, model_loss, max_hidden_size):\n",
    "    plt.scatter(range(1, max_hidden_size + 1), np.array(model_loss), c=[1 if x < n_eff else 0 for x in range(1, max_hidden_size + 1)])\n",
    "    plt.axhline(y=decision_threshold, color='blue', linestyle='--')\n",
    "    title = f\"{experiment_name} n_eff={n_eff}\"\n",
    "    plt.title(title)\n",
    "    plt.xlabel(\"hidden layer size\")\n",
    "    plt.ylabel(\"r.m.s. loss after auto-encoder\")\n",
    "    plt.savefig(f\"plot_{experiment_name}_2e-2\")\n",
    "    wandb.log({title: wandb.Image(f\"plot_{experiment_name}_2e-2.png\")})\n",
    "    plt.show()\n",
    "    plt.close()"
   ]
  },
  {
   "cell_type": "code",
   "execution_count": 11,
   "outputs": [],
   "source": [
    "def train_n_eff(exp: PhysExperiment, epochs=1000, intermediate_dim=20, batch_size=10):\n",
    "    traj = exp.single_trajectory(42)\n",
    "    n_eff = exp.n_eff\n",
    "    model = train_model(traj, exp.experiment_name, n_eff, epochs, intermediate_dim, batch_size)\n",
    "    test_traj = torch.Tensor(traj).to(device)\n",
    "    with torch.no_grad():\n",
    "        embedding = model.encoder(test_traj).detach().numpy()\n",
    "        transformed = model(test_traj).detach().numpy()\n",
    "\n",
    "        all_trajs = np.concatenate((traj, transformed))\n",
    "        color = np.concatenate((np.zeros(shape=(traj.shape[0], 1)), np.ones(shape=(transformed.shape[0], 1))))\n",
    "        exported = np.append(all_trajs, color, axis=1)\n",
    "        table = wandb.Table(columns=exp.column_names + [\"transformed\"], data=exported)\n",
    "        wandb.log({f\"{exp.experiment_name} before/after\": table})\n",
    "    if n_eff == 1:\n",
    "        # coloring\n",
    "        traj_with_color = np.append(traj, embedding, axis=1)\n",
    "        wandb.log({f\"{exp.experiment_name} coloring for n_eff=1 embedding\": wandb.Table(exp.column_names + [\"color\"], data=traj_with_color)})\n",
    "    elif n_eff == 2:\n",
    "        # 2d embedding\n",
    "        wandb.log({f\"{exp.experiment_name} 2d n_eff embedding\": wandb.Table([\"projection1\", \"projection2\"], embedding)})\n",
    "    elif n_eff == 3:\n",
    "        # 3d embedding\n",
    "        wandb.log({f\"{exp.experiment_name} 3d n_eff embedding\": wandb.Object3D(embedding)})\n",
    "    else:\n",
    "        wandb.alert(f\"no visual representation for n_eff={n_eff} with experiment {exp.experiment_name}\")"
   ],
   "metadata": {
    "collapsed": false
   }
  },
  {
   "cell_type": "markdown",
   "metadata": {
    "collapsed": false
   },
   "source": [
    "## 5-dimensional sphere (example)"
   ]
  },
  {
   "cell_type": "code",
   "execution_count": 35,
   "metadata": {
    "collapsed": false
   },
   "outputs": [
    {
     "name": "stdout",
     "output_type": "stream",
     "text": [
      "(1000, 5)\n"
     ]
    }
   ],
   "source": [
    "experiment_name = \"sphere5\"\n",
    "traj_s5 = np.array([rand_point(dim=5) for x in range(1000)])\n",
    "print(traj_s5.shape)\n",
    "n_eff = 4 # ground truth\n",
    "max_hidden_size = 6\n",
    "epochs = 5000"
   ]
  },
  {
   "cell_type": "code",
   "execution_count": 14,
   "metadata": {
    "collapsed": false,
    "pycharm": {
     "is_executing": true
    }
   },
   "outputs": [
    {
     "data": {
      "application/vnd.jupyter.widget-view+json": {
       "model_id": "151db81b35d6485eb6b68a305fb5c0d6",
       "version_major": 2,
       "version_minor": 0
      },
      "text/plain": [
       "  0%|          | 0/6 [00:00<?, ?it/s]"
      ]
     },
     "metadata": {},
     "output_type": "display_data"
    },
    {
     "data": {
      "application/vnd.jupyter.widget-view+json": {
       "model_id": "c8b8d584263a46b69f0122474f6a3174",
       "version_major": 2,
       "version_minor": 0
      },
      "text/plain": [
       "  0%|          | 0/5000 [00:00<?, ?it/s]"
      ]
     },
     "metadata": {},
     "output_type": "display_data"
    },
    {
     "data": {
      "application/vnd.jupyter.widget-view+json": {
       "model_id": "707a3e6772314f9ca75ce101e08866be",
       "version_major": 2,
       "version_minor": 0
      },
      "text/plain": [
       "  0%|          | 0/5000 [00:00<?, ?it/s]"
      ]
     },
     "metadata": {},
     "output_type": "display_data"
    },
    {
     "data": {
      "application/vnd.jupyter.widget-view+json": {
       "model_id": "121ea09d846b47fba0733fb061f36496",
       "version_major": 2,
       "version_minor": 0
      },
      "text/plain": [
       "  0%|          | 0/5000 [00:00<?, ?it/s]"
      ]
     },
     "metadata": {},
     "output_type": "display_data"
    },
    {
     "data": {
      "application/vnd.jupyter.widget-view+json": {
       "model_id": "e6c4b8e8113a492c84d941cd0e7fe89e",
       "version_major": 2,
       "version_minor": 0
      },
      "text/plain": [
       "  0%|          | 0/5000 [00:00<?, ?it/s]"
      ]
     },
     "metadata": {},
     "output_type": "display_data"
    },
    {
     "data": {
      "application/vnd.jupyter.widget-view+json": {
       "model_id": "b9c46624952640ceb6eca9a293122dfe",
       "version_major": 2,
       "version_minor": 0
      },
      "text/plain": [
       "  0%|          | 0/5000 [00:00<?, ?it/s]"
      ]
     },
     "metadata": {},
     "output_type": "display_data"
    },
    {
     "data": {
      "application/vnd.jupyter.widget-view+json": {
       "model_id": "35a28699786d40c286ec4975641f5ebf",
       "version_major": 2,
       "version_minor": 0
      },
      "text/plain": [
       "  0%|          | 0/5000 [00:00<?, ?it/s]"
      ]
     },
     "metadata": {},
     "output_type": "display_data"
    }
   ],
   "source": [
    "models_s5, epochs_s5 = full_train(traj_s5, experiment_name, max_hidden_size, epochs=epochs)"
   ]
  },
  {
   "cell_type": "code",
   "execution_count": 36,
   "metadata": {
    "collapsed": false,
    "pycharm": {
     "is_executing": true
    }
   },
   "outputs": [
    {
     "data": {
      "image/png": "[encoded data removed]",
      "text/plain": [
       "<Figure size 432x288 with 1 Axes>"
      ]
     },
     "metadata": {
      "needs_background": "light"
     },
     "output_type": "display_data"
    }
   ],
   "source": [
    "plot_losses(experiment_name, n_eff, epochs_s5, max_hidden_size)"
   ]
  },
  {
   "cell_type": "markdown",
   "metadata": {
    "collapsed": false
   },
   "source": [
    "## Pendulum"
   ]
  },
  {
   "cell_type": "code",
   "execution_count": 37,
   "metadata": {
    "collapsed": false,
    "pycharm": {
     "is_executing": true
    }
   },
   "outputs": [
    {
     "name": "stdout",
     "output_type": "stream",
     "text": [
      "(1000, 2)\n"
     ]
    }
   ],
   "source": [
    "exp = Pendulum\n",
    "experiment_name = exp.experiment_name\n",
    "traj_p = exp.single_trajectory(42)\n",
    "print(traj_p.shape)\n",
    "n_eff = exp.n_eff # ground truth\n",
    "max_hidden_size = n_eff + 3\n",
    "epochs = 5000"
   ]
  },
  {
   "cell_type": "code",
   "execution_count": 17,
   "metadata": {
    "collapsed": false,
    "pycharm": {
     "is_executing": true
    }
   },
   "outputs": [
    {
     "data": {
      "application/vnd.jupyter.widget-view+json": {
       "model_id": "89a02cb30b4d459b95daf5bac2476f5f",
       "version_major": 2,
       "version_minor": 0
      },
      "text/plain": [
       "  0%|          | 0/4 [00:00<?, ?it/s]"
      ]
     },
     "metadata": {},
     "output_type": "display_data"
    },
    {
     "data": {
      "application/vnd.jupyter.widget-view+json": {
       "model_id": "85edcf93762b4eccacdb7e35564e2545",
       "version_major": 2,
       "version_minor": 0
      },
      "text/plain": [
       "  0%|          | 0/5000 [00:00<?, ?it/s]"
      ]
     },
     "metadata": {},
     "output_type": "display_data"
    },
    {
     "data": {
      "application/vnd.jupyter.widget-view+json": {
       "model_id": "4e0aa071e648412f95a5141c8d36994d",
       "version_major": 2,
       "version_minor": 0
      },
      "text/plain": [
       "  0%|          | 0/5000 [00:00<?, ?it/s]"
      ]
     },
     "metadata": {},
     "output_type": "display_data"
    },
    {
     "data": {
      "application/vnd.jupyter.widget-view+json": {
       "model_id": "41f6777757e54ad28246ef2389e07eb9",
       "version_major": 2,
       "version_minor": 0
      },
      "text/plain": [
       "  0%|          | 0/5000 [00:00<?, ?it/s]"
      ]
     },
     "metadata": {},
     "output_type": "display_data"
    },
    {
     "data": {
      "application/vnd.jupyter.widget-view+json": {
       "model_id": "2083173717704f6eaa3822c3d92b5817",
       "version_major": 2,
       "version_minor": 0
      },
      "text/plain": [
       "  0%|          | 0/5000 [00:00<?, ?it/s]"
      ]
     },
     "metadata": {},
     "output_type": "display_data"
    }
   ],
   "source": [
    "models_p, epochs_p = full_train(traj_p, experiment_name, max_hidden_size, epochs=epochs)"
   ]
  },
  {
   "cell_type": "code",
   "execution_count": 38,
   "metadata": {
    "collapsed": false,
    "pycharm": {
     "is_executing": true
    }
   },
   "outputs": [
    {
     "data": {
      "image/png": "[encoded data removed]",
      "text/plain": [
       "<Figure size 432x288 with 1 Axes>"
      ]
     },
     "metadata": {
      "needs_background": "light"
     },
     "output_type": "display_data"
    }
   ],
   "source": [
    "plot_losses(experiment_name, n_eff, epochs_p, max_hidden_size)"
   ]
  },
  {
   "cell_type": "markdown",
   "metadata": {
    "collapsed": false
   },
   "source": [
    "## Harmonic oscillator"
   ]
  },
  {
   "cell_type": "code",
   "execution_count": 12,
   "metadata": {
    "collapsed": false
   },
   "outputs": [
    {
     "name": "stdout",
     "output_type": "stream",
     "text": [
      "(1000, 2)\n"
     ]
    }
   ],
   "source": [
    "exp = HarmonicOscillator\n",
    "experiment_name = exp.experiment_name\n",
    "traj_h = exp.single_trajectory(42)\n",
    "print(traj_h.shape)\n",
    "n_eff = exp.n_eff # ground truth\n",
    "max_hidden_size = n_eff + 3\n",
    "epochs = 5000"
   ]
  },
  {
   "cell_type": "code",
   "execution_count": 13,
   "outputs": [
    {
     "data": {
      "text/plain": "  0%|          | 0/1000 [00:00<?, ?it/s]",
      "application/vnd.jupyter.widget-view+json": {
       "version_major": 2,
       "version_minor": 0,
       "model_id": "204599d914de48668374b9cf55a7759d"
      }
     },
     "metadata": {},
     "output_type": "display_data"
    }
   ],
   "source": [
    "prime_model_h = train_model(traj_h, experiment_name, n_eff)"
   ],
   "metadata": {
    "collapsed": false
   }
  },
  {
   "cell_type": "code",
   "execution_count": 18,
   "outputs": [],
   "source": [
    "with torch.no_grad():\n",
    "    test_traj = torch.Tensor(traj_h).to(device)\n",
    "    colors = prime_model_h.encoder(test_traj).detach().numpy()\n",
    "    traj_with_color = np.append(traj_h, colors, axis=1)"
   ],
   "metadata": {
    "collapsed": false
   }
  },
  {
   "cell_type": "code",
   "execution_count": 20,
   "outputs": [
    {
     "data": {
      "text/plain": "<matplotlib.collections.PathCollection at 0x1b45fd94c40>"
     },
     "execution_count": 20,
     "metadata": {},
     "output_type": "execute_result"
    },
    {
     "data": {
      "text/plain": "<Figure size 640x480 with 1 Axes>",
      "image/png": "[encoded data removed]"
     },
     "metadata": {},
     "output_type": "display_data"
    }
   ],
   "source": [
    "plt.scatter(traj_with_color[:, 0], traj_with_color[:, 1], c=traj_with_color[:, 2])"
   ],
   "metadata": {
    "collapsed": false
   }
  },
  {
   "cell_type": "code",
   "execution_count": 20,
   "metadata": {
    "collapsed": false,
    "pycharm": {
     "is_executing": true
    }
   },
   "outputs": [
    {
     "data": {
      "application/vnd.jupyter.widget-view+json": {
       "model_id": "3671aeaa771c45198f2c96c292c0b166",
       "version_major": 2,
       "version_minor": 0
      },
      "text/plain": [
       "  0%|          | 0/4 [00:00<?, ?it/s]"
      ]
     },
     "metadata": {},
     "output_type": "display_data"
    },
    {
     "data": {
      "application/vnd.jupyter.widget-view+json": {
       "model_id": "1c1d291eebf24b189047f54ef3fb89a9",
       "version_major": 2,
       "version_minor": 0
      },
      "text/plain": [
       "  0%|          | 0/5000 [00:00<?, ?it/s]"
      ]
     },
     "metadata": {},
     "output_type": "display_data"
    },
    {
     "data": {
      "application/vnd.jupyter.widget-view+json": {
       "model_id": "a2556ac7080c40f98d21f168ec556f9a",
       "version_major": 2,
       "version_minor": 0
      },
      "text/plain": [
       "  0%|          | 0/5000 [00:00<?, ?it/s]"
      ]
     },
     "metadata": {},
     "output_type": "display_data"
    },
    {
     "data": {
      "application/vnd.jupyter.widget-view+json": {
       "model_id": "29c3381e7e714c40be7ed647e2752aea",
       "version_major": 2,
       "version_minor": 0
      },
      "text/plain": [
       "  0%|          | 0/5000 [00:00<?, ?it/s]"
      ]
     },
     "metadata": {},
     "output_type": "display_data"
    },
    {
     "data": {
      "application/vnd.jupyter.widget-view+json": {
       "model_id": "e9a3bfb5f40f4c16a3338e94dd665cfa",
       "version_major": 2,
       "version_minor": 0
      },
      "text/plain": [
       "  0%|          | 0/5000 [00:00<?, ?it/s]"
      ]
     },
     "metadata": {},
     "output_type": "display_data"
    }
   ],
   "source": [
    "models_h, epochs_h = full_train(traj_h, experiment_name, max_hidden_size, epochs=epochs)"
   ]
  },
  {
   "cell_type": "code",
   "execution_count": 40,
   "metadata": {
    "collapsed": false,
    "pycharm": {
     "is_executing": true
    }
   },
   "outputs": [
    {
     "data": {
      "image/png": "[encoded data removed]",
      "text/plain": [
       "<Figure size 432x288 with 1 Axes>"
      ]
     },
     "metadata": {
      "needs_background": "light"
     },
     "output_type": "display_data"
    }
   ],
   "source": [
    "plot_losses(experiment_name, n_eff, epochs_h, max_hidden_size)"
   ]
  },
  {
   "cell_type": "markdown",
   "metadata": {
    "collapsed": false
   },
   "source": [
    "## Double pendulum"
   ]
  },
  {
   "cell_type": "code",
   "execution_count": 41,
   "metadata": {
    "collapsed": false,
    "pycharm": {
     "is_executing": true
    }
   },
   "outputs": [
    {
     "name": "stdout",
     "output_type": "stream",
     "text": [
      "(1000, 4)\n"
     ]
    }
   ],
   "source": [
    "exp = DoublePendulum\n",
    "experiment_name = exp.experiment_name\n",
    "traj_dp = exp.single_trajectory(42)\n",
    "print(traj_dp.shape)\n",
    "n_eff = exp.n_eff # ground truth\n",
    "max_hidden_size = n_eff + 3\n",
    "epochs = 5000"
   ]
  },
  {
   "cell_type": "code",
   "execution_count": 24,
   "metadata": {
    "collapsed": false,
    "pycharm": {
     "is_executing": true
    }
   },
   "outputs": [
    {
     "data": {
      "application/vnd.jupyter.widget-view+json": {
       "model_id": "3ecf43d768974a48a3ea7b83e0e4ede9",
       "version_major": 2,
       "version_minor": 0
      },
      "text/plain": [
       "  0%|          | 0/6 [00:00<?, ?it/s]"
      ]
     },
     "metadata": {},
     "output_type": "display_data"
    },
    {
     "data": {
      "application/vnd.jupyter.widget-view+json": {
       "model_id": "3ed80c68f06f4a99b1d1321265852ce6",
       "version_major": 2,
       "version_minor": 0
      },
      "text/plain": [
       "  0%|          | 0/5000 [00:00<?, ?it/s]"
      ]
     },
     "metadata": {},
     "output_type": "display_data"
    },
    {
     "data": {
      "application/vnd.jupyter.widget-view+json": {
       "model_id": "017beea865184ee79e34dab35005fc66",
       "version_major": 2,
       "version_minor": 0
      },
      "text/plain": [
       "  0%|          | 0/5000 [00:00<?, ?it/s]"
      ]
     },
     "metadata": {},
     "output_type": "display_data"
    },
    {
     "data": {
      "application/vnd.jupyter.widget-view+json": {
       "model_id": "ea6ac0ad539d4de29287e761ad01e25b",
       "version_major": 2,
       "version_minor": 0
      },
      "text/plain": [
       "  0%|          | 0/5000 [00:00<?, ?it/s]"
      ]
     },
     "metadata": {},
     "output_type": "display_data"
    },
    {
     "data": {
      "application/vnd.jupyter.widget-view+json": {
       "model_id": "f5387c42baeb4d3f972d0ebefb3faf30",
       "version_major": 2,
       "version_minor": 0
      },
      "text/plain": [
       "  0%|          | 0/5000 [00:00<?, ?it/s]"
      ]
     },
     "metadata": {},
     "output_type": "display_data"
    },
    {
     "data": {
      "application/vnd.jupyter.widget-view+json": {
       "model_id": "b4d0b6fd43a24fa08ce2d403d1e17ef3",
       "version_major": 2,
       "version_minor": 0
      },
      "text/plain": [
       "  0%|          | 0/5000 [00:00<?, ?it/s]"
      ]
     },
     "metadata": {},
     "output_type": "display_data"
    },
    {
     "data": {
      "application/vnd.jupyter.widget-view+json": {
       "model_id": "f6e973aaa5b74436adb70319d1089a0a",
       "version_major": 2,
       "version_minor": 0
      },
      "text/plain": [
       "  0%|          | 0/5000 [00:00<?, ?it/s]"
      ]
     },
     "metadata": {},
     "output_type": "display_data"
    }
   ],
   "source": [
    "models_dp, epochs_dp = full_train(traj_dp, experiment_name, max_hidden_size, epochs=epochs)"
   ]
  },
  {
   "cell_type": "code",
   "execution_count": 42,
   "metadata": {
    "collapsed": false,
    "pycharm": {
     "is_executing": true
    }
   },
   "outputs": [
    {
     "data": {
      "image/png": "[encoded data removed]",
      "text/plain": [
       "<Figure size 432x288 with 1 Axes>"
      ]
     },
     "metadata": {
      "needs_background": "light"
     },
     "output_type": "display_data"
    }
   ],
   "source": [
    "plot_losses(experiment_name, n_eff, epochs_dp, max_hidden_size)"
   ]
  },
  {
   "cell_type": "markdown",
   "metadata": {
    "collapsed": false
   },
   "source": [
    "## Coupled oscillator"
   ]
  },
  {
   "cell_type": "code",
   "execution_count": 43,
   "metadata": {
    "collapsed": false,
    "pycharm": {
     "is_executing": true
    }
   },
   "outputs": [
    {
     "name": "stdout",
     "output_type": "stream",
     "text": [
      "(1000, 4)\n"
     ]
    }
   ],
   "source": [
    "exp = CoupledOscillator\n",
    "experiment_name = exp.experiment_name\n",
    "traj_co = exp.single_trajectory(42)\n",
    "print(traj_co.shape)\n",
    "n_eff = exp.n_eff # ground truth\n",
    "max_hidden_size = n_eff + 3\n",
    "epochs = 5000"
   ]
  },
  {
   "cell_type": "code",
   "execution_count": 27,
   "metadata": {
    "collapsed": false,
    "pycharm": {
     "is_executing": true
    }
   },
   "outputs": [
    {
     "data": {
      "application/vnd.jupyter.widget-view+json": {
       "model_id": "5fe8af2169454bed8e9f39b7ee8d165f",
       "version_major": 2,
       "version_minor": 0
      },
      "text/plain": [
       "  0%|          | 0/5 [00:00<?, ?it/s]"
      ]
     },
     "metadata": {},
     "output_type": "display_data"
    },
    {
     "data": {
      "application/vnd.jupyter.widget-view+json": {
       "model_id": "cf408f9a85d741bcaa33ce65433917bf",
       "version_major": 2,
       "version_minor": 0
      },
      "text/plain": [
       "  0%|          | 0/5000 [00:00<?, ?it/s]"
      ]
     },
     "metadata": {},
     "output_type": "display_data"
    },
    {
     "data": {
      "application/vnd.jupyter.widget-view+json": {
       "model_id": "2ccaec3b06144509b67e52500424881d",
       "version_major": 2,
       "version_minor": 0
      },
      "text/plain": [
       "  0%|          | 0/5000 [00:00<?, ?it/s]"
      ]
     },
     "metadata": {},
     "output_type": "display_data"
    },
    {
     "data": {
      "application/vnd.jupyter.widget-view+json": {
       "model_id": "1ec38241983640c2aed3756eb4647339",
       "version_major": 2,
       "version_minor": 0
      },
      "text/plain": [
       "  0%|          | 0/5000 [00:00<?, ?it/s]"
      ]
     },
     "metadata": {},
     "output_type": "display_data"
    },
    {
     "data": {
      "application/vnd.jupyter.widget-view+json": {
       "model_id": "5b27db9b8f31494f9abee86920265618",
       "version_major": 2,
       "version_minor": 0
      },
      "text/plain": [
       "  0%|          | 0/5000 [00:00<?, ?it/s]"
      ]
     },
     "metadata": {},
     "output_type": "display_data"
    },
    {
     "data": {
      "application/vnd.jupyter.widget-view+json": {
       "model_id": "97a72137fd0d4f6b8ec32395a3690579",
       "version_major": 2,
       "version_minor": 0
      },
      "text/plain": [
       "  0%|          | 0/5000 [00:00<?, ?it/s]"
      ]
     },
     "metadata": {},
     "output_type": "display_data"
    }
   ],
   "source": [
    "models_co, epochs_co = full_train(traj_co, experiment_name, max_hidden_size, epochs=epochs)"
   ]
  },
  {
   "cell_type": "code",
   "execution_count": 44,
   "metadata": {
    "collapsed": false,
    "pycharm": {
     "is_executing": true
    }
   },
   "outputs": [
    {
     "data": {
      "image/png": "[encoded data removed]",
      "text/plain": [
       "<Figure size 432x288 with 1 Axes>"
      ]
     },
     "metadata": {
      "needs_background": "light"
     },
     "output_type": "display_data"
    }
   ],
   "source": [
    "plot_losses(experiment_name, n_eff, epochs_co, max_hidden_size)"
   ]
  },
  {
   "cell_type": "markdown",
   "metadata": {
    "collapsed": false
   },
   "source": [
    "## Kepler problem"
   ]
  },
  {
   "cell_type": "code",
   "execution_count": 45,
   "metadata": {
    "collapsed": false,
    "pycharm": {
     "is_executing": true
    }
   },
   "outputs": [
    {
     "name": "stdout",
     "output_type": "stream",
     "text": [
      "(1000, 4)\n"
     ]
    }
   ],
   "source": [
    "exp = KeplerProblem\n",
    "experiment_name = exp.experiment_name\n",
    "traj_kp = exp.single_trajectory(42)\n",
    "print(traj_kp.shape)\n",
    "n_eff = exp.n_eff # ground truth\n",
    "max_hidden_size = n_eff + 3\n",
    "epochs = 5000"
   ]
  },
  {
   "cell_type": "code",
   "execution_count": 30,
   "metadata": {
    "collapsed": false,
    "pycharm": {
     "is_executing": true
    }
   },
   "outputs": [
    {
     "data": {
      "application/vnd.jupyter.widget-view+json": {
       "model_id": "c3c81feab6c8444a8a8b6473a8b385de",
       "version_major": 2,
       "version_minor": 0
      },
      "text/plain": [
       "  0%|          | 0/4 [00:00<?, ?it/s]"
      ]
     },
     "metadata": {},
     "output_type": "display_data"
    },
    {
     "data": {
      "application/vnd.jupyter.widget-view+json": {
       "model_id": "03b757e0c2f84333975f70ff2f68f041",
       "version_major": 2,
       "version_minor": 0
      },
      "text/plain": [
       "  0%|          | 0/5000 [00:00<?, ?it/s]"
      ]
     },
     "metadata": {},
     "output_type": "display_data"
    },
    {
     "data": {
      "application/vnd.jupyter.widget-view+json": {
       "model_id": "eb06206b11ef409dbd6ee0c28be40955",
       "version_major": 2,
       "version_minor": 0
      },
      "text/plain": [
       "  0%|          | 0/5000 [00:00<?, ?it/s]"
      ]
     },
     "metadata": {},
     "output_type": "display_data"
    },
    {
     "data": {
      "application/vnd.jupyter.widget-view+json": {
       "model_id": "d72233908fd4499a8b12fb3959cdb24c",
       "version_major": 2,
       "version_minor": 0
      },
      "text/plain": [
       "  0%|          | 0/5000 [00:00<?, ?it/s]"
      ]
     },
     "metadata": {},
     "output_type": "display_data"
    },
    {
     "data": {
      "application/vnd.jupyter.widget-view+json": {
       "model_id": "bb52e16b8819453a9f0cea740bfd4935",
       "version_major": 2,
       "version_minor": 0
      },
      "text/plain": [
       "  0%|          | 0/5000 [00:00<?, ?it/s]"
      ]
     },
     "metadata": {},
     "output_type": "display_data"
    }
   ],
   "source": [
    "models_kp, epochs_kp = full_train(traj_kp, experiment_name, max_hidden_size, epochs=epochs)"
   ]
  },
  {
   "cell_type": "code",
   "execution_count": 46,
   "metadata": {
    "collapsed": false,
    "pycharm": {
     "is_executing": true
    }
   },
   "outputs": [
    {
     "data": {
      "image/png": "[encoded data removed]",
      "text/plain": [
       "<Figure size 432x288 with 1 Axes>"
      ]
     },
     "metadata": {
      "needs_background": "light"
     },
     "output_type": "display_data"
    }
   ],
   "source": [
    "plot_losses(experiment_name, n_eff, epochs_kp, max_hidden_size)"
   ]
  },
  {
   "cell_type": "code",
   "execution_count": null,
   "outputs": [
    {
     "data": {
      "text/plain": "  0%|          | 0/4 [00:00<?, ?it/s]",
      "application/vnd.jupyter.widget-view+json": {
       "version_major": 2,
       "version_minor": 0,
       "model_id": "46c9dd33d30547569cb1a1a1857f067b"
      }
     },
     "metadata": {},
     "output_type": "display_data"
    },
    {
     "data": {
      "text/plain": "  0%|          | 0/5000 [00:00<?, ?it/s]",
      "application/vnd.jupyter.widget-view+json": {
       "version_major": 2,
       "version_minor": 0,
       "model_id": "9854957fcfcf481894b3ef6a52a5cee7"
      }
     },
     "metadata": {},
     "output_type": "display_data"
    },
    {
     "data": {
      "text/plain": "  0%|          | 0/5000 [00:00<?, ?it/s]",
      "application/vnd.jupyter.widget-view+json": {
       "version_major": 2,
       "version_minor": 0,
       "model_id": "06227eb701c0418e994af2f10afb214a"
      }
     },
     "metadata": {},
     "output_type": "display_data"
    },
    {
     "data": {
      "text/plain": "  0%|          | 0/5000 [00:00<?, ?it/s]",
      "application/vnd.jupyter.widget-view+json": {
       "version_major": 2,
       "version_minor": 0,
       "model_id": "513924cd97334d99965160b0247b6c14"
      }
     },
     "metadata": {},
     "output_type": "display_data"
    }
   ],
   "source": [
    "for exp in [DoublePendulumSmallEnergy, DoublePendulumLargeEnergy]:\n",
    "    traj = exp.single_trajectory(42)\n",
    "    max_hidden_size = exp.n_eff + 2\n",
    "    models, epochs = full_train(traj, exp.experiment_name, max_hidden_size, epochs=5000)\n",
    "    plot_losses(exp.experiment_name, exp.n_eff, epochs, max_hidden_size)"
   ],
   "metadata": {
    "collapsed": false,
    "pycharm": {
     "is_executing": true
    }
   }
  },
  {
   "cell_type": "code",
   "execution_count": 34,
   "outputs": [
    {
     "data": {
      "text/plain": "<IPython.core.display.HTML object>",
      "text/html": "Waiting for W&B process to finish... <strong style=\"color:green\">(success).</strong>"
     },
     "metadata": {},
     "output_type": "display_data"
    },
    {
     "data": {
      "text/plain": "<IPython.core.display.HTML object>",
      "text/html": "<style>\n    table.wandb td:nth-child(1) { padding: 0 10px; text-align: left ; width: auto;} td:nth-child(2) {text-align: left ; width: 100%}\n    .wandb-row { display: flex; flex-direction: row; flex-wrap: wrap; justify-content: flex-start; width: 100% }\n    .wandb-col { display: flex; flex-direction: column; flex-basis: 100%; flex: 1; padding: 10px; }\n    </style>\n<div class=\"wandb-row\"><div class=\"wandb-col\"><h3>Run history:</h3><br/><table class=\"wandb\"><tr><td>coupled_oscillator_2_train_loss</td><td>███▆▆▆▆▆▆▆▆▆▆▆▅▄▃▃▂▂▁▁▁▃▁▁▁▁▂▂▃▃▂▂▂▁▂▃▂▂</td></tr><tr><td>coupled_oscillator_2_val_loss</td><td>███▆▆▆▆▆▆▆▆▆▆▆▅▄▃▃▂▂▁▂▁▂▁▁▁▂▃▂▃▃▂▂▂▂▂▂▂▁</td></tr><tr><td>double_pendulum_3_train_loss</td><td>█▁▁▁▁▁▁▁▁▁▁▁▁▁▁▁▁▁▁▁▁▁▁▁▁▁▁▁▁▁▁▁▁▁▁▁▁▁▁▁</td></tr><tr><td>double_pendulum_3_val_loss</td><td>█▁▁▁▁▁▁▁▁▁▁▁▁▁▁▂▁▁▁▁▁▁▁▁▁▁▁▁▁▁▁▁▁▁▁▁▁▁▁▁</td></tr><tr><td>harmonic_oscillator_1_train_loss</td><td>██████▃▃▃▃▃▂▁▄▃▃▃▂▂▁▁▂▂▁▁▂▃▂▂▂▂▁▁▂▁▂▃▁▁▁</td></tr><tr><td>harmonic_oscillator_1_val_loss</td><td>██████▃▄▃▃▃▂▂▇▃▃▃▂▁▁▁▂▂▁▁▂▃▂▃▂▂▁▁▂▂▃▃▂▂▂</td></tr><tr><td>kepler_problem_1_train_loss</td><td>█▃▄▃▂▂▅▁▁▁▁▁▅▆▂▂▁▂▁▁▂▁▁▂▁▁▁▁▁▁▁▁▁▂▁▁▁▁▁▂</td></tr><tr><td>kepler_problem_1_val_loss</td><td>█▃▅▃▂▂▅▂▃▂▁▁▄▇▂▃▃▂▂▂▁▁▁▃▁▁▁▁▁▂▂▂▂▁▂▁▁▁▁▂</td></tr><tr><td>pendulum_1_train_loss</td><td>█▃▄▂▂▂▁▁▁▁▁▁▁▁▁▁▁▂▁▁▁▁▁▁▁▂▁▁▁▁▁▁▁▁▁▁▁▁▁▁</td></tr><tr><td>pendulum_1_val_loss</td><td>█▄▄▂▂▂▁▂▃▁▁▁▁▁▁▁▁▂▁▁▁▁▁▁▁▁▁▂▁▁▁▁▁▁▁▁▁▂▁▁</td></tr></table><br/></div><div class=\"wandb-col\"><h3>Run summary:</h3><br/><table class=\"wandb\"><tr><td>coupled_oscillator_2_train_loss</td><td>0.04853</td></tr><tr><td>coupled_oscillator_2_val_loss</td><td>0.02551</td></tr><tr><td>double_pendulum_3_train_loss</td><td>0.02731</td></tr><tr><td>double_pendulum_3_val_loss</td><td>0.01291</td></tr><tr><td>harmonic_oscillator_1_train_loss</td><td>0.01437</td></tr><tr><td>harmonic_oscillator_1_val_loss</td><td>0.05275</td></tr><tr><td>kepler_problem_1_train_loss</td><td>0.03074</td></tr><tr><td>kepler_problem_1_val_loss</td><td>0.02713</td></tr><tr><td>pendulum_1_train_loss</td><td>0.01828</td></tr><tr><td>pendulum_1_val_loss</td><td>0.00606</td></tr></table><br/></div></div>"
     },
     "metadata": {},
     "output_type": "display_data"
    },
    {
     "data": {
      "text/plain": "<IPython.core.display.HTML object>",
      "text/html": " View run <strong style=\"color:#cdcd00\">usual-pine-1</strong> at: <a href='https://wandb.ai/ai-prentice/Autoencoders%20Trajectory%20%28best%20encoding%29/runs/m8u9jbq0' target=\"_blank\">https://wandb.ai/ai-prentice/Autoencoders%20Trajectory%20%28best%20encoding%29/runs/m8u9jbq0</a><br/>Synced 5 W&B file(s), 10 media file(s), 9 artifact file(s) and 0 other file(s)"
     },
     "metadata": {},
     "output_type": "display_data"
    },
    {
     "data": {
      "text/plain": "<IPython.core.display.HTML object>",
      "text/html": "Find logs at: <code>.\\wandb\\run-20230228_204237-m8u9jbq0\\logs</code>"
     },
     "metadata": {},
     "output_type": "display_data"
    }
   ],
   "source": [
    "wandb.finish()"
   ],
   "metadata": {
    "collapsed": false
   }
  }
 ],
 "metadata": {
  "kernelspec": {
   "display_name": "base",
   "language": "python",
   "name": "python3"
  },
  "language_info": {
   "codemirror_mode": {
    "name": "ipython",
    "version": 3
   },
   "file_extension": ".py",
   "mimetype": "text/x-python",
   "name": "python",
   "nbconvert_exporter": "python",
   "pygments_lexer": "ipython3",
   "version": "3.8.13"
  },
  "vscode": {
   "interpreter": {
    "hash": "d4d1e4263499bec80672ea0156c357c1ee493ec2b1c70f0acce89fc37c4a6abe"
   }
  }
 },
 "nbformat": 4,
 "nbformat_minor": 0
}
