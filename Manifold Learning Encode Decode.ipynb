{
 "cells": [
  {
   "cell_type": "code",
   "execution_count": 1,
   "metadata": {
    "collapsed": true
   },
   "outputs": [],
   "source": [
    "import matplotlib.pyplot as plt\n",
    "import numpy as np\n",
    "from skimage.metrics import mean_squared_error\n",
    "from tqdm.notebook import tqdm\n",
    "import umap\n",
    "from sklearn.manifold import Isomap"
   ]
  },
  {
   "cell_type": "code",
   "execution_count": 2,
   "outputs": [],
   "source": [
    "from experiments import *"
   ],
   "metadata": {
    "collapsed": false
   }
  },
  {
   "cell_type": "code",
   "execution_count": 9,
   "outputs": [
    {
     "data": {
      "text/plain": "<IPython.core.display.HTML object>",
      "text/html": "Tracking run with wandb version 0.13.10"
     },
     "metadata": {},
     "output_type": "display_data"
    },
    {
     "data": {
      "text/plain": "<IPython.core.display.HTML object>",
      "text/html": "Run data is saved locally in <code>C:\\Users\\waleko\\Documents\\Projects\\hse\\ai-prentice-conservation-laws\\wandb\\run-20230221_211252-aa2cjodm</code>"
     },
     "metadata": {},
     "output_type": "display_data"
    },
    {
     "data": {
      "text/plain": "<IPython.core.display.HTML object>",
      "text/html": "Syncing run <strong><a href='https://wandb.ai/ai-prentice/manifold%20learning%20encode-decode/runs/aa2cjodm' target=\"_blank\">charmed-tree-6</a></strong> to <a href='https://wandb.ai/ai-prentice/manifold%20learning%20encode-decode' target=\"_blank\">Weights & Biases</a> (<a href='https://wandb.me/run' target=\"_blank\">docs</a>)<br/>"
     },
     "metadata": {},
     "output_type": "display_data"
    },
    {
     "data": {
      "text/plain": "<IPython.core.display.HTML object>",
      "text/html": " View project at <a href='https://wandb.ai/ai-prentice/manifold%20learning%20encode-decode' target=\"_blank\">https://wandb.ai/ai-prentice/manifold%20learning%20encode-decode</a>"
     },
     "metadata": {},
     "output_type": "display_data"
    },
    {
     "data": {
      "text/plain": "<IPython.core.display.HTML object>",
      "text/html": " View run at <a href='https://wandb.ai/ai-prentice/manifold%20learning%20encode-decode/runs/aa2cjodm' target=\"_blank\">https://wandb.ai/ai-prentice/manifold%20learning%20encode-decode/runs/aa2cjodm</a>"
     },
     "metadata": {},
     "output_type": "display_data"
    },
    {
     "data": {
      "text/html": "<button onClick=\"this.nextSibling.style.display='block';this.style.display='none';\">Display W&B run</button><iframe src='https://wandb.ai/ai-prentice/manifold%20learning%20encode-decode/runs/aa2cjodm?jupyter=true' style='border:none;width:100%;height:420px;display:none;'></iframe>",
      "text/plain": "<wandb.sdk.wandb_run.Run at 0x1becf218cd0>"
     },
     "execution_count": 9,
     "metadata": {},
     "output_type": "execute_result"
    }
   ],
   "source": [
    "import wandb\n",
    "wandb.init(project=\"manifold learning encode-decode\")"
   ],
   "metadata": {
    "collapsed": false
   }
  },
  {
   "cell_type": "code",
   "execution_count": 4,
   "outputs": [],
   "source": [
    "def umap_experiments():\n",
    "    for experiment in tqdm(common_experiments, position=0):\n",
    "        traj = experiment.single_trajectory(42)\n",
    "        # UMAP\n",
    "        pt_dim = experiment.pt_dim\n",
    "        embedding_sizes = range(2, pt_dim + 2) # UMAP doesn't support inverse transform on dim=1\n",
    "        losses = []\n",
    "        models = []\n",
    "        for embedding_size in tqdm(embedding_sizes, position=1):\n",
    "            model = umap.UMAP(n_neighbors=250, n_components=embedding_size, min_dist=0.0)\n",
    "            model.fit(traj)\n",
    "            traj_hat = model.inverse_transform(model.transform(traj))\n",
    "            loss = mean_squared_error(traj, traj_hat) ** 0.5 # r.m.s\n",
    "            models.append(model)\n",
    "            losses.append(loss)\n",
    "        plt.scatter(embedding_sizes, losses, c=[1 if x < experiment.n_eff else 0 for x in embedding_sizes])\n",
    "        plt.xlabel(\"embedding size\")\n",
    "        plt.ylabel(\"r.m.s. loss\")\n",
    "        plt.xticks(embedding_sizes)\n",
    "        pltname = f\"{experiment.experiment_name} UMAP losses\"\n",
    "        plt.title(pltname)\n",
    "        plt.savefig(pltname)\n",
    "        plt.close()\n",
    "        wandb.log({pltname : wandb.Image(f\"{pltname}.png\")})\n",
    "        last_good_embedding_idx = experiment.n_eff - 2\n",
    "        if last_good_embedding_idx >= 0 and experiment.plot_config is not None:\n",
    "            model = models[last_good_embedding_idx]\n",
    "            my_traj_hat = model.inverse_transform(model.transform(traj))\n",
    "            all_trajs = np.concatenate((traj, my_traj_hat))\n",
    "            color = np.concatenate((np.zeros(shape=(traj.shape[0], 1)), np.ones(shape=(my_traj_hat.shape[0], 1))))\n",
    "            exported = np.append(all_trajs, color, axis=1)\n",
    "            table = wandb.Table(columns=experiment.column_names + [\"transformed\"], data=exported)\n",
    "            wandb.log({f\"{experiment.experiment_name} UMAP Before/After\": table})"
   ],
   "metadata": {
    "collapsed": false
   }
  },
  {
   "cell_type": "code",
   "execution_count": 12,
   "outputs": [
    {
     "data": {
      "text/plain": "  0%|          | 0/5 [00:00<?, ?it/s]",
      "application/vnd.jupyter.widget-view+json": {
       "version_major": 2,
       "version_minor": 0,
       "model_id": "b5fb44d26a8d4283811b0f0d023be856"
      }
     },
     "metadata": {},
     "output_type": "display_data"
    },
    {
     "data": {
      "text/plain": "  0%|          | 0/2 [00:00<?, ?it/s]",
      "application/vnd.jupyter.widget-view+json": {
       "version_major": 2,
       "version_minor": 0,
       "model_id": "792f319a330741938e5aebe4e0f8d460"
      }
     },
     "metadata": {},
     "output_type": "display_data"
    },
    {
     "data": {
      "text/plain": "  0%|          | 0/2 [00:00<?, ?it/s]",
      "application/vnd.jupyter.widget-view+json": {
       "version_major": 2,
       "version_minor": 0,
       "model_id": "1f124891a1f04df1af9437ca21b81666"
      }
     },
     "metadata": {},
     "output_type": "display_data"
    },
    {
     "data": {
      "text/plain": "  0%|          | 0/4 [00:00<?, ?it/s]",
      "application/vnd.jupyter.widget-view+json": {
       "version_major": 2,
       "version_minor": 0,
       "model_id": "1686be5e67d1429e90fa99a47c1da573"
      }
     },
     "metadata": {},
     "output_type": "display_data"
    },
    {
     "data": {
      "text/plain": "  0%|          | 0/4 [00:00<?, ?it/s]",
      "application/vnd.jupyter.widget-view+json": {
       "version_major": 2,
       "version_minor": 0,
       "model_id": "5bb255b7fcf543abbb523cd137a6dc79"
      }
     },
     "metadata": {},
     "output_type": "display_data"
    },
    {
     "data": {
      "text/plain": "  0%|          | 0/4 [00:00<?, ?it/s]",
      "application/vnd.jupyter.widget-view+json": {
       "version_major": 2,
       "version_minor": 0,
       "model_id": "35ae46e4fac742f9a8c2bf43087f802c"
      }
     },
     "metadata": {},
     "output_type": "display_data"
    }
   ],
   "source": [
    "umap_experiments()"
   ],
   "metadata": {
    "collapsed": false
   }
  },
  {
   "cell_type": "code",
   "execution_count": 10,
   "outputs": [],
   "source": [
    "def isomap_experiments():\n",
    "    for experiment in tqdm(common_experiments, position=0):\n",
    "        traj = experiment.single_trajectory(42)\n",
    "        # UMAP\n",
    "        pt_dim = experiment.pt_dim\n",
    "        embedding_sizes = range(1, pt_dim + 2)\n",
    "        losses = []\n",
    "        models = []\n",
    "        for embedding_size in tqdm(embedding_sizes, position=1):\n",
    "            model = Isomap(n_neighbors=50, n_components=embedding_size)\n",
    "            model.fit(traj)\n",
    "            loss = model.reconstruction_error()\n",
    "            models.append(model)\n",
    "            losses.append(loss)\n",
    "        plt.scatter(embedding_sizes, losses, c=[1 if x < experiment.n_eff else 0 for x in embedding_sizes])\n",
    "        plt.xlabel(\"embedding size\")\n",
    "        plt.ylabel(\"reconstruction error\")\n",
    "        plt.xticks(embedding_sizes)\n",
    "        pltname = f\"{experiment.experiment_name} Isomap reconstruction errors\"\n",
    "        plt.title(pltname)\n",
    "        plt.savefig(pltname)\n",
    "        plt.close()\n",
    "        wandb.log({pltname : wandb.Image(f\"{pltname}.png\")})"
   ],
   "metadata": {
    "collapsed": false
   }
  },
  {
   "cell_type": "code",
   "execution_count": 11,
   "outputs": [
    {
     "data": {
      "text/plain": "  0%|          | 0/5 [00:00<?, ?it/s]",
      "application/vnd.jupyter.widget-view+json": {
       "version_major": 2,
       "version_minor": 0,
       "model_id": "fb0ce65efe5b49ff9e0cdf508a9c083f"
      }
     },
     "metadata": {},
     "output_type": "display_data"
    },
    {
     "data": {
      "text/plain": "  0%|          | 0/3 [00:00<?, ?it/s]",
      "application/vnd.jupyter.widget-view+json": {
       "version_major": 2,
       "version_minor": 0,
       "model_id": "339fb98b7d744c30a7e0ca0f55da0f2f"
      }
     },
     "metadata": {},
     "output_type": "display_data"
    },
    {
     "data": {
      "text/plain": "  0%|          | 0/3 [00:00<?, ?it/s]",
      "application/vnd.jupyter.widget-view+json": {
       "version_major": 2,
       "version_minor": 0,
       "model_id": "fef50fe66dd945d89232907638fecd2e"
      }
     },
     "metadata": {},
     "output_type": "display_data"
    },
    {
     "data": {
      "text/plain": "  0%|          | 0/5 [00:00<?, ?it/s]",
      "application/vnd.jupyter.widget-view+json": {
       "version_major": 2,
       "version_minor": 0,
       "model_id": "be33eaf21c8f4432b0d7eb3175597121"
      }
     },
     "metadata": {},
     "output_type": "display_data"
    },
    {
     "data": {
      "text/plain": "  0%|          | 0/5 [00:00<?, ?it/s]",
      "application/vnd.jupyter.widget-view+json": {
       "version_major": 2,
       "version_minor": 0,
       "model_id": "9ee8d7535e4040f3add74a79c2068ace"
      }
     },
     "metadata": {},
     "output_type": "display_data"
    },
    {
     "data": {
      "text/plain": "  0%|          | 0/5 [00:00<?, ?it/s]",
      "application/vnd.jupyter.widget-view+json": {
       "version_major": 2,
       "version_minor": 0,
       "model_id": "56315229107e4508a8773f8f77dd7c54"
      }
     },
     "metadata": {},
     "output_type": "display_data"
    }
   ],
   "source": [
    "isomap_experiments()"
   ],
   "metadata": {
    "collapsed": false
   }
  },
  {
   "cell_type": "code",
   "execution_count": 13,
   "outputs": [
    {
     "data": {
      "text/plain": "<IPython.core.display.HTML object>",
      "text/html": "Waiting for W&B process to finish... <strong style=\"color:green\">(success).</strong>"
     },
     "metadata": {},
     "output_type": "display_data"
    },
    {
     "data": {
      "text/plain": "<IPython.core.display.HTML object>",
      "text/html": " View run <strong style=\"color:#cdcd00\">charmed-tree-6</strong> at: <a href='https://wandb.ai/ai-prentice/manifold%20learning%20encode-decode/runs/aa2cjodm' target=\"_blank\">https://wandb.ai/ai-prentice/manifold%20learning%20encode-decode/runs/aa2cjodm</a><br/>Synced 5 W&B file(s), 12 media file(s), 2 artifact file(s) and 0 other file(s)"
     },
     "metadata": {},
     "output_type": "display_data"
    },
    {
     "data": {
      "text/plain": "<IPython.core.display.HTML object>",
      "text/html": "Find logs at: <code>.\\wandb\\run-20230221_211252-aa2cjodm\\logs</code>"
     },
     "metadata": {},
     "output_type": "display_data"
    }
   ],
   "source": [
    "wandb.finish()"
   ],
   "metadata": {
    "collapsed": false
   }
  }
 ],
 "metadata": {
  "kernelspec": {
   "display_name": "Python 3",
   "language": "python",
   "name": "python3"
  },
  "language_info": {
   "codemirror_mode": {
    "name": "ipython",
    "version": 2
   },
   "file_extension": ".py",
   "mimetype": "text/x-python",
   "name": "python",
   "nbconvert_exporter": "python",
   "pygments_lexer": "ipython2",
   "version": "2.7.6"
  }
 },
 "nbformat": 4,
 "nbformat_minor": 0
}
