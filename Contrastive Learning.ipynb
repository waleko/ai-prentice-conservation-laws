{
 "cells": [
  {
   "cell_type": "code",
   "execution_count": 1,
   "metadata": {
    "ExecuteTime": {
     "start_time": "2023-05-02T11:59:53.302802Z",
     "end_time": "2023-05-02T12:00:18.649380Z"
    },
    "collapsed": true
   },
   "outputs": [],
   "source": [
    "import numpy as np\n",
    "from matplotlib import pyplot as plt\n",
    "import torch\n",
    "\n",
    "from experiments import *\n",
    "import autoencoders as ae\n",
    "import wandb"
   ]
  },
  {
   "cell_type": "code",
   "execution_count": 2,
   "metadata": {
    "ExecuteTime": {
     "start_time": "2023-05-02T12:00:18.649380Z",
     "end_time": "2023-05-02T12:00:41.827389Z"
    }
   },
   "outputs": [
    {
     "name": "stderr",
     "output_type": "stream",
     "text": [
      "\u001B[34m\u001B[1mwandb\u001B[0m: Currently logged in as: \u001B[33mwaleko\u001B[0m (\u001B[33mai-prentice\u001B[0m). Use \u001B[1m`wandb login --relogin`\u001B[0m to force relogin\n"
     ]
    },
    {
     "data": {
      "text/plain": "<IPython.core.display.HTML object>",
      "text/html": "wandb version 0.15.0 is available!  To upgrade, please run:\n $ pip install wandb --upgrade"
     },
     "metadata": {},
     "output_type": "display_data"
    },
    {
     "data": {
      "text/plain": "<IPython.core.display.HTML object>",
      "text/html": "Tracking run with wandb version 0.13.10"
     },
     "metadata": {},
     "output_type": "display_data"
    },
    {
     "data": {
      "text/plain": "<IPython.core.display.HTML object>",
      "text/html": "Run data is saved locally in <code>C:\\Users\\waleko\\Documents\\Projects\\hse\\ai-prentice-conservation-laws\\wandb\\run-20230502_120024-t305byys</code>"
     },
     "metadata": {},
     "output_type": "display_data"
    },
    {
     "data": {
      "text/plain": "<IPython.core.display.HTML object>",
      "text/html": "Syncing run <strong><a href='https://wandb.ai/ai-prentice/contrastive%20test%20%28umap%29/runs/t305byys' target=\"_blank\">clear-plasma-15</a></strong> to <a href='https://wandb.ai/ai-prentice/contrastive%20test%20%28umap%29' target=\"_blank\">Weights & Biases</a> (<a href='https://wandb.me/run' target=\"_blank\">docs</a>)<br/>"
     },
     "metadata": {},
     "output_type": "display_data"
    },
    {
     "data": {
      "text/plain": "<IPython.core.display.HTML object>",
      "text/html": " View project at <a href='https://wandb.ai/ai-prentice/contrastive%20test%20%28umap%29' target=\"_blank\">https://wandb.ai/ai-prentice/contrastive%20test%20%28umap%29</a>"
     },
     "metadata": {},
     "output_type": "display_data"
    },
    {
     "data": {
      "text/plain": "<IPython.core.display.HTML object>",
      "text/html": " View run at <a href='https://wandb.ai/ai-prentice/contrastive%20test%20%28umap%29/runs/t305byys' target=\"_blank\">https://wandb.ai/ai-prentice/contrastive%20test%20%28umap%29/runs/t305byys</a>"
     },
     "metadata": {},
     "output_type": "display_data"
    },
    {
     "data": {
      "text/html": "<button onClick=\"this.nextSibling.style.display='block';this.style.display='none';\">Display W&B run</button><iframe src='https://wandb.ai/ai-prentice/contrastive%20test%20%28umap%29/runs/t305byys?jupyter=true' style='border:none;width:100%;height:420px;display:none;'></iframe>",
      "text/plain": "<wandb.sdk.wandb_run.Run at 0x2b41598b8b0>"
     },
     "execution_count": 2,
     "metadata": {},
     "output_type": "execute_result"
    }
   ],
   "source": [
    "wandb.init(project=\"contrastive test (umap)\")"
   ]
  },
  {
   "cell_type": "code",
   "execution_count": null,
   "outputs": [],
   "source": [
    "suite = ae.TrajectoryContrastiveSuite(Pendulum, contrastive_loss=ae.lifted_structured_loss(5, 1, 1), batch_size=128, epochs=500, do_animate=True)\n",
    "model = suite.train(40, 200)"
   ],
   "metadata": {
    "collapsed": false,
    "ExecuteTime": {
     "start_time": "2023-05-02T10:22:05.846932Z",
     "end_time": "2023-05-02T10:24:59.637663Z"
    }
   }
  },
  {
   "cell_type": "code",
   "execution_count": null,
   "outputs": [],
   "source": [
    "loss, mse = suite.test_num(model)\n",
    "print(loss, mse)"
   ],
   "metadata": {
    "collapsed": false,
    "ExecuteTime": {
     "start_time": "2023-05-02T10:27:20.397698Z",
     "end_time": "2023-05-02T10:27:24.331475Z"
    }
   }
  },
  {
   "cell_type": "code",
   "execution_count": null,
   "outputs": [],
   "source": [
    "x, x_prime, dyn, cons = suite.try_transform_num(model, 2)\n",
    "print(cons.min(), cons.max())\n",
    "plt.scatter(x[:, 0], x[:, 1], c='black', s=0.01)\n",
    "plt.scatter(x_prime[:, 0], x_prime[:, 1], c=dyn, s=1)"
   ],
   "metadata": {
    "collapsed": false,
    "ExecuteTime": {
     "start_time": "2023-05-02T10:28:05.855937Z",
     "end_time": "2023-05-02T10:28:06.020149Z"
    }
   }
  },
  {
   "cell_type": "code",
   "execution_count": null,
   "outputs": [],
   "source": [
    "x, x_prime, dyn, cons = suite.try_transform_num(model, 2)\n",
    "print(cons.min(), cons.max())\n",
    "plt.scatter(x[:, 0], x[:, 1], c='black', s=0.01)\n",
    "plt.scatter(x_prime[:, 0], x_prime[:, 1], c=dyn, s=1)"
   ],
   "metadata": {
    "collapsed": false,
    "ExecuteTime": {
     "start_time": "2023-05-02T10:28:10.739819Z",
     "end_time": "2023-05-02T10:28:10.916819Z"
    }
   }
  },
  {
   "cell_type": "markdown",
   "source": [
    "## UMAP & Wasserstein experiments"
   ],
   "metadata": {
    "collapsed": false
   }
  },
  {
   "cell_type": "code",
   "execution_count": 11,
   "outputs": [
    {
     "name": "stdout",
     "output_type": "stream",
     "text": [
      "Normalizing\n",
      "Computing distance matrix\n",
      "Embedding data and computing scores\n"
     ]
    },
    {
     "name": "stderr",
     "output_type": "stream",
     "text": [
      "C:\\Users\\waleko\\anaconda3\\lib\\site-packages\\umap\\umap_.py:1780: UserWarning: using precomputed metric; inverse_transform will be unavailable\n",
      "  warn(\"using precomputed metric; inverse_transform will be unavailable\")\n",
      "C:\\Users\\waleko\\anaconda3\\lib\\site-packages\\umap\\umap_.py:1780: UserWarning: using precomputed metric; inverse_transform will be unavailable\n",
      "  warn(\"using precomputed metric; inverse_transform will be unavailable\")\n",
      "C:\\Users\\waleko\\anaconda3\\lib\\site-packages\\umap\\umap_.py:1780: UserWarning: using precomputed metric; inverse_transform will be unavailable\n",
      "  warn(\"using precomputed metric; inverse_transform will be unavailable\")\n",
      "C:\\Users\\waleko\\anaconda3\\lib\\site-packages\\umap\\umap_.py:1780: UserWarning: using precomputed metric; inverse_transform will be unavailable\n",
      "  warn(\"using precomputed metric; inverse_transform will be unavailable\")\n",
      "C:\\Users\\waleko\\anaconda3\\lib\\site-packages\\umap\\umap_.py:1780: UserWarning: using precomputed metric; inverse_transform will be unavailable\n",
      "  warn(\"using precomputed metric; inverse_transform will be unavailable\")\n",
      "C:\\Users\\waleko\\anaconda3\\lib\\site-packages\\umap\\umap_.py:1780: UserWarning: using precomputed metric; inverse_transform will be unavailable\n",
      "  warn(\"using precomputed metric; inverse_transform will be unavailable\")\n",
      "C:\\Users\\waleko\\anaconda3\\lib\\site-packages\\umap\\umap_.py:1780: UserWarning: using precomputed metric; inverse_transform will be unavailable\n",
      "  warn(\"using precomputed metric; inverse_transform will be unavailable\")\n"
     ]
    },
    {
     "name": "stdout",
     "output_type": "stream",
     "text": [
      "Computing the dimensionality\n"
     ]
    }
   ],
   "source": [
    "exp = CoupledOscillator\n",
    "target_embedding, dist_matrix = exp.calc_umap_wd(200, 200)"
   ],
   "metadata": {
    "collapsed": false,
    "ExecuteTime": {
     "start_time": "2023-05-02T12:01:06.125183Z",
     "end_time": "2023-05-02T12:02:34.984605Z"
    }
   }
  },
  {
   "cell_type": "code",
   "execution_count": 13,
   "outputs": [],
   "source": [
    "target_embedding_tensor = torch.tensor(target_embedding).float()\n",
    "\n",
    "def umap_mse(embedding, labels, lambda_=0.1):\n",
    "    global target_embedding_tensor\n",
    "    return torch.mean((embedding - target_embedding_tensor[labels.long(),])**2) * lambda_"
   ],
   "metadata": {
    "collapsed": false,
    "ExecuteTime": {
     "start_time": "2023-05-02T12:02:38.337274Z",
     "end_time": "2023-05-02T12:02:38.356116Z"
    }
   }
  },
  {
   "cell_type": "code",
   "execution_count": 15,
   "outputs": [
    {
     "name": "stdout",
     "output_type": "stream",
     "text": [
      "Using cpu device...\n"
     ]
    },
    {
     "data": {
      "text/plain": "  0%|          | 0/500 [00:00<?, ?it/s]",
      "application/vnd.jupyter.widget-view+json": {
       "version_major": 2,
       "version_minor": 0,
       "model_id": "c872829b5609401fb53deb621b8e1e57"
      }
     },
     "metadata": {},
     "output_type": "display_data"
    },
    {
     "data": {
      "text/plain": "<Figure size 800x1200 with 2 Axes>",
      "image/png": "[encoded data removed]"
     },
     "metadata": {},
     "output_type": "display_data"
    }
   ],
   "source": [
    "suite = ae.TrajectoryContrastiveSuite(exp, contrastive_loss=umap_mse, batch_size=128, epochs=500, do_animate=True)\n",
    "model = suite.train(80, 200)"
   ],
   "metadata": {
    "collapsed": false,
    "ExecuteTime": {
     "start_time": "2023-05-02T12:02:51.052136Z",
     "end_time": "2023-05-02T12:07:40.176942Z"
    }
   }
  },
  {
   "cell_type": "code",
   "execution_count": null,
   "outputs": [],
   "source": [
    "x = exp.contrastive_data(20, 20)\n",
    "data = x[:, 1:]\n",
    "labels = x[:, 0]\n",
    "emb = model.encoder(torch.tensor(data).float())[:, 2:]"
   ],
   "metadata": {
    "collapsed": false,
    "ExecuteTime": {
     "start_time": "2023-05-02T11:07:27.163499Z",
     "end_time": "2023-05-02T11:07:27.191495Z"
    }
   }
  },
  {
   "cell_type": "code",
   "execution_count": null,
   "outputs": [],
   "source": [
    "loss = ae.center_loss(emb, torch.tensor(labels).long())"
   ],
   "metadata": {
    "collapsed": false,
    "ExecuteTime": {
     "start_time": "2023-05-02T11:07:29.139788Z",
     "end_time": "2023-05-02T11:07:29.156817Z"
    }
   }
  },
  {
   "cell_type": "code",
   "execution_count": null,
   "outputs": [],
   "source": [
    "loss, mse = suite.test_num(model)\n",
    "print(loss, mse)"
   ],
   "metadata": {
    "collapsed": false,
    "ExecuteTime": {
     "start_time": "2023-04-30T02:23:37.589660Z",
     "end_time": "2023-04-30T02:23:39.805084Z"
    }
   }
  },
  {
   "cell_type": "code",
   "execution_count": null,
   "outputs": [],
   "source": [
    "x = exp.data[0]\n",
    "x_prime, dyn, cons = suite.try_transform(model, x)\n",
    "print(cons[:, 0].min(), cons[:, 0].max())\n",
    "plt.scatter(x[:, 0], x[:, 1], c='black', s=0.01)\n",
    "plt.scatter(x_prime[:, 0], x_prime[:, 1], c=dyn[:, 0], s=1)"
   ],
   "metadata": {
    "collapsed": false,
    "ExecuteTime": {
     "start_time": "2023-05-02T11:02:56.054215Z",
     "end_time": "2023-05-02T11:02:56.301290Z"
    }
   }
  },
  {
   "cell_type": "code",
   "execution_count": null,
   "outputs": [],
   "source": [
    "x, x_prime, dyn, cons = suite.try_transform_num(model, 2)\n",
    "print(cons[:, 0].min(), cons[:, 0].max())\n",
    "plt.scatter(x[:, 0], x[:, 1], c='black', s=0.01)\n",
    "plt.scatter(x_prime[:, 0], x_prime[:, 1], c=dyn[:, 0], s=1)"
   ],
   "metadata": {
    "collapsed": false,
    "ExecuteTime": {
     "start_time": "2023-04-30T02:23:40.068511Z",
     "end_time": "2023-04-30T02:23:40.267751Z"
    }
   }
  },
  {
   "cell_type": "markdown",
   "source": [
    "### Wasserstein experiments"
   ],
   "metadata": {
    "collapsed": false
   }
  },
  {
   "cell_type": "code",
   "execution_count": 16,
   "outputs": [],
   "source": [
    "dist_matrix_tensor = torch.tensor(dist_matrix).float()\n",
    "\n",
    "def wasserstein_mse(embedding, labels):\n",
    "    global dist_matrix_tensor\n",
    "    center_loss = ae.center_loss(embedding, labels)\n",
    "    dist_loss = ae.diff_between_distances(embedding, labels, dist_matrix_tensor)\n",
    "    return (center_loss + dist_loss) * 0.01"
   ],
   "metadata": {
    "collapsed": false,
    "ExecuteTime": {
     "start_time": "2023-05-02T12:07:48.328245Z",
     "end_time": "2023-05-02T12:07:48.349910Z"
    }
   }
  },
  {
   "cell_type": "code",
   "execution_count": null,
   "outputs": [
    {
     "name": "stdout",
     "output_type": "stream",
     "text": [
      "Using cpu device...\n"
     ]
    },
    {
     "data": {
      "text/plain": "  0%|          | 0/1000 [00:00<?, ?it/s]",
      "application/vnd.jupyter.widget-view+json": {
       "version_major": 2,
       "version_minor": 0,
       "model_id": "0e01269d9c034b16afd1ea2364cdf387"
      }
     },
     "metadata": {},
     "output_type": "display_data"
    }
   ],
   "source": [
    "suite = ae.TrajectoryContrastiveSuite(exp, batch_size=256, contrastive_loss=wasserstein_mse, epochs=1000, do_animate=True)\n",
    "# data = exp.contrastive_data(1)\n",
    "model = suite.train(80, 200)\n",
    "# model = suite.train_traj_data(data)"
   ],
   "metadata": {
    "collapsed": false,
    "ExecuteTime": {
     "start_time": "2023-05-02T11:32:44.246263Z",
     "end_time": "2023-05-02T11:41:31.553509Z"
    },
    "pycharm": {
     "is_executing": true
    }
   }
  },
  {
   "cell_type": "code",
   "execution_count": null,
   "outputs": [],
   "source": [
    "res = suite.try_transform(model, data[:, 1:])[0]"
   ],
   "metadata": {
    "collapsed": false,
    "ExecuteTime": {
     "start_time": "2023-05-02T11:43:59.448490Z",
     "end_time": "2023-05-02T11:43:59.472546Z"
    }
   }
  },
  {
   "cell_type": "code",
   "execution_count": null,
   "outputs": [],
   "source": [
    "loss, mse = suite.test_num(model)\n",
    "print(loss, mse)"
   ],
   "metadata": {
    "collapsed": false,
    "ExecuteTime": {
     "start_time": "2023-05-02T11:44:00.146325Z",
     "end_time": "2023-05-02T11:44:04.741774Z"
    }
   }
  },
  {
   "cell_type": "code",
   "execution_count": null,
   "outputs": [],
   "source": [
    "x = exp.data[0]\n",
    "x_prime, dyn, cons = suite.try_transform(model, x)\n",
    "print(cons[:, 0].min(), cons[:, 0].max())\n",
    "plt.scatter(x[:, 0], x[:, 1], c='black', s=0.01)\n",
    "plt.scatter(x_prime[:, 0], x_prime[:, 1], c=dyn[:, 0], s=1)"
   ],
   "metadata": {
    "collapsed": false,
    "ExecuteTime": {
     "start_time": "2023-05-02T11:44:04.861312Z",
     "end_time": "2023-05-02T11:44:05.074335Z"
    }
   }
  },
  {
   "cell_type": "code",
   "execution_count": 4,
   "outputs": [],
   "source": [
    "exp = CoupledOscillator"
   ],
   "metadata": {
    "collapsed": false,
    "ExecuteTime": {
     "start_time": "2023-05-02T12:00:41.840923Z",
     "end_time": "2023-05-02T12:00:41.855030Z"
    }
   }
  },
  {
   "cell_type": "code",
   "execution_count": 3,
   "outputs": [],
   "source": [
    "import creating.coupled_oscillator as co"
   ],
   "metadata": {
    "collapsed": false,
    "ExecuteTime": {
     "start_time": "2023-05-02T12:00:41.821250Z",
     "end_time": "2023-05-02T12:00:41.855030Z"
    }
   }
  },
  {
   "cell_type": "code",
   "execution_count": null,
   "outputs": [],
   "source": [
    "x = exp.contrastive_data()[:, 1:]\n",
    "x_prime, dyn, cons = suite.try_transform(model, x)\n",
    "print(cons[:, 0].min(), cons[:, 0].max())\n",
    "cons0, cons1 = cons[:, 0], cons[:, 1]\n",
    "y_true = [co.energy(e) for e in x]\n",
    "plt.scatter(cons0, cons1, c=y_true, s=0.01)\n",
    "plt.scatter(cons0[:1000], cons1[:1000], c=y_true[:1000], s=10)"
   ],
   "metadata": {
    "collapsed": false,
    "ExecuteTime": {
     "start_time": "2023-05-02T11:56:26.508890Z",
     "end_time": "2023-05-02T11:56:29.867292Z"
    }
   }
  },
  {
   "cell_type": "code",
   "execution_count": 6,
   "outputs": [
    {
     "data": {
      "text/plain": "array([[ 0.00000000e+00, -3.68090511e-01,  2.49361401e-01,\n         2.43937149e-01, -7.58637401e-01],\n       [ 0.00000000e+00,  3.67948253e-01, -2.05588694e-01,\n        -7.90317660e-01,  2.87672334e-01],\n       [ 0.00000000e+00, -3.74083170e-01,  4.49085124e-01,\n         9.10811771e-02,  4.31783679e-01],\n       ...,\n       [ 1.99000000e+02,  1.61693560e-01,  6.77466082e-01,\n         8.87289519e-01,  2.40426386e-01],\n       [ 1.99000000e+02,  9.74800824e-01,  3.77938259e-01,\n        -3.83267216e-01,  1.12975293e-03],\n       [ 1.99000000e+02, -8.36526965e-01, -5.40513832e-01,\n        -6.29416204e-01,  3.47120776e-01]])"
     },
     "execution_count": 6,
     "metadata": {},
     "output_type": "execute_result"
    }
   ],
   "source": [
    "exp.contrastive_data()"
   ],
   "metadata": {
    "collapsed": false,
    "ExecuteTime": {
     "start_time": "2023-05-02T12:00:47.912954Z",
     "end_time": "2023-05-02T12:00:47.975146Z"
    }
   }
  },
  {
   "cell_type": "code",
   "execution_count": 7,
   "outputs": [],
   "source": [
    "traj = exp.contrastive_data()[:, 1:]\n",
    "energy_true = [co.energy(e) for e in traj]"
   ],
   "metadata": {
    "collapsed": false,
    "ExecuteTime": {
     "start_time": "2023-05-02T12:00:50.338036Z",
     "end_time": "2023-05-02T12:00:50.846650Z"
    }
   }
  },
  {
   "cell_type": "code",
   "execution_count": null,
   "outputs": [],
   "source": [
    "plt.scatter(target_embedding[:200, 0], target_embedding[:200, 1], c=y_true[::1000][:200])"
   ],
   "metadata": {
    "collapsed": false,
    "ExecuteTime": {
     "start_time": "2023-05-02T11:51:22.987454Z",
     "end_time": "2023-05-02T11:51:23.121065Z"
    }
   }
  }
 ],
 "metadata": {
  "kernelspec": {
   "display_name": "Python 3 (ipykernel)",
   "language": "python",
   "name": "python3"
  },
  "language_info": {
   "codemirror_mode": {
    "name": "ipython",
    "version": 3
   },
   "file_extension": ".py",
   "mimetype": "text/x-python",
   "name": "python",
   "nbconvert_exporter": "python",
   "pygments_lexer": "ipython3",
   "version": "3.9.13"
  }
 },
 "nbformat": 4,
 "nbformat_minor": 1
}
