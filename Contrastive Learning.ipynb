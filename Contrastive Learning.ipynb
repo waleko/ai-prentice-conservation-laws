{
 "cells": [
  {
   "cell_type": "code",
   "execution_count": null,
   "metadata": {
    "ExecuteTime": {
     "start_time": "2023-04-28T20:31:46.355782Z",
     "end_time": "2023-04-28T20:32:07.633225Z"
    },
    "collapsed": true
   },
   "outputs": [],
   "source": [
    "import numpy as np\n",
    "from matplotlib import pyplot as plt\n",
    "import torch\n",
    "\n",
    "from experiments import *\n",
    "import autoencoders as ae\n",
    "import wandb"
   ]
  },
  {
   "cell_type": "code",
   "execution_count": null,
   "metadata": {
    "ExecuteTime": {
     "start_time": "2023-04-28T20:32:07.645224Z",
     "end_time": "2023-04-28T20:32:25.742425Z"
    }
   },
   "outputs": [],
   "source": [
    "wandb.init(project=\"contrastive test\")"
   ]
  },
  {
   "cell_type": "code",
   "execution_count": null,
   "outputs": [],
   "source": [
    "suite = ae.TrajectoryContrastiveSuite(Pendulum, contrastive_loss=ae.lifted_structured_loss(5, 10, 0.1), batch_size=256, epochs=20)\n",
    "model = suite.train(80, 200)"
   ],
   "metadata": {
    "collapsed": false,
    "ExecuteTime": {
     "start_time": "2023-04-28T20:32:25.646218Z",
     "end_time": "2023-04-28T20:32:38.084963Z"
    }
   }
  },
  {
   "cell_type": "code",
   "execution_count": null,
   "outputs": [],
   "source": [
    "x, x_prime, dyn, cons = suite.try_transform_num(model)"
   ],
   "metadata": {
    "collapsed": false,
    "ExecuteTime": {
     "start_time": "2023-04-28T20:38:29.902190Z",
     "end_time": "2023-04-28T20:38:29.962725Z"
    }
   }
  },
  {
   "cell_type": "code",
   "execution_count": null,
   "outputs": [],
   "source": [
    "plt.scatter(x[:, 0], x[:, 1], c='black', s=0.01)\n",
    "plt.scatter(x_prime[:, 0], x_prime[:, 1], c=dyn, s=1)"
   ],
   "metadata": {
    "collapsed": false,
    "ExecuteTime": {
     "start_time": "2023-04-28T20:38:30.633445Z",
     "end_time": "2023-04-28T20:38:31.074259Z"
    }
   }
  },
  {
   "cell_type": "code",
   "execution_count": null,
   "metadata": {
    "ExecuteTime": {
     "start_time": "2023-04-26T00:24:11.471826Z",
     "end_time": "2023-04-26T00:24:18.016807Z"
    }
   },
   "outputs": [],
   "source": [
    "# suite = ae.TrajectoryAutoencoderSuite(CoupledOscillator, additional_loss=lambda _, __ , model: model.contrastive_loss(5, 1), batch_size=512, epochs=10, is_contrastive=True)\n",
    "# ree = suite.contrastive_learning(10000)\n",
    "# model = ree.model"
   ]
  },
  {
   "cell_type": "code",
   "execution_count": null,
   "metadata": {
    "ExecuteTime": {
     "start_time": "2023-04-26T00:21:33.660812Z",
     "end_time": "2023-04-26T00:21:34.277286Z"
    }
   },
   "outputs": [],
   "source": [
    "# c1 = Pendulum.contrastive_data(10000)[:1000]\n",
    "# c2 = Pendulum.contrastive_data(10000)[1000:2000]\n",
    "# # energies = Pendulum.contrastive_data(10000)[::1000]\n",
    "# #\n",
    "# # ee1 = ree(ae.torch.tensor(c1).to(suite.device).float().view(-1, 3))\n",
    "# # ee2 = ree(ae.torch.tensor(c2).to(suite.device).float().view(-1, 3))\n",
    "# # engs = model.encoder(ae.torch.tensor(energies).to(suite.device).float().view(-1, 3)[:, 1:])\n",
    "# # emb1 = model.encoder(ae.torch.tensor(c1).to(suite.device).float().view(-1, 3)[:, 1:])\n",
    "# # emb2 = model.encoder(ae.torch.tensor(c2).to(suite.device).float().view(-1, 3)[:, 1:])\n",
    "# # ee1_np = ee1.detach().cpu().numpy()\n",
    "# # ee2_np = ee2.detach().cpu().numpy()"
   ]
  },
  {
   "cell_type": "code",
   "execution_count": null,
   "metadata": {
    "ExecuteTime": {
     "start_time": "2023-04-26T00:19:28.542089Z",
     "end_time": "2023-04-26T00:19:28.654483Z"
    }
   },
   "outputs": [],
   "source": [
    "# print(ree.C_sim, ree.C_diff)"
   ]
  },
  {
   "cell_type": "code",
   "execution_count": null,
   "metadata": {
    "ExecuteTime": {
     "start_time": "2023-04-26T00:19:28.651470Z",
     "end_time": "2023-04-26T00:19:28.682652Z"
    }
   },
   "outputs": [],
   "source": []
  },
  {
   "cell_type": "code",
   "execution_count": null,
   "metadata": {
    "ExecuteTime": {
     "start_time": "2023-04-26T00:19:28.667028Z",
     "end_time": "2023-04-26T00:19:28.747879Z"
    }
   },
   "outputs": [],
   "source": [
    "# y_true = np.linalg.norm(energies[:, 1:], axis=-1)\n",
    "# y_pred = engs[:, 1].detach().numpy()"
   ]
  },
  {
   "cell_type": "code",
   "execution_count": null,
   "metadata": {
    "ExecuteTime": {
     "start_time": "2023-04-26T00:19:28.702726Z",
     "end_time": "2023-04-26T00:19:29.378721Z"
    }
   },
   "outputs": [],
   "source": [
    "# plt.scatter(y_pred, y_true)\n",
    "# plt.ylabel(\"true E\")\n",
    "# plt.xlabel(\"predicted E\")\n",
    "# plt.title(\"Correspondence of true and predicted E\")"
   ]
  },
  {
   "cell_type": "code",
   "execution_count": null,
   "metadata": {
    "ExecuteTime": {
     "start_time": "2023-04-26T00:19:29.377718Z",
     "end_time": "2023-04-26T00:19:29.597110Z"
    }
   },
   "outputs": [],
   "source": [
    "# plt.scatter(c1[:, 1], c1[:, 2], c='blue', s=1)\n",
    "# plt.scatter(c2[:, 1], c2[:, 2], c='blue', s=1)\n",
    "# plt.scatter(ee1_np[:, 0], ee1_np[:, 1], c='orange', s=1)\n",
    "# plt.scatter(ee2_np[:, 0], ee2_np[:, 1], c=emb2[:, 0].detach().numpy(), s=1)\n",
    "# plt.show()"
   ]
  },
  {
   "cell_type": "code",
   "execution_count": null,
   "metadata": {
    "ExecuteTime": {
     "start_time": "2023-04-26T00:19:29.603651Z",
     "end_time": "2023-04-26T00:19:30.876666Z"
    }
   },
   "outputs": [],
   "source": [
    "# plt.scatter(c1[:, 1], c1[:, 2], c='blue', s=1)\n",
    "# plt.scatter(c2[:, 1], c2[:, 2], c='blue', s=1)\n",
    "# plt.scatter(ee1_np[:, 0], ee1_np[:, 1], c=emb1[:, 0].detach().numpy(), s=1)\n",
    "# plt.scatter(ee2_np[:, 0], ee2_np[:, 1], c=emb2[:, 0].detach().numpy(), s=1)\n",
    "# plt.show()"
   ]
  }
 ],
 "metadata": {
  "kernelspec": {
   "display_name": "Python 3 (ipykernel)",
   "language": "python",
   "name": "python3"
  },
  "language_info": {
   "codemirror_mode": {
    "name": "ipython",
    "version": 3
   },
   "file_extension": ".py",
   "mimetype": "text/x-python",
   "name": "python",
   "nbconvert_exporter": "python",
   "pygments_lexer": "ipython3",
   "version": "3.9.13"
  }
 },
 "nbformat": 4,
 "nbformat_minor": 1
}
