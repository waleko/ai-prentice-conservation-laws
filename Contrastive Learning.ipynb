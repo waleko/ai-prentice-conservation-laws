{
 "cells": [
  {
   "cell_type": "code",
   "execution_count": null,
   "metadata": {
    "ExecuteTime": {
     "start_time": "2023-04-29T02:33:25.044336Z",
     "end_time": "2023-04-29T02:33:40.648973Z"
    },
    "collapsed": true
   },
   "outputs": [],
   "source": [
    "import numpy as np\n",
    "from matplotlib import pyplot as plt\n",
    "import torch\n",
    "\n",
    "from experiments import *\n",
    "import autoencoders as ae\n",
    "import wandb"
   ]
  },
  {
   "cell_type": "code",
   "execution_count": null,
   "metadata": {
    "ExecuteTime": {
     "start_time": "2023-04-29T02:33:40.674009Z",
     "end_time": "2023-04-29T02:33:57.902213Z"
    }
   },
   "outputs": [],
   "source": [
    "wandb.init(project=\"contrastive test\")"
   ]
  },
  {
   "cell_type": "code",
   "execution_count": null,
   "outputs": [],
   "source": [
    "suite = ae.TrajectoryContrastiveSuite(Pendulum, contrastive_loss=ae.lifted_structured_loss(1, 1, 0.01), batch_size=256, epochs=5000)\n",
    "model = suite.train(80, 200)"
   ],
   "metadata": {
    "collapsed": false,
    "ExecuteTime": {
     "start_time": "2023-04-29T02:33:57.882687Z",
     "end_time": "2023-04-29T02:34:09.386206Z"
    }
   }
  },
  {
   "cell_type": "code",
   "execution_count": null,
   "outputs": [],
   "source": [
    "loss, mse = suite.test_num(model)\n",
    "print(loss, mse)"
   ],
   "metadata": {
    "collapsed": false,
    "ExecuteTime": {
     "start_time": "2023-04-29T02:36:52.667068Z",
     "end_time": "2023-04-29T02:36:56.674811Z"
    }
   }
  },
  {
   "cell_type": "code",
   "execution_count": null,
   "outputs": [],
   "source": [
    "x, x_prime, dyn, cons = suite.try_transform_num(model, 1)\n",
    "print(cons.min(), cons.max())\n",
    "plt.scatter(x[:, 0], x[:, 1], c='black', s=0.01)\n",
    "plt.scatter(x_prime[:, 0], x_prime[:, 1], c=dyn, s=1)"
   ],
   "metadata": {
    "collapsed": false,
    "ExecuteTime": {
     "start_time": "2023-04-29T02:36:28.257002Z",
     "end_time": "2023-04-29T02:36:28.419651Z"
    }
   }
  },
  {
   "cell_type": "code",
   "execution_count": null,
   "outputs": [],
   "source": [
    "x, x_prime, dyn, cons = suite.try_transform_num(model, 2)\n",
    "print(cons.min(), cons.max())\n",
    "plt.scatter(x[:, 0], x[:, 1], c='black', s=0.01)\n",
    "plt.scatter(x_prime[:, 0], x_prime[:, 1], c=dyn, s=1)"
   ],
   "metadata": {
    "collapsed": false,
    "ExecuteTime": {
     "start_time": "2023-04-29T02:36:25.176885Z",
     "end_time": "2023-04-29T02:36:25.327004Z"
    }
   }
  }
 ],
 "metadata": {
  "kernelspec": {
   "display_name": "Python 3 (ipykernel)",
   "language": "python",
   "name": "python3"
  },
  "language_info": {
   "codemirror_mode": {
    "name": "ipython",
    "version": 3
   },
   "file_extension": ".py",
   "mimetype": "text/x-python",
   "name": "python",
   "nbconvert_exporter": "python",
   "pygments_lexer": "ipython3",
   "version": "3.9.13"
  }
 },
 "nbformat": 4,
 "nbformat_minor": 1
}
