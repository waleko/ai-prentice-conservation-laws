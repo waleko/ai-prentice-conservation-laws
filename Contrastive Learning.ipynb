{
 "cells": [
  {
   "cell_type": "code",
   "execution_count": null,
   "metadata": {
    "ExecuteTime": {
     "start_time": "2023-05-02T02:24:07.330167Z",
     "end_time": "2023-05-02T02:24:26.669821Z"
    },
    "collapsed": true
   },
   "outputs": [],
   "source": [
    "import numpy as np\n",
    "from matplotlib import pyplot as plt\n",
    "import torch\n",
    "\n",
    "from experiments import *\n",
    "import autoencoders as ae\n",
    "import wandb"
   ]
  },
  {
   "cell_type": "code",
   "execution_count": null,
   "metadata": {
    "ExecuteTime": {
     "start_time": "2023-05-02T02:24:26.687782Z",
     "end_time": "2023-05-02T02:24:44.182535Z"
    }
   },
   "outputs": [],
   "source": [
    "wandb.init(project=\"contrastive test (umap)\")"
   ]
  },
  {
   "cell_type": "code",
   "execution_count": null,
   "outputs": [],
   "source": [
    "suite = ae.TrajectoryContrastiveSuite(Pendulum, contrastive_loss=ae.lifted_structured_loss(5, 1, 0.01), batch_size=512, epochs=100, do_animate=True)\n",
    "model = suite.train(80, 200)"
   ],
   "metadata": {
    "collapsed": false,
    "ExecuteTime": {
     "start_time": "2023-05-01T22:16:30.289419Z",
     "end_time": "2023-05-01T22:17:39.889635Z"
    }
   }
  },
  {
   "cell_type": "code",
   "execution_count": null,
   "outputs": [],
   "source": [
    "loss, mse = suite.test_num(model)\n",
    "print(loss, mse)"
   ],
   "metadata": {
    "collapsed": false,
    "ExecuteTime": {
     "start_time": "2023-05-01T22:20:45.015290Z",
     "end_time": "2023-05-01T22:20:49.998104Z"
    }
   }
  },
  {
   "cell_type": "code",
   "execution_count": null,
   "outputs": [],
   "source": [
    "x, x_prime, dyn, cons = suite.try_transform_num(model, 1)\n",
    "print(cons.min(), cons.max())\n",
    "plt.scatter(x[:, 0], x[:, 1], c='black', s=0.01)\n",
    "plt.scatter(x_prime[:, 0], x_prime[:, 1], c=dyn, s=1)"
   ],
   "metadata": {
    "collapsed": false,
    "ExecuteTime": {
     "start_time": "2023-04-29T02:36:28.257002Z",
     "end_time": "2023-04-29T02:36:28.419651Z"
    }
   }
  },
  {
   "cell_type": "code",
   "execution_count": null,
   "outputs": [],
   "source": [
    "x, x_prime, dyn, cons = suite.try_transform_num(model, 2)\n",
    "print(cons.min(), cons.max())\n",
    "plt.scatter(x[:, 0], x[:, 1], c='black', s=0.01)\n",
    "plt.scatter(x_prime[:, 0], x_prime[:, 1], c=dyn, s=1)"
   ],
   "metadata": {
    "collapsed": false,
    "ExecuteTime": {
     "start_time": "2023-04-29T02:36:25.176885Z",
     "end_time": "2023-04-29T02:36:25.327004Z"
    }
   }
  },
  {
   "cell_type": "markdown",
   "source": [
    "## UMAP & Wasserstein experiments"
   ],
   "metadata": {
    "collapsed": false
   }
  },
  {
   "cell_type": "code",
   "execution_count": null,
   "outputs": [],
   "source": [
    "exp = CoupledOscillator\n",
    "target_embedding, dist_matrix = exp.calc_umap_wd(200, 200)"
   ],
   "metadata": {
    "collapsed": false,
    "ExecuteTime": {
     "start_time": "2023-05-02T02:28:23.704311Z",
     "end_time": "2023-05-02T02:29:51.489353Z"
    }
   }
  },
  {
   "cell_type": "code",
   "execution_count": null,
   "outputs": [],
   "source": [
    "target_embedding_tensor = torch.tensor(target_embedding).float()\n",
    "\n",
    "def umap_mse(embedding, labels, lambda_=1):\n",
    "    global target_embedding_tensor\n",
    "    return torch.mean((embedding - target_embedding_tensor[labels.long(),])**2) * lambda_"
   ],
   "metadata": {
    "collapsed": false,
    "ExecuteTime": {
     "start_time": "2023-05-01T21:43:48.257904Z",
     "end_time": "2023-05-01T21:43:48.271943Z"
    }
   }
  },
  {
   "cell_type": "code",
   "execution_count": null,
   "outputs": [],
   "source": [
    "suite = ae.TrajectoryContrastiveSuite(exp, contrastive_loss=umap_mse, batch_size=256, epochs=500, do_animate=True)\n",
    "model = suite.train(80, 200)"
   ],
   "metadata": {
    "collapsed": false,
    "ExecuteTime": {
     "start_time": "2023-05-01T21:43:49.060124Z",
     "end_time": "2023-05-01T21:47:26.411997Z"
    }
   }
  },
  {
   "cell_type": "code",
   "execution_count": null,
   "outputs": [],
   "source": [
    "loss, mse = suite.test_num(model)\n",
    "print(loss, mse)"
   ],
   "metadata": {
    "collapsed": false,
    "ExecuteTime": {
     "start_time": "2023-04-30T02:23:37.589660Z",
     "end_time": "2023-04-30T02:23:39.805084Z"
    }
   }
  },
  {
   "cell_type": "code",
   "execution_count": null,
   "outputs": [],
   "source": [
    "x = exp.data[0]\n",
    "x_prime, dyn, cons = suite.try_transform(model, x)\n",
    "print(cons[:, 0].min(), cons[:, 0].max())\n",
    "plt.scatter(x[:, 0], x[:, 1], c='black', s=0.01)\n",
    "plt.scatter(x_prime[:, 0], x_prime[:, 1], c=dyn[:, 0], s=1)"
   ],
   "metadata": {
    "collapsed": false,
    "ExecuteTime": {
     "start_time": "2023-04-30T02:23:39.811084Z",
     "end_time": "2023-04-30T02:23:40.063511Z"
    }
   }
  },
  {
   "cell_type": "code",
   "execution_count": null,
   "outputs": [],
   "source": [
    "x, x_prime, dyn, cons = suite.try_transform_num(model, 2)\n",
    "print(cons[:, 0].min(), cons[:, 0].max())\n",
    "plt.scatter(x[:, 0], x[:, 1], c='black', s=0.01)\n",
    "plt.scatter(x_prime[:, 0], x_prime[:, 1], c=dyn[:, 0], s=1)"
   ],
   "metadata": {
    "collapsed": false,
    "ExecuteTime": {
     "start_time": "2023-04-30T02:23:40.068511Z",
     "end_time": "2023-04-30T02:23:40.267751Z"
    }
   }
  },
  {
   "cell_type": "markdown",
   "source": [
    "### Wasserstein experiments"
   ],
   "metadata": {
    "collapsed": false
   }
  },
  {
   "cell_type": "code",
   "execution_count": null,
   "outputs": [],
   "source": [
    "dist_matrix_tensor = torch.tensor(dist_matrix).float()\n",
    "\n",
    "def wasserstein_mse(embedding, labels):\n",
    "    global dist_matrix_tensor\n",
    "    center_loss = ae.center_loss(embedding, labels)\n",
    "    dist_loss = ae.diff_between_distances(embedding, labels, dist_matrix_tensor)\n",
    "    return center_loss + dist_loss"
   ],
   "metadata": {
    "collapsed": false,
    "ExecuteTime": {
     "start_time": "2023-05-02T03:06:17.857840Z",
     "end_time": "2023-05-02T03:06:17.874833Z"
    }
   }
  },
  {
   "cell_type": "code",
   "execution_count": null,
   "outputs": [],
   "source": [
    "suite = ae.TrajectoryContrastiveSuite(exp, batch_size=256, contrastive_loss=wasserstein_mse, epochs=1000, do_animate=True)\n",
    "data = exp.contrastive_data(1)\n",
    "model = suite.train(80, 200)\n",
    "# model = suite.train_traj_data(data)"
   ],
   "metadata": {
    "collapsed": false,
    "ExecuteTime": {
     "start_time": "2023-05-02T03:06:20.303482Z",
     "end_time": "2023-05-02T03:16:20.645692Z"
    }
   }
  },
  {
   "cell_type": "code",
   "execution_count": null,
   "outputs": [],
   "source": [
    "res = suite.try_transform(model, data[:, 1:])[0]"
   ],
   "metadata": {
    "collapsed": false,
    "ExecuteTime": {
     "start_time": "2023-05-02T02:28:06.708573Z",
     "end_time": "2023-05-02T02:28:06.724571Z"
    }
   }
  },
  {
   "cell_type": "code",
   "execution_count": null,
   "outputs": [],
   "source": [
    "loss, mse = suite.test_num(model)\n",
    "print(loss, mse)"
   ],
   "metadata": {
    "collapsed": false,
    "ExecuteTime": {
     "start_time": "2023-05-02T03:01:57.761349Z",
     "end_time": "2023-05-02T03:02:02.615066Z"
    }
   }
  },
  {
   "cell_type": "code",
   "execution_count": null,
   "outputs": [],
   "source": [
    "x = exp.data[0]\n",
    "x_prime, dyn, cons = suite.try_transform(model, x)\n",
    "print(cons[:, 0].min(), cons[:, 0].max())\n",
    "plt.scatter(x[:, 0], x[:, 1], c='black', s=0.01)\n",
    "plt.scatter(x_prime[:, 0], x_prime[:, 1], c=dyn[:, 0], s=1)"
   ],
   "metadata": {
    "collapsed": false,
    "ExecuteTime": {
     "start_time": "2023-05-02T03:16:46.765642Z",
     "end_time": "2023-05-02T03:16:46.947640Z"
    }
   }
  },
  {
   "cell_type": "code",
   "execution_count": null,
   "outputs": [],
   "source": [
    "import creating.coupled_oscillator as co"
   ],
   "metadata": {
    "collapsed": false,
    "ExecuteTime": {
     "start_time": "2023-05-02T02:59:37.093919Z",
     "end_time": "2023-05-02T02:59:37.102915Z"
    }
   }
  },
  {
   "cell_type": "code",
   "execution_count": null,
   "outputs": [],
   "source": [
    "x = exp.contrastive_data()[:, 1:]\n",
    "x_prime, dyn, cons = suite.try_transform(model, x)\n",
    "print(cons[:, 0].min(), cons[:, 0].max())\n",
    "cons0, cons1 = cons[:, 0], cons[:, 1]\n",
    "y_true = [co.energy2(e) for e in x]\n",
    "plt.scatter(cons0, cons1, c=y_true, s=0.01)\n",
    "plt.scatter(cons0[:1000], cons1[:1000], c=y_true[:1000], s=10)"
   ],
   "metadata": {
    "collapsed": false,
    "ExecuteTime": {
     "start_time": "2023-05-02T02:59:37.768840Z",
     "end_time": "2023-05-02T02:59:40.885168Z"
    }
   }
  }
 ],
 "metadata": {
  "kernelspec": {
   "display_name": "Python 3 (ipykernel)",
   "language": "python",
   "name": "python3"
  },
  "language_info": {
   "codemirror_mode": {
    "name": "ipython",
    "version": 3
   },
   "file_extension": ".py",
   "mimetype": "text/x-python",
   "name": "python",
   "nbconvert_exporter": "python",
   "pygments_lexer": "ipython3",
   "version": "3.9.13"
  }
 },
 "nbformat": 4,
 "nbformat_minor": 1
}
