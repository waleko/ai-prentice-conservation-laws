{
 "cells": [
  {
   "cell_type": "code",
   "execution_count": null,
   "metadata": {
    "ExecuteTime": {
     "start_time": "2023-05-03T00:14:53.705316Z",
     "end_time": "2023-05-03T00:15:15.825210Z"
    },
    "collapsed": true
   },
   "outputs": [],
   "source": [
    "import numpy as np\n",
    "from matplotlib import pyplot as plt\n",
    "import torch\n",
    "\n",
    "from experiments import *\n",
    "import autoencoders as ae\n",
    "import wandb"
   ]
  },
  {
   "cell_type": "markdown",
   "source": [
    "## Full-contrastive experiments"
   ],
   "metadata": {
    "collapsed": false
   }
  },
  {
   "cell_type": "code",
   "execution_count": null,
   "metadata": {
    "ExecuteTime": {
     "start_time": "2023-05-02T12:00:18.649380Z",
     "end_time": "2023-05-02T12:00:41.827389Z"
    }
   },
   "outputs": [],
   "source": [
    "wandb.init(project=\"contrastive test (full)\")"
   ]
  },
  {
   "cell_type": "code",
   "execution_count": null,
   "outputs": [],
   "source": [
    "suite = ae.TrajectoryContrastiveSuite(Pendulum, contrastive_loss=ae.lifted_structured_loss(5, 1, 1), batch_size=128, epochs=500, do_animate=True)\n",
    "model = suite.train(40, 200)"
   ],
   "metadata": {
    "collapsed": false,
    "ExecuteTime": {
     "start_time": "2023-05-02T10:22:05.846932Z",
     "end_time": "2023-05-02T10:24:59.637663Z"
    }
   }
  },
  {
   "cell_type": "code",
   "execution_count": null,
   "outputs": [],
   "source": [
    "loss, mse = suite.test_num(model)\n",
    "print(loss, mse)"
   ],
   "metadata": {
    "collapsed": false,
    "ExecuteTime": {
     "start_time": "2023-05-02T10:27:20.397698Z",
     "end_time": "2023-05-02T10:27:24.331475Z"
    }
   }
  },
  {
   "cell_type": "code",
   "execution_count": null,
   "outputs": [],
   "source": [
    "x, x_prime, dyn, cons = suite.try_transform_num(model, 2)\n",
    "print(cons.min(), cons.max())\n",
    "plt.scatter(x[:, 0], x[:, 1], c='black', s=0.01)\n",
    "plt.scatter(x_prime[:, 0], x_prime[:, 1], c=dyn, s=1)"
   ],
   "metadata": {
    "collapsed": false,
    "ExecuteTime": {
     "start_time": "2023-05-02T10:28:05.855937Z",
     "end_time": "2023-05-02T10:28:06.020149Z"
    }
   }
  },
  {
   "cell_type": "code",
   "execution_count": null,
   "outputs": [],
   "source": [
    "x, x_prime, dyn, cons = suite.try_transform_num(model, 2)\n",
    "print(cons.min(), cons.max())\n",
    "plt.scatter(x[:, 0], x[:, 1], c='black', s=0.01)\n",
    "plt.scatter(x_prime[:, 0], x_prime[:, 1], c=dyn, s=1)"
   ],
   "metadata": {
    "collapsed": false,
    "ExecuteTime": {
     "start_time": "2023-05-02T10:28:10.739819Z",
     "end_time": "2023-05-02T10:28:10.916819Z"
    }
   }
  },
  {
   "cell_type": "markdown",
   "source": [
    "## UMAP & Wasserstein experiments\n",
    "Coupled oscillator for now"
   ],
   "metadata": {
    "collapsed": false
   }
  },
  {
   "cell_type": "code",
   "execution_count": null,
   "outputs": [],
   "source": [
    "exp = CoupledOscillator\n",
    "target_embedding, dist_matrix = exp.calc_umap_wd(200, 200)"
   ],
   "metadata": {
    "collapsed": false,
    "ExecuteTime": {
     "start_time": "2023-05-03T00:15:15.829207Z",
     "end_time": "2023-05-03T00:16:43.975760Z"
    }
   }
  },
  {
   "cell_type": "markdown",
   "source": [
    "### UMAP experiments"
   ],
   "metadata": {
    "collapsed": false
   }
  },
  {
   "cell_type": "code",
   "execution_count": null,
   "outputs": [],
   "source": [
    "wandb.init(project=\"contrastive test (umap)\")"
   ],
   "metadata": {
    "collapsed": false,
    "ExecuteTime": {
     "start_time": "2023-05-03T00:16:43.977755Z",
     "end_time": "2023-05-03T00:17:03.710825Z"
    }
   }
  },
  {
   "cell_type": "code",
   "execution_count": null,
   "outputs": [],
   "source": [
    "target_embedding_tensor = torch.tensor(target_embedding).float()\n",
    "\n",
    "def umap_mse(embedding, labels, lambda_=0.1):\n",
    "    global target_embedding_tensor\n",
    "    return torch.mean((embedding - target_embedding_tensor[labels.long(),])**2) * lambda_"
   ],
   "metadata": {
    "collapsed": false,
    "ExecuteTime": {
     "start_time": "2023-05-03T00:17:03.692829Z",
     "end_time": "2023-05-03T00:17:03.783355Z"
    }
   }
  },
  {
   "cell_type": "code",
   "execution_count": null,
   "outputs": [],
   "source": [
    "suite = ae.TrajectoryContrastiveSuite(exp, contrastive_loss=umap_mse, batch_size=128, epochs=2000, do_animate=True, optim_config={\"step_size\": 500, \"gamma\": 0.5})\n",
    "model = suite.train(80, 200)"
   ],
   "metadata": {
    "collapsed": false,
    "ExecuteTime": {
     "start_time": "2023-05-02T23:44:41.012261Z",
     "end_time": "2023-05-02T23:54:01.447516Z"
    }
   }
  },
  {
   "cell_type": "code",
   "execution_count": null,
   "outputs": [],
   "source": [
    "x = exp.contrastive_data(20, 20)\n",
    "data = x[:, 1:]\n",
    "labels = x[:, 0]\n",
    "emb = model.encoder(torch.tensor(data).float())[:, 2:]"
   ],
   "metadata": {
    "collapsed": false,
    "ExecuteTime": {
     "start_time": "2023-05-02T12:58:41.332532Z",
     "end_time": "2023-05-02T12:58:41.363537Z"
    }
   }
  },
  {
   "cell_type": "code",
   "execution_count": null,
   "outputs": [],
   "source": [
    "loss, mse = suite.test_num(model)\n",
    "print(loss, mse)"
   ],
   "metadata": {
    "collapsed": false,
    "ExecuteTime": {
     "start_time": "2023-04-30T02:23:37.589660Z",
     "end_time": "2023-04-30T02:23:39.805084Z"
    }
   }
  },
  {
   "cell_type": "code",
   "execution_count": null,
   "outputs": [],
   "source": [
    "x = exp.data[0]\n",
    "x_prime, dyn, cons = suite.try_transform(model, x)\n",
    "print(cons[:, 0].min(), cons[:, 0].max())\n",
    "plt.scatter(x[:, 0], x[:, 1], c='black', s=0.01)\n",
    "plt.scatter(x_prime[:, 0], x_prime[:, 1], c=dyn[:, 0], s=1)\n",
    "dyn1 = dyn"
   ],
   "metadata": {
    "collapsed": false,
    "ExecuteTime": {
     "start_time": "2023-05-02T14:24:08.731644Z",
     "end_time": "2023-05-02T14:24:08.946699Z"
    }
   }
  },
  {
   "cell_type": "code",
   "execution_count": null,
   "outputs": [],
   "source": [
    "x, x_prime, dyn, cons = suite.try_transform_num(model, 3)\n",
    "print(cons[:, 0].min(), cons[:, 0].max())\n",
    "plt.scatter(x[:, 0], x[:, 1], c='black', s=0.01)\n",
    "plt.scatter(x_prime[:, 0], x_prime[:, 1], c=dyn[:, 0], s=1)\n",
    "dyn3 = dyn"
   ],
   "metadata": {
    "collapsed": false,
    "ExecuteTime": {
     "start_time": "2023-05-02T14:27:19.642842Z",
     "end_time": "2023-05-02T14:27:19.870736Z"
    }
   }
  },
  {
   "cell_type": "code",
   "execution_count": null,
   "outputs": [],
   "source": [
    "plt.scatter(dyn1[:, 0], dyn1[:, 1], s=1, label=\"traj 1\")\n",
    "plt.scatter(dyn2[:, 0], dyn2[:, 1], s=1, label=\"traj 2\")\n",
    "plt.scatter(dyn3[:, 0], dyn3[:, 1], s=1, label=\"traj 3\")\n",
    "plt.legend()\n",
    "plt.xlabel(\"dyn0\")\n",
    "plt.ylabel(\"dyn1\")\n",
    "plt.title(\"Inner dynamic embedding\")"
   ],
   "metadata": {
    "collapsed": false,
    "ExecuteTime": {
     "start_time": "2023-05-02T14:27:28.573148Z",
     "end_time": "2023-05-02T14:27:28.903838Z"
    }
   }
  },
  {
   "cell_type": "markdown",
   "source": [
    "### Wasserstein experiments"
   ],
   "metadata": {
    "collapsed": false
   }
  },
  {
   "cell_type": "code",
   "execution_count": null,
   "outputs": [],
   "source": [
    "dist_matrix_tensor = torch.tensor(dist_matrix).float()\n",
    "\n",
    "def wasserstein_mse(embedding, labels):\n",
    "    global dist_matrix_tensor\n",
    "    center_loss = ae.center_loss(embedding, labels)\n",
    "    dist_loss = ae.diff_between_distances(embedding, labels, dist_matrix_tensor)\n",
    "    return (center_loss + dist_loss) * 0.01"
   ],
   "metadata": {
    "collapsed": false,
    "ExecuteTime": {
     "start_time": "2023-05-02T12:07:48.328245Z",
     "end_time": "2023-05-02T12:07:48.349910Z"
    }
   }
  },
  {
   "cell_type": "code",
   "execution_count": null,
   "outputs": [],
   "source": [
    "wandb.init(project=\"contrastive test (wasserstein)\")"
   ],
   "metadata": {
    "collapsed": false,
    "ExecuteTime": {
     "start_time": "2023-05-02T12:32:11.465990Z",
     "end_time": "2023-05-02T12:32:34.652413Z"
    }
   }
  },
  {
   "cell_type": "code",
   "execution_count": null,
   "outputs": [],
   "source": [
    "suite = ae.TrajectoryContrastiveSuite(exp, batch_size=256, contrastive_loss=wasserstein_mse, epochs=1000, do_animate=True, init_lr=0.03)\n",
    "# data = exp.contrastive_data(1)\n",
    "model = suite.train(80, 200)\n",
    "# model = suite.train_traj_data(data)"
   ],
   "metadata": {
    "collapsed": false,
    "ExecuteTime": {
     "start_time": "2023-05-02T12:32:56.054755Z",
     "end_time": "2023-05-02T12:45:32.565205Z"
    }
   }
  },
  {
   "cell_type": "code",
   "execution_count": null,
   "outputs": [],
   "source": [
    "loss, mse = suite.test_num(model)\n",
    "print(loss, mse)"
   ],
   "metadata": {
    "collapsed": false,
    "ExecuteTime": {
     "start_time": "2023-05-02T12:45:42.389494Z",
     "end_time": "2023-05-02T12:45:47.604200Z"
    }
   }
  },
  {
   "cell_type": "code",
   "execution_count": null,
   "outputs": [],
   "source": [
    "x = exp.data[0]\n",
    "x_prime, dyn, cons = suite.try_transform(model, x)\n",
    "print(cons[:, 0].min(), cons[:, 0].max())\n",
    "plt.scatter(x[:, 0], x[:, 1], c='black', s=0.01)\n",
    "plt.scatter(x_prime[:, 0], x_prime[:, 1], c=dyn[:, 0], s=1)"
   ],
   "metadata": {
    "collapsed": false,
    "ExecuteTime": {
     "start_time": "2023-05-02T12:45:47.615198Z",
     "end_time": "2023-05-02T12:45:47.782575Z"
    }
   }
  },
  {
   "cell_type": "code",
   "execution_count": null,
   "outputs": [],
   "source": [
    "import creating.coupled_oscillator as co"
   ],
   "metadata": {
    "collapsed": false,
    "ExecuteTime": {
     "start_time": "2023-05-02T12:45:47.786579Z",
     "end_time": "2023-05-02T12:45:47.790581Z"
    }
   }
  },
  {
   "cell_type": "code",
   "execution_count": null,
   "outputs": [],
   "source": [
    "x = exp.contrastive_data()[:, 1:]\n",
    "x_prime, dyn, cons = suite.try_transform(model, x)\n",
    "print(cons[:, 0].min(), cons[:, 0].max())\n",
    "cons0, cons1 = cons[:, 0], cons[:, 1]\n",
    "y_true = [co.energy2(e) for e in x]\n",
    "plt.scatter(cons0, cons1, c=y_true, s=0.01)\n",
    "plt.scatter(cons0[:1000], cons1[:1000], c=y_true[:1000], s=10)\n",
    "plt.xlabel(\"cons0\")\n",
    "plt.ylabel(\"cons1\")\n",
    "plt.title(\"Coupled oscillator projection (colored by energy2)\")"
   ],
   "metadata": {
    "collapsed": false,
    "ExecuteTime": {
     "start_time": "2023-05-02T12:59:40.976385Z",
     "end_time": "2023-05-02T12:59:43.938475Z"
    }
   }
  },
  {
   "cell_type": "code",
   "execution_count": null,
   "outputs": [],
   "source": [
    "# x = exp.contrastive_data()[:, 1:]\n",
    "# x_prime, dyn, cons = suite.try_transform(model, x)\n",
    "# print(cons[:, 0].min(), cons[:, 0].max())\n",
    "# cons0, cons1 = cons[:, 0], cons[:, 1]\n",
    "y_true = [co.energy2(e) for e in x]\n",
    "# plt.scatter(cons0, cons1, c=y_true, s=0.01)\n",
    "plt.scatter(target_embedding[:200, 0], target_embedding[:200, 1], c=y_true[::1000][:200], s=10)\n",
    "plt.xlabel(\"cons0\")\n",
    "plt.ylabel(\"cons1\")\n",
    "plt.title(\"Coupled oscillator UMAP (colored by energy2)\")"
   ],
   "metadata": {
    "collapsed": false,
    "ExecuteTime": {
     "start_time": "2023-05-02T13:01:45.802189Z",
     "end_time": "2023-05-02T13:01:46.424814Z"
    }
   }
  }
 ],
 "metadata": {
  "kernelspec": {
   "display_name": "Python 3 (ipykernel)",
   "language": "python",
   "name": "python3"
  },
  "language_info": {
   "codemirror_mode": {
    "name": "ipython",
    "version": 3
   },
   "file_extension": ".py",
   "mimetype": "text/x-python",
   "name": "python",
   "nbconvert_exporter": "python",
   "pygments_lexer": "ipython3",
   "version": "3.9.13"
  }
 },
 "nbformat": 4,
 "nbformat_minor": 1
}
