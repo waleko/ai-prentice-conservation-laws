{
 "cells": [
  {
   "cell_type": "code",
   "execution_count": 1,
   "metadata": {
    "collapsed": true
   },
   "outputs": [],
   "source": [
    "import numpy as np\n",
    "from ipywidgets import widgets\n",
    "from PIL import Image, ImageDraw"
   ]
  },
  {
   "cell_type": "code",
   "execution_count": 2,
   "outputs": [],
   "source": [
    "import utils"
   ],
   "metadata": {
    "collapsed": false
   }
  },
  {
   "cell_type": "code",
   "execution_count": 3,
   "outputs": [],
   "source": [
    "import creating.pendulum as pend\n",
    "import creating.harmonic_oscillator as ho\n",
    "import creating.kepler_problem as kp\n",
    "import creating.double_pendulum as dp\n",
    "import creating.coupled_oscillator as co"
   ],
   "metadata": {
    "collapsed": false
   }
  },
  {
   "cell_type": "code",
   "execution_count": 4,
   "outputs": [
    {
     "name": "stderr",
     "output_type": "stream",
     "text": [
      "Џ®¤Ї ЇЄ  Ё«Ё д ©« -p г¦Ґ бгйҐбвўгҐв.\n",
      "ЋиЁЎЄ  ў® ўаҐ¬п ®Ўа Ў®вЄЁ: -p.\n",
      "Џ®¤Ї ЇЄ  Ё«Ё д ©« dist г¦Ґ бгйҐбвўгҐв.\n",
      "ЋиЁЎЄ  ў® ўаҐ¬п ®Ўа Ў®вЄЁ: dist.\n",
      "ЋиЁЎЄ  ў бЁ­в ЄбЁбҐ Є®¬ ­¤л.\n",
      "ЋиЁЎЄ  ў бЁ­в ЄбЁбҐ Є®¬ ­¤л.\n",
      "ЋиЁЎЄ  ў бЁ­в ЄбЁбҐ Є®¬ ­¤л.\n",
      "ЋиЁЎЄ  ў бЁ­в ЄбЁбҐ Є®¬ ­¤л.\n",
      "ЋиЁЎЄ  ў бЁ­в ЄбЁбҐ Є®¬ ­¤л.\n",
      "ЋиЁЎЄ  ў бЁ­в ЄбЁбҐ Є®¬ ­¤л.\n"
     ]
    }
   ],
   "source": [
    "%mkdir -p dist\n",
    "%mkdir -p trajectories/coupled_oscillator\n",
    "%mkdir -p trajectories/double_pendulum\n",
    "%mkdir -p trajectories/harmonic_oscillator\n",
    "%mkdir -p trajectories/pendulum\n",
    "%mkdir -p trajectories/kepler_problem\n",
    "%mkdir -p trajectories/three_body_problem"
   ],
   "metadata": {
    "collapsed": false
   }
  },
  {
   "cell_type": "code",
   "execution_count": 5,
   "outputs": [
    {
     "name": "stderr",
     "output_type": "stream",
     "text": [
      "100%|██████████| 5/5 [00:00<00:00, 108.61it/s]\n",
      "100%|██████████| 5/5 [00:00<00:00, 5011.12it/s]\n",
      "100%|██████████| 5/5 [00:00<00:00, 88.41it/s]\n",
      "100%|██████████| 5/5 [00:00<00:00,  5.81it/s]\n",
      "5it [00:00, 2477.73it/s]\n"
     ]
    },
    {
     "data": {
      "text/plain": "(array([[[ 9.94054205e-01,  3.32018363e-01, -1.13183541e-01,\n          -7.89268144e-03],\n         [ 9.79286092e-01,  3.34981677e-01, -1.99536180e-01,\n          -1.45058658e-02],\n         [ 9.67184672e-01,  3.37378261e-01, -2.48213263e-01,\n          -1.86535620e-02],\n         ...,\n         [ 1.90223176e-01,  8.51056127e-01,  4.72053560e-01,\n           3.58069030e-01],\n         [ 2.14709254e-01,  8.64163584e-01,  4.73801734e-01,\n           3.06831178e-01],\n         [ 2.37957647e-01,  8.73274471e-01,  4.74181505e-01,\n           2.59650083e-01]],\n \n        [[ 9.15373512e-01,  2.74523392e-01, -1.84403770e-02,\n          -6.38143894e-04],\n         [ 9.14329871e-01,  2.74769168e-01, -4.59515095e-02,\n          -1.60045774e-03],\n         [ 9.10398517e-01,  2.75693017e-01, -9.36198485e-02,\n          -3.33968300e-03],\n         ...,\n         [ 3.28480643e-02,  6.34839711e-01,  3.81915665e-01,\n           6.03336411e-01],\n         [ 1.36936874e-01,  7.73316987e-01,  4.23054686e-01,\n           3.43669487e-01],\n         [ 2.09553543e-01,  8.04504695e-01,  4.31122683e-01,\n           1.91840872e-01]],\n \n        [[ 6.75059581e-01, -2.89621151e-02, -1.90259125e-01,\n           6.08317815e-02],\n         [ 6.70830981e-01, -2.66748150e-02, -2.03707365e-01,\n           6.49484283e-02],\n         [ 6.65604854e-01, -2.38520901e-02, -2.19075819e-01,\n           6.96036106e-02],\n         ...,\n         [-1.27873795e-01,  6.17979575e-01,  2.45835072e-01,\n           1.94812091e-01],\n         [-1.14030192e-01,  6.24909079e-01,  2.64874497e-01,\n           1.51496806e-01],\n         [-9.87026392e-02,  6.28569569e-01,  2.82481197e-01,\n           1.09429111e-01]],\n \n        [[ 6.76019596e-01, -5.50857877e-02, -7.70176037e-02,\n           2.65042992e-02],\n         [ 6.72722555e-01, -5.32391367e-02, -1.00444299e-01,\n           3.44971177e-02],\n         [ 6.51806896e-01, -4.15658977e-02, -1.89592951e-01,\n           6.42759743e-02],\n         ...,\n         [-1.68905511e-01,  5.43535593e-01,  1.51651423e-01,\n           3.46317577e-01],\n         [-1.55644591e-01,  5.80181201e-01,  1.96457446e-01,\n           2.59677782e-01],\n         [-9.91873830e-02,  6.10220221e-01,  2.80859548e-01,\n           7.56360852e-02]],\n \n        [[ 5.57587879e-01,  1.76696081e-01, -2.48751342e-01,\n          -3.20575851e-03],\n         [ 5.56767650e-01,  1.76905966e-01, -2.50431687e-01,\n          -3.29633890e-03],\n         [ 4.44246414e-01,  2.03580891e-01, -4.05812128e-01,\n          -2.18821098e-02],\n         ...,\n         [ 8.71446332e-03,  4.39308108e-01,  2.46034390e-01,\n           3.88083458e-01],\n         [ 3.41273599e-02,  4.84394942e-01,  2.62387410e-01,\n           3.15489764e-01],\n         [ 9.30840172e-02,  5.33256198e-01,  2.83620248e-01,\n           1.75156097e-01]]]),\n array([0.62943962, 0.50274336, 0.15416117, 0.13779714, 0.21395001]),\n array([0.63832524, 0.58379352, 0.7934144 , 0.77426765, 0.29174394]))"
     },
     "execution_count": 5,
     "metadata": {},
     "output_type": "execute_result"
    }
   ],
   "source": [
    "pend.create_trajectories(5, traj_len=1000)\n",
    "ho.create_trajectories(5, traj_len=1000)\n",
    "kp.create_trajectories(5, traj_len=1000)\n",
    "dp.create_trajectories(5, traj_len=1000)\n",
    "co.create_trajectories(5, traj_len=1000)"
   ],
   "metadata": {
    "collapsed": false
   }
  },
  {
   "cell_type": "code",
   "execution_count": 6,
   "outputs": [],
   "source": [
    "def show(filename):\n",
    "    file = open(filename, \"rb\")\n",
    "    image = file.read()\n",
    "    return widgets.Image(\n",
    "        value=image,\n",
    "        format='gif'\n",
    "    )"
   ],
   "metadata": {
    "collapsed": false
   }
  },
  {
   "cell_type": "markdown",
   "source": [
    "## Pendulum animation"
   ],
   "metadata": {
    "collapsed": false
   }
  },
  {
   "cell_type": "code",
   "execution_count": 7,
   "outputs": [],
   "source": [
    "traj_p = utils.get_data(\"pendulum\", count=1, sample_size=1000)[0]"
   ],
   "metadata": {
    "collapsed": false
   }
  },
  {
   "cell_type": "code",
   "execution_count": 8,
   "outputs": [],
   "source": [
    "images = []\n",
    "\n",
    "width = 500\n",
    "center = width // 2\n",
    "color_1 = (0, 0, 0)\n",
    "color_2 = (255, 255, 255)\n",
    "max_radius = int(center * 1.5)\n",
    "step = 5\n",
    "\n",
    "joint = (center, width // 3)\n",
    "L = width // 3\n",
    "r = width // 10\n",
    "\n",
    "for i in range(0, 1000, step):\n",
    "    alpha, _ = traj_p[i]\n",
    "    im = Image.new('RGB', (width, width), color_1)\n",
    "    draw = ImageDraw.Draw(im)\n",
    "    ball_center = (joint[0] + L * np.sin(alpha), joint[1] + L * np.cos(alpha))\n",
    "    draw.line((joint, ball_center))\n",
    "    draw.ellipse(((ball_center[0] - r, ball_center[1] - r), (ball_center[0] + r, ball_center[1] + r)))\n",
    "    images.append(im)\n",
    "\n",
    "images[0].save('dist/pendulum.gif',\n",
    "               save_all=True, append_images=images[1:], optimize=False, duration=40, loop=0)"
   ],
   "metadata": {
    "collapsed": false
   }
  },
  {
   "cell_type": "code",
   "execution_count": 9,
   "outputs": [
    {
     "data": {
      "text/plain": "Image(value=b'GIF89a\\xf4\\x01\\xf4\\x01\\x87\\x00\\x00\\xff\\xff\\xff\\x00\\x00\\x00\\x00\\x00\\x00\\x00\\x00\\x00\\x00\\x00\\x00\\x…",
      "application/vnd.jupyter.widget-view+json": {
       "version_major": 2,
       "version_minor": 0,
       "model_id": "985ebe75664248c1bddf80628c162ee7"
      }
     },
     "metadata": {},
     "output_type": "display_data"
    }
   ],
   "source": [
    "show(\"dist/pendulum.gif\")"
   ],
   "metadata": {
    "collapsed": false
   }
  },
  {
   "cell_type": "markdown",
   "source": [
    "## Harmonic oscillator animation"
   ],
   "metadata": {
    "collapsed": false
   }
  },
  {
   "cell_type": "code",
   "execution_count": 10,
   "outputs": [],
   "source": [
    "traj_h = utils.get_data(\"harmonic_oscillator\", count=1, sample_size=1000)[0]"
   ],
   "metadata": {
    "collapsed": false
   }
  },
  {
   "cell_type": "code",
   "execution_count": 11,
   "outputs": [],
   "source": [
    "images = []\n",
    "\n",
    "width = 500\n",
    "center = width // 2\n",
    "color_1 = (0, 0, 0)\n",
    "color_2 = (255, 255, 255)\n",
    "max_radius = int(center * 1.5)\n",
    "step = 5\n",
    "\n",
    "joint = (center, width // 6)\n",
    "L = width // 3\n",
    "a = width // 20\n",
    "\n",
    "maxX = np.max(traj_h[:,0])\n",
    "\n",
    "for i in range(0, 1000, step):\n",
    "    raw_x, _ = traj_h[i]\n",
    "    x = raw_x * (width // 4) // maxX\n",
    "\n",
    "    im = Image.new('RGB', (width, width), color_1)\n",
    "    draw = ImageDraw.Draw(im)\n",
    "    box_center = (center, joint[1] + x + L)\n",
    "    draw.line((joint, box_center))\n",
    "    draw.rectangle(((box_center[0] - a, box_center[1] - a), (box_center[0] + a, box_center[1] + a)))\n",
    "    images.append(im)\n",
    "\n",
    "images[0].save('dist/harmonic_oscillator.gif',\n",
    "               save_all=True, append_images=images[1:], optimize=False, duration=40, loop=0)"
   ],
   "metadata": {
    "collapsed": false
   }
  },
  {
   "cell_type": "code",
   "execution_count": 12,
   "outputs": [
    {
     "data": {
      "text/plain": "Image(value=b'GIF89a\\xf4\\x01\\xf4\\x01\\x87\\x00\\x00\\xff\\xff\\xff\\x00\\x00\\x00\\x00\\x00\\x00\\x00\\x00\\x00\\x00\\x00\\x00\\x…",
      "application/vnd.jupyter.widget-view+json": {
       "version_major": 2,
       "version_minor": 0,
       "model_id": "0058433c50e44df0871a5a2247c61cff"
      }
     },
     "metadata": {},
     "output_type": "display_data"
    }
   ],
   "source": [
    "show('dist/harmonic_oscillator.gif')"
   ],
   "metadata": {
    "collapsed": false
   }
  },
  {
   "cell_type": "markdown",
   "source": [
    "## Double pendulum animation"
   ],
   "metadata": {
    "collapsed": false
   }
  },
  {
   "cell_type": "code",
   "execution_count": 13,
   "outputs": [],
   "source": [
    "traj_dp = utils.get_data(\"double_pendulum\", count=1, sample_size=1000)[0]"
   ],
   "metadata": {
    "collapsed": false
   }
  },
  {
   "cell_type": "code",
   "execution_count": 14,
   "outputs": [],
   "source": [
    "images = []\n",
    "\n",
    "width = 500\n",
    "center = width // 2\n",
    "color_1 = (0, 0, 0)\n",
    "color_2 = (255, 255, 255)\n",
    "step = 1\n",
    "\n",
    "joint = (center, width // 10)\n",
    "L = width // 4\n",
    "r = width // 10\n",
    "\n",
    "for i in range(0, 1000, step):\n",
    "    theta1, theta2, _, _ = traj_dp[i]\n",
    "    im = Image.new('RGB', (width, width), color_1)\n",
    "    draw = ImageDraw.Draw(im)\n",
    "    split_center = (joint[0] + L * np.sin(theta1), joint[1] + L * np.cos(theta1))\n",
    "    ball_center = (split_center[0] + L * np.sin(theta2), split_center[1] + L * np.cos(theta2))\n",
    "    draw.line((joint, split_center))\n",
    "    draw.line((split_center, ball_center))\n",
    "    draw.ellipse(((ball_center[0] - r, ball_center[1] - r), (ball_center[0] + r, ball_center[1] + r)))\n",
    "    images.append(im)\n",
    "\n",
    "images[0].save('dist/double_pendulum.gif',\n",
    "               save_all=True, append_images=images[1:], optimize=False, duration=40, loop=0)"
   ],
   "metadata": {
    "collapsed": false
   }
  },
  {
   "cell_type": "code",
   "execution_count": 15,
   "outputs": [
    {
     "data": {
      "text/plain": "Image(value=b'GIF89a\\xf4\\x01\\xf4\\x01\\x87\\x00\\x00\\xff\\xff\\xff\\x00\\x00\\x00\\x00\\x00\\x00\\x00\\x00\\x00\\x00\\x00\\x00\\x…",
      "application/vnd.jupyter.widget-view+json": {
       "version_major": 2,
       "version_minor": 0,
       "model_id": "afc8ea1782634daf8b9f3670e11241f0"
      }
     },
     "metadata": {},
     "output_type": "display_data"
    }
   ],
   "source": [
    "show('dist/double_pendulum.gif')"
   ],
   "metadata": {
    "collapsed": false
   }
  },
  {
   "cell_type": "markdown",
   "source": [
    "## Coupled oscillator"
   ],
   "metadata": {
    "collapsed": false
   }
  },
  {
   "cell_type": "code",
   "execution_count": 16,
   "outputs": [],
   "source": [
    "traj_co = utils.get_data(\"coupled_oscillator\", count=1, sample_size=1000)[0]"
   ],
   "metadata": {
    "collapsed": false
   }
  },
  {
   "cell_type": "code",
   "execution_count": 17,
   "outputs": [],
   "source": [
    "images = []\n",
    "\n",
    "width = 500\n",
    "center = width // 2\n",
    "color_1 = (0, 0, 0)\n",
    "color_2 = (255, 255, 255)\n",
    "step = 1\n",
    "\n",
    "joint = (center)\n",
    "L = width // 3\n",
    "a = width // 10\n",
    "\n",
    "xMax = np.max(traj_co[:,0])\n",
    "\n",
    "for i in range(0, 1000, step):\n",
    "    raw_x1, raw_x2, _, _ = traj_co[i]\n",
    "    x1 = width // 4 + raw_x1 * (width // 4 - a) // xMax\n",
    "    x2 = width * 3 // 4 + raw_x2 * (width // 4 - a) // xMax\n",
    "\n",
    "    im = Image.new('RGB', (width, width), color_1)\n",
    "    draw = ImageDraw.Draw(im)\n",
    "    draw.line(((0, center + a), (width, center + a)))\n",
    "    b1_center = (x1, center)\n",
    "    b2_center = (x2, center)\n",
    "    draw.line(((0, center), (x1 - a, center)))\n",
    "    draw.line(((x1 + a, center), (x2 - a, center)))\n",
    "    draw.line(((x2 + a, center), (width, center)))\n",
    "    draw.rectangle(((b1_center[0] - a, b1_center[1] - a), (b1_center[0] + a, b1_center[1] + a)))\n",
    "    draw.rectangle(((b2_center[0] - a, b2_center[1] - a), (b2_center[0] + a, b2_center[1] + a)))\n",
    "    images.append(im)\n",
    "\n",
    "images[0].save('dist/coupled_oscillator.gif',\n",
    "               save_all=True, append_images=images[1:], optimize=False, duration=40, loop=0)"
   ],
   "metadata": {
    "collapsed": false
   }
  },
  {
   "cell_type": "code",
   "execution_count": 18,
   "outputs": [
    {
     "data": {
      "text/plain": "Image(value=b'GIF89a\\xf4\\x01\\xf4\\x01\\x87\\x00\\x00\\xff\\xff\\xff\\x00\\x00\\x00\\x00\\x00\\x00\\x00\\x00\\x00\\x00\\x00\\x00\\x…",
      "application/vnd.jupyter.widget-view+json": {
       "version_major": 2,
       "version_minor": 0,
       "model_id": "559802f3be73496dbd32bcf44b1db5f5"
      }
     },
     "metadata": {},
     "output_type": "display_data"
    }
   ],
   "source": [
    "show('dist/coupled_oscillator.gif')"
   ],
   "metadata": {
    "collapsed": false
   }
  },
  {
   "cell_type": "markdown",
   "source": [
    "## Kepler problem"
   ],
   "metadata": {
    "collapsed": false
   }
  },
  {
   "cell_type": "code",
   "execution_count": 19,
   "outputs": [],
   "source": [
    "traj_kp = utils.get_data(\"kepler_problem\", count=5, sample_size=1000)[0]"
   ],
   "metadata": {
    "collapsed": false
   }
  },
  {
   "cell_type": "code",
   "execution_count": 20,
   "outputs": [],
   "source": [
    "images = []\n",
    "\n",
    "width = 500\n",
    "center = width // 2\n",
    "color_1 = (0, 0, 0)\n",
    "color_2 = (255, 255, 255)\n",
    "step = 8\n",
    "\n",
    "sun = (center, center)\n",
    "R = width // 50\n",
    "r = width // 50\n",
    "\n",
    "maxX = np.max(np.abs(traj_kp[:,0]))\n",
    "maxY = np.max(np.abs(traj_kp[:,1]))\n",
    "maxD = max(maxX, maxY)\n",
    "\n",
    "for i in range(0, 1000, step):\n",
    "    raw_x, raw_y, _, _ = traj_kp[i]\n",
    "    x = center + raw_x * (width // 2 - a) // maxD\n",
    "    y = center + raw_y * (width // 2 - a) // maxD\n",
    "\n",
    "    im = Image.new('RGB', (width, width), color_1)\n",
    "    draw = ImageDraw.Draw(im)\n",
    "    draw.ellipse(((sun[0] - R, sun[1] - R), (sun[0] + R, sun[1] + R)), width=3)\n",
    "    draw.ellipse(((x - r, y - r), (x + r, y + r)))\n",
    "    images.append(im)\n",
    "\n",
    "images[0].save('dist/kepler_problem.gif',\n",
    "               save_all=True, append_images=images[1:], optimize=False, duration=40, loop=0)"
   ],
   "metadata": {
    "collapsed": false
   }
  },
  {
   "cell_type": "code",
   "execution_count": 21,
   "outputs": [
    {
     "data": {
      "text/plain": "Image(value=b'GIF89a\\xf4\\x01\\xf4\\x01\\x87\\x00\\x00\\xff\\xff\\xff\\x00\\x00\\x00\\x00\\x00\\x00\\x00\\x00\\x00\\x00\\x00\\x00\\x…",
      "application/vnd.jupyter.widget-view+json": {
       "version_major": 2,
       "version_minor": 0,
       "model_id": "6923350de3e64659b5f6f2744296a49c"
      }
     },
     "metadata": {},
     "output_type": "display_data"
    }
   ],
   "source": [
    "show('dist/kepler_problem.gif')"
   ],
   "metadata": {
    "collapsed": false
   }
  }
 ],
 "metadata": {
  "kernelspec": {
   "display_name": "Python 3",
   "language": "python",
   "name": "python3"
  },
  "language_info": {
   "codemirror_mode": {
    "name": "ipython",
    "version": 2
   },
   "file_extension": ".py",
   "mimetype": "text/x-python",
   "name": "python",
   "nbconvert_exporter": "python",
   "pygments_lexer": "ipython2",
   "version": "2.7.6"
  }
 },
 "nbformat": 4,
 "nbformat_minor": 0
}
