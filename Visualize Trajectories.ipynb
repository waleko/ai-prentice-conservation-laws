{
 "cells": [
  {
   "cell_type": "code",
   "execution_count": 1,
   "metadata": {
    "collapsed": true
   },
   "outputs": [],
   "source": [
    "import numpy as np"
   ]
  },
  {
   "cell_type": "code",
   "execution_count": 2,
   "outputs": [],
   "source": [
    "from PIL import Image, ImageDraw"
   ],
   "metadata": {
    "collapsed": false
   }
  },
  {
   "cell_type": "code",
   "execution_count": 3,
   "outputs": [],
   "source": [
    "import utils"
   ],
   "metadata": {
    "collapsed": false
   }
  },
  {
   "cell_type": "code",
   "execution_count": 4,
   "outputs": [
    {
     "name": "stderr",
     "output_type": "stream",
     "text": [
      "Џ®¤Ї ЇЄ  Ё«Ё д ©« -p г¦Ґ бгйҐбвўгҐв.\n",
      "ЋиЁЎЄ  ў® ўаҐ¬п ®Ўа Ў®вЄЁ: -p.\n",
      "Џ®¤Ї ЇЄ  Ё«Ё д ©« dist г¦Ґ бгйҐбвўгҐв.\n",
      "ЋиЁЎЄ  ў® ўаҐ¬п ®Ўа Ў®вЄЁ: dist.\n"
     ]
    }
   ],
   "source": [
    "!mkdir -p dist"
   ],
   "metadata": {
    "collapsed": false
   }
  },
  {
   "cell_type": "markdown",
   "source": [
    "## Pendulum animation"
   ],
   "metadata": {
    "collapsed": false
   }
  },
  {
   "cell_type": "code",
   "execution_count": 5,
   "outputs": [],
   "source": [
    "traj_p = utils.get_data(\"pendulum\", count=1, sample_size=1000)[0]"
   ],
   "metadata": {
    "collapsed": false
   }
  },
  {
   "cell_type": "code",
   "execution_count": 6,
   "outputs": [],
   "source": [
    "images = []\n",
    "\n",
    "width = 500\n",
    "center = width // 2\n",
    "color_1 = (0, 0, 0)\n",
    "color_2 = (255, 255, 255)\n",
    "max_radius = int(center * 1.5)\n",
    "step = 1\n",
    "\n",
    "joint = (center, width // 3)\n",
    "L = width // 3\n",
    "r = width // 10\n",
    "\n",
    "for i in range(0, 1000, step):\n",
    "    alpha, _ = traj_p[i]\n",
    "    im = Image.new('RGB', (width, width), color_1)\n",
    "    draw = ImageDraw.Draw(im)\n",
    "    ball_center = (joint[0] + L * np.sin(alpha), joint[1] + L * np.cos(alpha))\n",
    "    draw.line((joint, ball_center))\n",
    "    draw.ellipse(((ball_center[0] - r, ball_center[1] - r), (ball_center[0] + r, ball_center[1] + r)))\n",
    "    images.append(im)\n",
    "\n",
    "images[0].save('dist/pendulum.gif',\n",
    "               save_all=True, append_images=images[1:], optimize=False, duration=40, loop=0)"
   ],
   "metadata": {
    "collapsed": false
   }
  },
  {
   "cell_type": "markdown",
   "source": [
    "![pendulum gif](dist/pendulum.gif)"
   ],
   "metadata": {
    "collapsed": false
   }
  },
  {
   "cell_type": "markdown",
   "source": [
    "## Harmonic oscillator animation"
   ],
   "metadata": {
    "collapsed": false
   }
  },
  {
   "cell_type": "code",
   "execution_count": 7,
   "outputs": [],
   "source": [
    "traj_h = utils.get_data(\"harmonic_oscillator\", count=1, sample_size=1000)[0]"
   ],
   "metadata": {
    "collapsed": false
   }
  },
  {
   "cell_type": "code",
   "execution_count": 8,
   "outputs": [],
   "source": [
    "images = []\n",
    "\n",
    "width = 500\n",
    "center = width // 2\n",
    "color_1 = (0, 0, 0)\n",
    "color_2 = (255, 255, 255)\n",
    "max_radius = int(center * 1.5)\n",
    "step = 1\n",
    "\n",
    "joint = (center, width // 6)\n",
    "L = width // 3\n",
    "a = width // 20\n",
    "\n",
    "maxX = np.max(traj_h[:,0])\n",
    "\n",
    "for i in range(0, 1000, step):\n",
    "    raw_x, _ = traj_h[i]\n",
    "    x = raw_x * (width // 4) // maxX\n",
    "\n",
    "    im = Image.new('RGB', (width, width), color_1)\n",
    "    draw = ImageDraw.Draw(im)\n",
    "    box_center = (center, joint[1] + x + L)\n",
    "    draw.line((joint, box_center))\n",
    "    draw.rectangle(((box_center[0] - a, box_center[1] - a), (box_center[0] + a, box_center[1] + a)))\n",
    "    images.append(im)\n",
    "\n",
    "images[0].save('dist/harmonic_oscillator.gif',\n",
    "               save_all=True, append_images=images[1:], optimize=False, duration=40, loop=0)"
   ],
   "metadata": {
    "collapsed": false
   }
  },
  {
   "cell_type": "markdown",
   "source": [
    "![Harmonic oscillator](dist/harmonic_oscillator.gif)"
   ],
   "metadata": {
    "collapsed": false
   }
  },
  {
   "cell_type": "markdown",
   "source": [
    "## Double pendulum animation"
   ],
   "metadata": {
    "collapsed": false
   }
  },
  {
   "cell_type": "code",
   "execution_count": 9,
   "outputs": [],
   "source": [
    "traj_dp = utils.get_data(\"double_pendulum\", count=1, sample_size=1000)[0]"
   ],
   "metadata": {
    "collapsed": false
   }
  },
  {
   "cell_type": "code",
   "execution_count": 10,
   "outputs": [],
   "source": [
    "images = []\n",
    "\n",
    "width = 500\n",
    "center = width // 2\n",
    "color_1 = (0, 0, 0)\n",
    "color_2 = (255, 255, 255)\n",
    "step = 1\n",
    "\n",
    "joint = (center, width // 10)\n",
    "L = width // 4\n",
    "r = width // 10\n",
    "\n",
    "for i in range(0, 1000, step):\n",
    "    theta1, theta2, _, _ = traj_dp[i]\n",
    "    im = Image.new('RGB', (width, width), color_1)\n",
    "    draw = ImageDraw.Draw(im)\n",
    "    split_center = (joint[0] + L * np.sin(theta1), joint[1] + L * np.cos(theta1))\n",
    "    ball_center = (split_center[0] + L * np.sin(theta2), split_center[1] + L * np.cos(theta2))\n",
    "    draw.line((joint, split_center))\n",
    "    draw.line((split_center, ball_center))\n",
    "    draw.ellipse(((ball_center[0] - r, ball_center[1] - r), (ball_center[0] + r, ball_center[1] + r)))\n",
    "    images.append(im)\n",
    "\n",
    "images[0].save('dist/double_pendulum.gif',\n",
    "               save_all=True, append_images=images[1:], optimize=False, duration=40, loop=0)"
   ],
   "metadata": {
    "collapsed": false
   }
  },
  {
   "cell_type": "markdown",
   "source": [
    "![Double pendulum](dist/double_pendulum.gif)"
   ],
   "metadata": {
    "collapsed": false
   }
  },
  {
   "cell_type": "markdown",
   "source": [
    "## Coupled oscillator"
   ],
   "metadata": {
    "collapsed": false
   }
  },
  {
   "cell_type": "code",
   "execution_count": 11,
   "outputs": [],
   "source": [
    "traj_co = utils.get_data(\"coupled_oscillator\", count=1, sample_size=1000)[0]"
   ],
   "metadata": {
    "collapsed": false
   }
  },
  {
   "cell_type": "code",
   "execution_count": 12,
   "outputs": [],
   "source": [
    "images = []\n",
    "\n",
    "width = 500\n",
    "center = width // 2\n",
    "color_1 = (0, 0, 0)\n",
    "color_2 = (255, 255, 255)\n",
    "step = 1\n",
    "\n",
    "joint = (center)\n",
    "L = width // 3\n",
    "a = width // 10\n",
    "\n",
    "xMax = np.max(traj_co[:,0])\n",
    "\n",
    "for i in range(0, 1000, step):\n",
    "    raw_x1, raw_x2, _, _ = traj_co[i]\n",
    "    x1 = width // 4 + raw_x1 * (width // 4 - a) // xMax\n",
    "    x2 = width * 3 // 4 + raw_x2 * (width // 4 - a) // xMax\n",
    "\n",
    "    im = Image.new('RGB', (width, width), color_1)\n",
    "    draw = ImageDraw.Draw(im)\n",
    "    draw.line(((0, center + a), (width, center + a)))\n",
    "    b1_center = (x1, center)\n",
    "    b2_center = (x2, center)\n",
    "    draw.line(((0, center), (x1 - a, center)))\n",
    "    draw.line(((x1 + a, center), (x2 - a, center)))\n",
    "    draw.line(((x2 + a, center), (width, center)))\n",
    "    draw.rectangle(((b1_center[0] - a, b1_center[1] - a), (b1_center[0] + a, b1_center[1] + a)))\n",
    "    draw.rectangle(((b2_center[0] - a, b2_center[1] - a), (b2_center[0] + a, b2_center[1] + a)))\n",
    "    images.append(im)\n",
    "\n",
    "images[0].save('dist/coupled_oscillator.gif',\n",
    "               save_all=True, append_images=images[1:], optimize=False, duration=40, loop=0)"
   ],
   "metadata": {
    "collapsed": false
   }
  },
  {
   "cell_type": "markdown",
   "source": [
    "![Coupled oscillator](dist/coupled_oscillator.gif)"
   ],
   "metadata": {
    "collapsed": false
   }
  },
  {
   "cell_type": "markdown",
   "source": [
    "## Kepler problem"
   ],
   "metadata": {
    "collapsed": false
   }
  },
  {
   "cell_type": "code",
   "execution_count": 13,
   "outputs": [],
   "source": [
    "traj_kp = utils.get_data(\"kepler_problem\", count=5, sample_size=1000)[0]"
   ],
   "metadata": {
    "collapsed": false
   }
  },
  {
   "cell_type": "code",
   "execution_count": 14,
   "outputs": [],
   "source": [
    "images = []\n",
    "\n",
    "width = 500\n",
    "center = width // 2\n",
    "color_1 = (0, 0, 0)\n",
    "color_2 = (255, 255, 255)\n",
    "step = 8\n",
    "\n",
    "sun = (center, center)\n",
    "R = width // 50\n",
    "r = width // 50\n",
    "\n",
    "maxX = np.max(np.abs(traj_kp[:,0]))\n",
    "maxY = np.max(np.abs(traj_kp[:,1]))\n",
    "maxD = max(maxX, maxY)\n",
    "\n",
    "for i in range(0, 1000, step):\n",
    "    raw_x, raw_y, _, _ = traj_kp[i]\n",
    "    x = center + raw_x * (width // 2 - a) // maxD\n",
    "    y = center + raw_y * (width // 2 - a) // maxD\n",
    "\n",
    "    im = Image.new('RGB', (width, width), color_1)\n",
    "    draw = ImageDraw.Draw(im)\n",
    "    draw.ellipse(((sun[0] - R, sun[1] - R), (sun[0] + R, sun[1] + R)), width=3)\n",
    "    draw.ellipse(((x - r, y - r), (x + r, y + r)))\n",
    "    images.append(im)\n",
    "\n",
    "images[0].save('dist/kepler_problem.gif',\n",
    "               save_all=True, append_images=images[1:], optimize=False, duration=40, loop=0)"
   ],
   "metadata": {
    "collapsed": false
   }
  },
  {
   "cell_type": "markdown",
   "source": [
    "![Kepler problem](dist/kepler_problem.gif)"
   ],
   "metadata": {
    "collapsed": false
   }
  }
 ],
 "metadata": {
  "kernelspec": {
   "display_name": "Python 3",
   "language": "python",
   "name": "python3"
  },
  "language_info": {
   "codemirror_mode": {
    "name": "ipython",
    "version": 2
   },
   "file_extension": ".py",
   "mimetype": "text/x-python",
   "name": "python",
   "nbconvert_exporter": "python",
   "pygments_lexer": "ipython2",
   "version": "2.7.6"
  }
 },
 "nbformat": 4,
 "nbformat_minor": 0
}
