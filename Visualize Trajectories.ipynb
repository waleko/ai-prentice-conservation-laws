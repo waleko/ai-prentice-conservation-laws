{
 "cells": [
  {
   "cell_type": "code",
   "execution_count": null,
   "metadata": {
    "collapsed": true
   },
   "outputs": [],
   "source": [
    "from tqdm.notebook import tqdm\n",
    "import umap\n",
    "import wandb"
   ]
  },
  {
   "cell_type": "code",
   "execution_count": null,
   "outputs": [],
   "source": [
    "import utils\n",
    "from experiments import *"
   ],
   "metadata": {
    "collapsed": false
   }
  },
  {
   "cell_type": "code",
   "execution_count": null,
   "outputs": [],
   "source": [
    "wandb.init(project=\"trajectory-visualization\")\n",
    "gifs_count = 10\n",
    "for exp in tqdm(common_experiments):\n",
    "    gifs = exp.animate_trajectories(gifs_count)\n",
    "    for i, gif in enumerate(gifs):\n",
    "        fname = f'gifs/{exp.experiment_name}{i}.gif'\n",
    "        gif[0].save(fname,\n",
    "                    save_all=True, append_images=gif[1:], optimize=False, duration=30, loop=0)\n",
    "        wandb.log({f\"{exp.experiment_name} animation\": wandb.Video(fname, caption=exp.experiment_name)})\n",
    "wandb.finish()"
   ],
   "metadata": {
    "collapsed": false,
    "pycharm": {
     "is_executing": true
    }
   }
  },
  {
   "cell_type": "code",
   "execution_count": null,
   "outputs": [],
   "source": [
    "wandb.init(project=\"trajectories\")\n",
    "for e in common_experiments:\n",
    "    traj = e.single_trajectory(42)\n",
    "    wandb.log({f\"{e.experiment_name} data\": wandb.Table(columns=e.column_names, data=traj)})\n",
    "wandb.finish()"
   ],
   "metadata": {
    "collapsed": false,
    "pycharm": {
     "is_executing": true
    }
   }
  },
  {
   "cell_type": "code",
   "execution_count": null,
   "outputs": [],
   "source": [
    "wandb.init(project=\"kepler 3d embedding\")\n",
    "model = umap.UMAP(n_neighbors=250, min_dist=0.0, n_components=3)\n",
    "new_traj = model.fit_transform(KeplerProblem.single_trajectory(42))\n",
    "wandb.log({\"kepler 3d embedding\": wandb.Object3D(new_traj)})\n",
    "wandb.finish()"
   ],
   "metadata": {
    "collapsed": false,
    "pycharm": {
     "is_executing": true
    }
   }
  }
 ],
 "metadata": {
  "kernelspec": {
   "display_name": "Python 3",
   "language": "python",
   "name": "python3"
  },
  "language_info": {
   "codemirror_mode": {
    "name": "ipython",
    "version": 2
   },
   "file_extension": ".py",
   "mimetype": "text/x-python",
   "name": "python",
   "nbconvert_exporter": "python",
   "pygments_lexer": "ipython2",
   "version": "2.7.6"
  }
 },
 "nbformat": 4,
 "nbformat_minor": 0
}
