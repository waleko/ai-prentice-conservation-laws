{
 "cells": [
  {
   "cell_type": "code",
   "execution_count": 32,
   "metadata": {
    "collapsed": true
   },
   "outputs": [],
   "source": [
    "import numpy as np\n",
    "from ipywidgets import widgets\n",
    "from PIL import Image, ImageDraw\n",
    "from tqdm.notebook import tqdm"
   ]
  },
  {
   "cell_type": "code",
   "execution_count": 33,
   "outputs": [],
   "source": [
    "import utils\n",
    "import wandb"
   ],
   "metadata": {
    "collapsed": false
   }
  },
  {
   "cell_type": "code",
   "execution_count": 34,
   "outputs": [
    {
     "name": "stderr",
     "output_type": "stream",
     "text": [
      "100%|██████████| 200/200 [00:01<00:00, 101.10it/s]\n",
      "100%|██████████| 200/200 [00:00<00:00, 12475.62it/s]\n",
      "100%|██████████| 200/200 [00:04<00:00, 46.42it/s]\n",
      "100%|██████████| 200/200 [00:56<00:00,  3.52it/s]\n",
      "200it [00:00, 2759.24it/s]\n"
     ]
    }
   ],
   "source": [
    "utils.generate_all_trajectories()"
   ],
   "metadata": {
    "collapsed": false
   }
  },
  {
   "cell_type": "code",
   "execution_count": 35,
   "outputs": [],
   "source": [
    "from experiments import *"
   ],
   "metadata": {
    "collapsed": false
   }
  },
  {
   "cell_type": "code",
   "execution_count": 36,
   "outputs": [],
   "source": [
    "def show(filename):\n",
    "    file = open(filename, \"rb\")\n",
    "    image = file.read()\n",
    "    return widgets.Image(\n",
    "        value=image,\n",
    "        format='gif'\n",
    "    )"
   ],
   "metadata": {
    "collapsed": false
   }
  },
  {
   "cell_type": "code",
   "execution_count": 37,
   "outputs": [],
   "source": [
    "def get_tension_color(perc):\n",
    "    return min(255, int(255 * (1 + perc))), int(255 * (1 - abs(perc))), min(255, int(255 * (1 - perc)))"
   ],
   "metadata": {
    "collapsed": false
   }
  },
  {
   "cell_type": "code",
   "execution_count": 38,
   "outputs": [
    {
     "data": {
      "text/plain": "<IPython.core.display.HTML object>",
      "text/html": "Tracking run with wandb version 0.13.10"
     },
     "metadata": {},
     "output_type": "display_data"
    },
    {
     "data": {
      "text/plain": "<IPython.core.display.HTML object>",
      "text/html": "Run data is saved locally in <code>C:\\Users\\waleko\\Documents\\Projects\\hse\\ai-prentice-conservation-laws\\wandb\\run-20230218_225649-swntb9ko</code>"
     },
     "metadata": {},
     "output_type": "display_data"
    },
    {
     "data": {
      "text/plain": "<IPython.core.display.HTML object>",
      "text/html": "Syncing run <strong><a href='https://wandb.ai/ai-prentice/trajectory-visualization/runs/swntb9ko' target=\"_blank\">zesty-rain-2</a></strong> to <a href='https://wandb.ai/ai-prentice/trajectory-visualization' target=\"_blank\">Weights & Biases</a> (<a href='https://wandb.me/run' target=\"_blank\">docs</a>)<br/>"
     },
     "metadata": {},
     "output_type": "display_data"
    },
    {
     "data": {
      "text/plain": "<IPython.core.display.HTML object>",
      "text/html": " View project at <a href='https://wandb.ai/ai-prentice/trajectory-visualization' target=\"_blank\">https://wandb.ai/ai-prentice/trajectory-visualization</a>"
     },
     "metadata": {},
     "output_type": "display_data"
    },
    {
     "data": {
      "text/plain": "<IPython.core.display.HTML object>",
      "text/html": " View run at <a href='https://wandb.ai/ai-prentice/trajectory-visualization/runs/swntb9ko' target=\"_blank\">https://wandb.ai/ai-prentice/trajectory-visualization/runs/swntb9ko</a>"
     },
     "metadata": {},
     "output_type": "display_data"
    },
    {
     "data": {
      "text/html": "<button onClick=\"this.nextSibling.style.display='block';this.style.display='none';\">Display W&B run</button><iframe src='https://wandb.ai/ai-prentice/trajectory-visualization/runs/swntb9ko?jupyter=true' style='border:none;width:100%;height:420px;display:none;'></iframe>",
      "text/plain": "<wandb.sdk.wandb_run.Run at 0x2a58edcb9a0>"
     },
     "execution_count": 38,
     "metadata": {},
     "output_type": "execute_result"
    }
   ],
   "source": [
    "wandb.init(project=\"trajectory-visualization\")"
   ],
   "metadata": {
    "collapsed": false
   }
  },
  {
   "cell_type": "code",
   "execution_count": 39,
   "outputs": [],
   "source": [
    "gifs_count = 10"
   ],
   "metadata": {
    "collapsed": false
   }
  },
  {
   "cell_type": "markdown",
   "source": [
    "## Pendulum animation"
   ],
   "metadata": {
    "collapsed": false
   }
  },
  {
   "cell_type": "code",
   "execution_count": 40,
   "outputs": [],
   "source": [
    "experiment_name = \"pendulum\"\n",
    "data = utils.get_data(experiment_name, count=gifs_count, sample_size=1000)"
   ],
   "metadata": {
    "collapsed": false
   }
  },
  {
   "cell_type": "code",
   "execution_count": 41,
   "outputs": [
    {
     "data": {
      "text/plain": "  0%|          | 0/10 [00:00<?, ?it/s]",
      "application/vnd.jupyter.widget-view+json": {
       "version_major": 2,
       "version_minor": 0,
       "model_id": "1614be0cc6f54d87a06b2f121a2103ca"
      }
     },
     "metadata": {},
     "output_type": "display_data"
    }
   ],
   "source": [
    "for idx in tqdm(range(gifs_count)):\n",
    "    images = []\n",
    "\n",
    "    width = 512\n",
    "    center = width // 2\n",
    "    color_1 = (0, 0, 0)\n",
    "    color_2 = (255, 255, 255)\n",
    "    max_radius = int(center * 1.5)\n",
    "    step = 5\n",
    "\n",
    "    joint = (center, width // 3)\n",
    "    L = width // 3\n",
    "    r = width // 10\n",
    "\n",
    "    for i in range(0, 1000, step):\n",
    "        alpha, _ = data[idx][i]\n",
    "        im = Image.new('RGB', (width, width), color_1)\n",
    "        draw = ImageDraw.Draw(im)\n",
    "        ball_center = (joint[0] + L * np.sin(alpha), joint[1] + L * np.cos(alpha))\n",
    "        draw.line((joint, ball_center))\n",
    "        draw.ellipse(((ball_center[0] - r, ball_center[1] - r), (ball_center[0] + r, ball_center[1] + r)))\n",
    "        images.append(im)\n",
    "\n",
    "    fname = f'gifs/{experiment_name}{idx}.gif'\n",
    "    images[0].save(fname,\n",
    "                   save_all=True, append_images=images[1:], optimize=False, duration=30, loop=0)\n",
    "    wandb.log({f\"{experiment_name} animation\": wandb.Video(fname, caption=experiment_name)})"
   ],
   "metadata": {
    "collapsed": false
   }
  },
  {
   "cell_type": "markdown",
   "source": [
    "![](gifs/pendulum0.gif)"
   ],
   "metadata": {
    "collapsed": false
   }
  },
  {
   "cell_type": "markdown",
   "source": [
    "## Harmonic oscillator animation"
   ],
   "metadata": {
    "collapsed": false
   }
  },
  {
   "cell_type": "code",
   "execution_count": 42,
   "outputs": [],
   "source": [
    "experiment_name = \"harmonic_oscillator\"\n",
    "data = utils.get_data(experiment_name, count=gifs_count, sample_size=1000)"
   ],
   "metadata": {
    "collapsed": false
   }
  },
  {
   "cell_type": "code",
   "execution_count": 43,
   "outputs": [
    {
     "data": {
      "text/plain": "  0%|          | 0/10 [00:00<?, ?it/s]",
      "application/vnd.jupyter.widget-view+json": {
       "version_major": 2,
       "version_minor": 0,
       "model_id": "da8fe1797ec94ca5abec8c66a6aa1bc9"
      }
     },
     "metadata": {},
     "output_type": "display_data"
    }
   ],
   "source": [
    "for idx in tqdm(range(gifs_count)):\n",
    "    images = []\n",
    "\n",
    "    width = 512\n",
    "    center = width // 2\n",
    "    color_1 = (0, 0, 0)\n",
    "    color_2 = (255, 255, 255)\n",
    "    max_radius = int(center * 1.5)\n",
    "    step = 5\n",
    "\n",
    "    joint = (center, width // 6)\n",
    "    L = width // 3\n",
    "    a = width // 20\n",
    "\n",
    "    traj_h = data[idx]\n",
    "\n",
    "    maxX = np.max(traj_h[:,0])\n",
    "\n",
    "    for i in range(0, 1000, step):\n",
    "        raw_x, _ = traj_h[i]\n",
    "        x = raw_x * (width // 4) // maxX\n",
    "\n",
    "        im = Image.new('RGB', (width, width), color_1)\n",
    "        draw = ImageDraw.Draw(im)\n",
    "        box_center = (center, joint[1] + x + L)\n",
    "        draw.line((joint, box_center), fill=get_tension_color(raw_x / maxX))\n",
    "        draw.rectangle(((box_center[0] - a, box_center[1] - a), (box_center[0] + a, box_center[1] + a)))\n",
    "        images.append(im)\n",
    "\n",
    "    fname = f'gifs/{experiment_name}{idx}.gif'\n",
    "    images[0].save(fname,\n",
    "                   save_all=True, append_images=images[1:], optimize=False, duration=30, loop=0)\n",
    "    wandb.log({f\"{experiment_name} animation\": wandb.Video(fname, caption=experiment_name)})"
   ],
   "metadata": {
    "collapsed": false
   }
  },
  {
   "cell_type": "markdown",
   "source": [
    "![](gifs/harmonic_oscillator0.gif)"
   ],
   "metadata": {
    "collapsed": false
   }
  },
  {
   "cell_type": "markdown",
   "source": [
    "## Double pendulum animation"
   ],
   "metadata": {
    "collapsed": false
   }
  },
  {
   "cell_type": "code",
   "execution_count": 44,
   "outputs": [],
   "source": [
    "experiment_name = \"double_pendulum\"\n",
    "data = utils.get_data(experiment_name, count=gifs_count, sample_size=1000)"
   ],
   "metadata": {
    "collapsed": false
   }
  },
  {
   "cell_type": "code",
   "execution_count": 45,
   "outputs": [
    {
     "data": {
      "text/plain": "  0%|          | 0/10 [00:00<?, ?it/s]",
      "application/vnd.jupyter.widget-view+json": {
       "version_major": 2,
       "version_minor": 0,
       "model_id": "f46aeed45ac940db9fafcf2463673441"
      }
     },
     "metadata": {},
     "output_type": "display_data"
    }
   ],
   "source": [
    "for idx in tqdm(range(gifs_count)):\n",
    "    images = []\n",
    "\n",
    "    width = 512\n",
    "    center = width // 2\n",
    "    color_1 = (0, 0, 0)\n",
    "    color_2 = (255, 255, 255)\n",
    "    step = 1\n",
    "\n",
    "    joint = (center, width // 10)\n",
    "    L = width // 3\n",
    "    r = width // 20\n",
    "\n",
    "    for i in range(0, 1000, step):\n",
    "        theta1, theta2, _, _ = data[idx][i]\n",
    "        im = Image.new('RGB', (width, width), color_1)\n",
    "        draw = ImageDraw.Draw(im)\n",
    "        split_center = (joint[0] + L * np.sin(theta1), joint[1] + L * np.cos(theta1))\n",
    "        ball_center = (split_center[0] + L * np.sin(theta2), split_center[1] + L * np.cos(theta2))\n",
    "        draw.line((joint, split_center))\n",
    "        draw.line((split_center, ball_center))\n",
    "        draw.ellipse(((split_center[0] - r, split_center[1] - r), (split_center[0] + r, split_center[1] + r)))\n",
    "        draw.ellipse(((ball_center[0] - r, ball_center[1] - r), (ball_center[0] + r, ball_center[1] + r)))\n",
    "        images.append(im)\n",
    "\n",
    "    fname = f'gifs/{experiment_name}{idx}.gif'\n",
    "    images[0].save(fname,\n",
    "                   save_all=True, append_images=images[1:], optimize=False, duration=30, loop=0)\n",
    "    wandb.log({f\"{experiment_name} animation\": wandb.Video(fname, caption=experiment_name)})"
   ],
   "metadata": {
    "collapsed": false
   }
  },
  {
   "cell_type": "markdown",
   "source": [
    "![](gifs/double_pendulum0.gif)"
   ],
   "metadata": {
    "collapsed": false
   }
  },
  {
   "cell_type": "markdown",
   "source": [
    "## Coupled oscillator"
   ],
   "metadata": {
    "collapsed": false
   }
  },
  {
   "cell_type": "code",
   "execution_count": 46,
   "outputs": [],
   "source": [
    "experiment_name = \"coupled_oscillator\"\n",
    "data = utils.get_data(experiment_name, count=gifs_count, sample_size=1000)"
   ],
   "metadata": {
    "collapsed": false
   }
  },
  {
   "cell_type": "code",
   "execution_count": 48,
   "outputs": [
    {
     "data": {
      "text/plain": "  0%|          | 0/10 [00:00<?, ?it/s]",
      "application/vnd.jupyter.widget-view+json": {
       "version_major": 2,
       "version_minor": 0,
       "model_id": "e130b900718a489998c9eb4768860fc3"
      }
     },
     "metadata": {},
     "output_type": "display_data"
    }
   ],
   "source": [
    "for idx in tqdm(range(gifs_count)):\n",
    "    images = []\n",
    "\n",
    "    width = 512\n",
    "    center = width // 2\n",
    "    color_1 = (0, 0, 0)\n",
    "    color_2 = (255, 255, 255)\n",
    "    step = 1\n",
    "\n",
    "    joint = (center)\n",
    "    L = width // 3\n",
    "    a = width // 10\n",
    "    quarter = width // 4\n",
    "\n",
    "    traj_co = data[idx]\n",
    "    xMax = np.max(traj_co[:,0])\n",
    "\n",
    "    for i in range(0, 1000, step):\n",
    "        raw_x1, raw_x2, _, _ = traj_co[i]\n",
    "        x1 = width // 4 + raw_x1 * (width // 4 - a) // xMax\n",
    "        x2 = width * 3 // 4 + raw_x2 * (width // 4 - a) // xMax\n",
    "\n",
    "        im = Image.new('RGB', (width, width), color_1)\n",
    "        draw = ImageDraw.Draw(im)\n",
    "        draw.line(((0, center + a), (width, center + a)))\n",
    "        b1_center = (x1, center)\n",
    "        b2_center = (x2, center)\n",
    "        draw.line(((0, center), (x1 - a, center)), fill=get_tension_color((x1 - a) / (quarter - a) - 1))\n",
    "        draw.line(((x1 + a, center), (x2 - a, center)), fill=get_tension_color((x2 - x1 - a * 2) / (center - a * 2) - 1))\n",
    "        draw.line(((x2 + a, center), (width, center)), fill=get_tension_color((width - x2 - a) / (quarter - a) - 1))\n",
    "        draw.rectangle(((b1_center[0] - a, b1_center[1] - a), (b1_center[0] + a, b1_center[1] + a)))\n",
    "        draw.rectangle(((b2_center[0] - a, b2_center[1] - a), (b2_center[0] + a, b2_center[1] + a)))\n",
    "        images.append(im)\n",
    "\n",
    "    fname = f'gifs/{experiment_name}{idx}.gif'\n",
    "    images[0].save(fname,\n",
    "                   save_all=True, append_images=images[1:], optimize=False, duration=30, loop=0)\n",
    "    wandb.log({f\"{experiment_name} animation\": wandb.Video(fname, caption=experiment_name)})"
   ],
   "metadata": {
    "collapsed": false
   }
  },
  {
   "cell_type": "markdown",
   "source": [
    "![](gifs/coupled_oscillator0.gif)"
   ],
   "metadata": {
    "collapsed": false
   }
  },
  {
   "cell_type": "markdown",
   "source": [
    "## Kepler problem"
   ],
   "metadata": {
    "collapsed": false
   }
  },
  {
   "cell_type": "code",
   "execution_count": 49,
   "outputs": [],
   "source": [
    "experiment_name = \"kepler_problem\"\n",
    "data = utils.get_data(experiment_name, count=gifs_count, sample_size=1000)"
   ],
   "metadata": {
    "collapsed": false
   }
  },
  {
   "cell_type": "code",
   "execution_count": 50,
   "outputs": [
    {
     "data": {
      "text/plain": "  0%|          | 0/10 [00:00<?, ?it/s]",
      "application/vnd.jupyter.widget-view+json": {
       "version_major": 2,
       "version_minor": 0,
       "model_id": "30c2b1bf206f44099f9ad124f159e4b4"
      }
     },
     "metadata": {},
     "output_type": "display_data"
    }
   ],
   "source": [
    "for idx in tqdm(range(gifs_count)):\n",
    "    images = []\n",
    "\n",
    "    width = 512\n",
    "    center = width // 2\n",
    "    color_1 = (0, 0, 0)\n",
    "    color_2 = (255, 255, 255)\n",
    "    step = 8\n",
    "\n",
    "    sun = (center, center)\n",
    "    R = width // 50\n",
    "    r = width // 50\n",
    "\n",
    "    traj_kp = data[idx]\n",
    "\n",
    "    maxX = np.max(np.abs(traj_kp[:,0]))\n",
    "    maxY = np.max(np.abs(traj_kp[:,1]))\n",
    "    maxD = max(maxX, maxY)\n",
    "\n",
    "    for i in range(0, 1000, step):\n",
    "        raw_x, raw_y, _, _ = traj_kp[i]\n",
    "        x = center + raw_x * (width // 2 - a) // maxD\n",
    "        y = center + raw_y * (width // 2 - a) // maxD\n",
    "\n",
    "        im = Image.new('RGB', (width, width), color_1)\n",
    "        draw = ImageDraw.Draw(im)\n",
    "        draw.ellipse(((sun[0] - R, sun[1] - R), (sun[0] + R, sun[1] + R)), width=3)\n",
    "        draw.ellipse(((x - r, y - r), (x + r, y + r)))\n",
    "        images.append(im)\n",
    "\n",
    "    fname = f'gifs/{experiment_name}{idx}.gif'\n",
    "    images[0].save(fname,\n",
    "                   save_all=True, append_images=images[1:], optimize=False, duration=30, loop=0)\n",
    "    wandb.log({f\"{experiment_name} animation\": wandb.Video(fname, caption=experiment_name)})"
   ],
   "metadata": {
    "collapsed": false
   }
  },
  {
   "cell_type": "markdown",
   "source": [
    "![](gifs/kepler_problem0.gif)"
   ],
   "metadata": {
    "collapsed": false
   }
  },
  {
   "cell_type": "code",
   "execution_count": 51,
   "outputs": [
    {
     "data": {
      "text/plain": "<IPython.core.display.HTML object>",
      "text/html": "Waiting for W&B process to finish... <strong style=\"color:green\">(success).</strong>"
     },
     "metadata": {},
     "output_type": "display_data"
    },
    {
     "data": {
      "text/plain": "VBox(children=(Label(value='32.602 MB of 32.624 MB uploaded (0.000 MB deduped)\\r'), FloatProgress(value=0.9993…",
      "application/vnd.jupyter.widget-view+json": {
       "version_major": 2,
       "version_minor": 0,
       "model_id": "fa4e05a4f3fd433f90f3e6d58bd1dcb3"
      }
     },
     "metadata": {},
     "output_type": "display_data"
    },
    {
     "data": {
      "text/plain": "<IPython.core.display.HTML object>",
      "text/html": " View run <strong style=\"color:#cdcd00\">zesty-rain-2</strong> at: <a href='https://wandb.ai/ai-prentice/trajectory-visualization/runs/swntb9ko' target=\"_blank\">https://wandb.ai/ai-prentice/trajectory-visualization/runs/swntb9ko</a><br/>Synced 5 W&B file(s), 50 media file(s), 0 artifact file(s) and 0 other file(s)"
     },
     "metadata": {},
     "output_type": "display_data"
    },
    {
     "data": {
      "text/plain": "<IPython.core.display.HTML object>",
      "text/html": "Find logs at: <code>.\\wandb\\run-20230218_225649-swntb9ko\\logs</code>"
     },
     "metadata": {},
     "output_type": "display_data"
    }
   ],
   "source": [
    "wandb.finish()"
   ],
   "metadata": {
    "collapsed": false
   }
  }
 ],
 "metadata": {
  "kernelspec": {
   "display_name": "Python 3",
   "language": "python",
   "name": "python3"
  },
  "language_info": {
   "codemirror_mode": {
    "name": "ipython",
    "version": 2
   },
   "file_extension": ".py",
   "mimetype": "text/x-python",
   "name": "python",
   "nbconvert_exporter": "python",
   "pygments_lexer": "ipython2",
   "version": "2.7.6"
  }
 },
 "nbformat": 4,
 "nbformat_minor": 0
}
