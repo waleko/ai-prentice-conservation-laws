{
 "cells": [
  {
   "cell_type": "code",
   "execution_count": 1,
   "metadata": {
    "collapsed": true
   },
   "outputs": [],
   "source": [
    "import numpy as np\n",
    "from ipywidgets import widgets\n",
    "from PIL import Image, ImageDraw"
   ]
  },
  {
   "cell_type": "code",
   "execution_count": 2,
   "outputs": [],
   "source": [
    "import utils"
   ],
   "metadata": {
    "collapsed": false
   }
  },
  {
   "cell_type": "code",
   "execution_count": 3,
   "outputs": [],
   "source": [
    "import creating.pendulum as pend\n",
    "import creating.harmonic_oscillator as ho\n",
    "import creating.kepler_problem as kp\n",
    "import creating.double_pendulum as dp\n",
    "import creating.coupled_oscillator as co"
   ],
   "metadata": {
    "collapsed": false
   }
  },
  {
   "cell_type": "code",
   "execution_count": 4,
   "outputs": [
    {
     "name": "stderr",
     "output_type": "stream",
     "text": [
      "Џ®¤Ї ЇЄ  Ё«Ё д ©« -p г¦Ґ бгйҐбвўгҐв.\n",
      "ЋиЁЎЄ  ў® ўаҐ¬п ®Ўа Ў®вЄЁ: -p.\n",
      "Џ®¤Ї ЇЄ  Ё«Ё д ©« gifs г¦Ґ бгйҐбвўгҐв.\n",
      "ЋиЁЎЄ  ў® ўаҐ¬п ®Ўа Ў®вЄЁ: gifs.\n",
      "ЋиЁЎЄ  ў бЁ­в ЄбЁбҐ Є®¬ ­¤л.\n",
      "ЋиЁЎЄ  ў бЁ­в ЄбЁбҐ Є®¬ ­¤л.\n",
      "ЋиЁЎЄ  ў бЁ­в ЄбЁбҐ Є®¬ ­¤л.\n",
      "ЋиЁЎЄ  ў бЁ­в ЄбЁбҐ Є®¬ ­¤л.\n",
      "ЋиЁЎЄ  ў бЁ­в ЄбЁбҐ Є®¬ ­¤л.\n",
      "ЋиЁЎЄ  ў бЁ­в ЄбЁбҐ Є®¬ ­¤л.\n"
     ]
    }
   ],
   "source": [
    "%mkdir -p gifs\n",
    "%mkdir -p trajectories/coupled_oscillator\n",
    "%mkdir -p trajectories/double_pendulum\n",
    "%mkdir -p trajectories/harmonic_oscillator\n",
    "%mkdir -p trajectories/pendulum\n",
    "%mkdir -p trajectories/kepler_problem\n",
    "%mkdir -p trajectories/three_body_problem"
   ],
   "metadata": {
    "collapsed": false
   }
  },
  {
   "cell_type": "code",
   "execution_count": 5,
   "outputs": [
    {
     "name": "stderr",
     "output_type": "stream",
     "text": [
      "100%|██████████| 5/5 [00:00<00:00, 106.54it/s]\n",
      "100%|██████████| 5/5 [00:00<?, ?it/s]\n",
      "100%|██████████| 5/5 [00:00<00:00, 66.41it/s]\n",
      "100%|██████████| 5/5 [00:00<00:00,  5.37it/s]\n",
      "5it [00:00, ?it/s]\n"
     ]
    },
    {
     "data": {
      "text/plain": "(array([[[ 1.        ,  0.42306325, -0.01215549, -0.00212293],\n         [ 0.97979209,  0.4249988 , -0.1932855 , -0.03456292],\n         [ 0.76388918,  0.43993019, -0.61857209, -0.14073754],\n         ...,\n         [ 0.10422797,  0.6231214 ,  0.48504603,  0.73858145],\n         [ 0.20277626,  0.77917091,  0.49654657,  0.53402523],\n         [ 0.2050213 ,  0.78170036,  0.49657905,  0.52942201]],\n \n        [[ 0.70763415,  0.39088204, -0.09990932, -0.03288076],\n         [ 0.70647537,  0.39080401, -0.10730516, -0.03535066],\n         [ 0.70609524,  0.39077832, -0.10961995, -0.03612528],\n         ...,\n         [ 0.23935707,  0.56350122,  0.38451183,  0.37723048],\n         [ 0.27727415,  0.59565146,  0.37086047,  0.30944272],\n         [ 0.27991415,  0.59755755,  0.36977051,  0.30465761]],\n \n        [[ 0.35378262, -0.10619519, -0.01310349,  0.00688985],\n         [ 0.31069698, -0.07640562, -0.16485275,  0.08447116],\n         [ 0.1365597 ,  0.03895021, -0.31250076,  0.13757322],\n         ...,\n         [-0.14742762,  0.29333054,  0.03347254,  0.16689412],\n         [-0.14407865,  0.31559728,  0.07558467,  0.10336519],\n         [-0.11961298,  0.32284764,  0.13482596,  0.00709637]],\n \n        [[ 0.75075622,  0.14288759, -0.06521656,  0.00543678],\n         [ 0.74974114,  0.14323648, -0.07528792,  0.00625779],\n         [ 0.6987848 ,  0.16045863, -0.27200816,  0.01914749],\n         ...,\n         [-0.01113024,  0.59357522,  0.29228418,  0.38852178],\n         [ 0.0661707 ,  0.65934048,  0.33891289,  0.18679896],\n         [ 0.06938787,  0.66036336,  0.34012085,  0.17968836]],\n \n        [[ 0.75456313,  0.5753856 , -0.04761828, -0.02953712],\n         [ 0.7542381 ,  0.57524814, -0.05230646, -0.03244888],\n         [ 0.68691719,  0.5460965 , -0.30846152, -0.19602214],\n         ...,\n         [ 0.16978866,  0.30090493,  0.56124848,  0.68524352],\n         [ 0.17264121,  0.30494206,  0.5605672 ,  0.68330096],\n         [ 0.4293028 ,  0.6076263 ,  0.43282161,  0.4037824 ]]]),\n array([0.96684261, 0.58445174, 0.02930247, 0.38299132, 0.84709922]),\n array([0.6364314 , 0.20044746, 0.40480428, 0.71547123, 0.06213983]))"
     },
     "execution_count": 5,
     "metadata": {},
     "output_type": "execute_result"
    }
   ],
   "source": [
    "pend.create_trajectories(5, traj_len=1000)\n",
    "ho.create_trajectories(5, traj_len=1000)\n",
    "kp.create_trajectories(5, traj_len=1000)\n",
    "dp.create_trajectories(5, traj_len=1000)\n",
    "co.create_trajectories(5, traj_len=1000)"
   ],
   "metadata": {
    "collapsed": false
   }
  },
  {
   "cell_type": "code",
   "execution_count": 6,
   "outputs": [],
   "source": [
    "def show(filename):\n",
    "    file = open(filename, \"rb\")\n",
    "    image = file.read()\n",
    "    return widgets.Image(\n",
    "        value=image,\n",
    "        format='gif'\n",
    "    )"
   ],
   "metadata": {
    "collapsed": false
   }
  },
  {
   "cell_type": "code",
   "execution_count": 7,
   "outputs": [],
   "source": [
    "def get_tension_color(perc):\n",
    "    return min(255, int(255 * (1 + perc))), int(255 * (1 - abs(perc))), min(255, int(255 * (1 - perc)))"
   ],
   "metadata": {
    "collapsed": false
   }
  },
  {
   "cell_type": "markdown",
   "source": [
    "## Pendulum animation"
   ],
   "metadata": {
    "collapsed": false
   }
  },
  {
   "cell_type": "code",
   "execution_count": 8,
   "outputs": [],
   "source": [
    "traj_p = utils.get_data(\"pendulum\", count=1, sample_size=1000)[0]"
   ],
   "metadata": {
    "collapsed": false
   }
  },
  {
   "cell_type": "code",
   "execution_count": 9,
   "outputs": [],
   "source": [
    "images = []\n",
    "\n",
    "width = 500\n",
    "center = width // 2\n",
    "color_1 = (0, 0, 0)\n",
    "color_2 = (255, 255, 255)\n",
    "max_radius = int(center * 1.5)\n",
    "step = 5\n",
    "\n",
    "joint = (center, width // 3)\n",
    "L = width // 3\n",
    "r = width // 10\n",
    "\n",
    "for i in range(0, 1000, step):\n",
    "    alpha, _ = traj_p[i]\n",
    "    im = Image.new('RGB', (width, width), color_1)\n",
    "    draw = ImageDraw.Draw(im)\n",
    "    ball_center = (joint[0] + L * np.sin(alpha), joint[1] + L * np.cos(alpha))\n",
    "    draw.line((joint, ball_center))\n",
    "    draw.ellipse(((ball_center[0] - r, ball_center[1] - r), (ball_center[0] + r, ball_center[1] + r)))\n",
    "    images.append(im)\n",
    "\n",
    "images[0].save('gifs/pendulum.gif',\n",
    "               save_all=True, append_images=images[1:], optimize=False, duration=30, loop=0)"
   ],
   "metadata": {
    "collapsed": false
   }
  },
  {
   "cell_type": "code",
   "execution_count": 10,
   "outputs": [
    {
     "data": {
      "text/plain": "Image(value=b'GIF89a\\xf4\\x01\\xf4\\x01\\x87\\x00\\x00\\xff\\xff\\xff\\x00\\x00\\x00\\x00\\x00\\x00\\x00\\x00\\x00\\x00\\x00\\x00\\x…",
      "application/vnd.jupyter.widget-view+json": {
       "version_major": 2,
       "version_minor": 0,
       "model_id": "69427976b1af49f0a501562fe1316ce4"
      }
     },
     "metadata": {},
     "output_type": "display_data"
    }
   ],
   "source": [
    "show(\"gifs/pendulum.gif\")"
   ],
   "metadata": {
    "collapsed": false
   }
  },
  {
   "cell_type": "markdown",
   "source": [
    "## Harmonic oscillator animation"
   ],
   "metadata": {
    "collapsed": false
   }
  },
  {
   "cell_type": "code",
   "execution_count": 11,
   "outputs": [],
   "source": [
    "traj_h = utils.get_data(\"harmonic_oscillator\", count=1, sample_size=1000)[0]"
   ],
   "metadata": {
    "collapsed": false
   }
  },
  {
   "cell_type": "code",
   "execution_count": 12,
   "outputs": [],
   "source": [
    "images = []\n",
    "\n",
    "width = 500\n",
    "center = width // 2\n",
    "color_1 = (0, 0, 0)\n",
    "color_2 = (255, 255, 255)\n",
    "max_radius = int(center * 1.5)\n",
    "step = 5\n",
    "\n",
    "joint = (center, width // 6)\n",
    "L = width // 3\n",
    "a = width // 20\n",
    "\n",
    "maxX = np.max(traj_h[:,0])\n",
    "\n",
    "for i in range(0, 1000, step):\n",
    "    raw_x, _ = traj_h[i]\n",
    "    x = raw_x * (width // 4) // maxX\n",
    "\n",
    "    im = Image.new('RGB', (width, width), color_1)\n",
    "    draw = ImageDraw.Draw(im)\n",
    "    box_center = (center, joint[1] + x + L)\n",
    "    draw.line((joint, box_center), fill=get_tension_color(raw_x / maxX))\n",
    "    draw.rectangle(((box_center[0] - a, box_center[1] - a), (box_center[0] + a, box_center[1] + a)))\n",
    "    images.append(im)\n",
    "\n",
    "images[0].save('gifs/harmonic_oscillator.gif',\n",
    "               save_all=True, append_images=images[1:], optimize=False, duration=30, loop=0)"
   ],
   "metadata": {
    "collapsed": false
   }
  },
  {
   "cell_type": "code",
   "execution_count": 13,
   "outputs": [
    {
     "data": {
      "text/plain": "Image(value=b'GIF89a\\xf4\\x01\\xf4\\x01\\x87\\x00\\x00\\xff\\xff\\xff\\xff\\xfd\\xfd\\x00\\x00\\x00\\x00\\x00\\x00\\x00\\x00\\x00\\x…",
      "application/vnd.jupyter.widget-view+json": {
       "version_major": 2,
       "version_minor": 0,
       "model_id": "e3e0c06ba5034f1b9ccd30e1c03f817d"
      }
     },
     "metadata": {},
     "output_type": "display_data"
    }
   ],
   "source": [
    "show('gifs/harmonic_oscillator.gif')"
   ],
   "metadata": {
    "collapsed": false
   }
  },
  {
   "cell_type": "markdown",
   "source": [
    "## Double pendulum animation"
   ],
   "metadata": {
    "collapsed": false
   }
  },
  {
   "cell_type": "code",
   "execution_count": 14,
   "outputs": [],
   "source": [
    "traj_dp = utils.get_data(\"double_pendulum\", count=1, sample_size=1000)[0]"
   ],
   "metadata": {
    "collapsed": false
   }
  },
  {
   "cell_type": "code",
   "execution_count": 25,
   "outputs": [],
   "source": [
    "images = []\n",
    "\n",
    "width = 500\n",
    "center = width // 2\n",
    "color_1 = (0, 0, 0)\n",
    "color_2 = (255, 255, 255)\n",
    "step = 1\n",
    "\n",
    "joint = (center, width // 10)\n",
    "L = width // 3\n",
    "r = width // 20\n",
    "\n",
    "for i in range(0, 1000, step):\n",
    "    theta1, theta2, _, _ = traj_dp[i]\n",
    "    im = Image.new('RGB', (width, width), color_1)\n",
    "    draw = ImageDraw.Draw(im)\n",
    "    split_center = (joint[0] + L * np.sin(theta1), joint[1] + L * np.cos(theta1))\n",
    "    ball_center = (split_center[0] + L * np.sin(theta2), split_center[1] + L * np.cos(theta2))\n",
    "    draw.line((joint, split_center))\n",
    "    draw.line((split_center, ball_center))\n",
    "    draw.ellipse(((split_center[0] - r, split_center[1] - r), (split_center[0] + r, split_center[1] + r)))\n",
    "    draw.ellipse(((ball_center[0] - r, ball_center[1] - r), (ball_center[0] + r, ball_center[1] + r)))\n",
    "    images.append(im)\n",
    "\n",
    "images[0].save('gifs/double_pendulum.gif',\n",
    "               save_all=True, append_images=images[1:], optimize=False, duration=30, loop=0)"
   ],
   "metadata": {
    "collapsed": false
   }
  },
  {
   "cell_type": "code",
   "execution_count": 26,
   "outputs": [
    {
     "data": {
      "text/plain": "Image(value=b'GIF89a\\xf4\\x01\\xf4\\x01\\x87\\x00\\x00\\xff\\xff\\xff\\x00\\x00\\x00\\x00\\x00\\x00\\x00\\x00\\x00\\x00\\x00\\x00\\x…",
      "application/vnd.jupyter.widget-view+json": {
       "version_major": 2,
       "version_minor": 0,
       "model_id": "6840de3bcf5a409ba0e973c029352ec0"
      }
     },
     "metadata": {},
     "output_type": "display_data"
    }
   ],
   "source": [
    "show('gifs/double_pendulum.gif')"
   ],
   "metadata": {
    "collapsed": false
   }
  },
  {
   "cell_type": "markdown",
   "source": [
    "## Coupled oscillator"
   ],
   "metadata": {
    "collapsed": false
   }
  },
  {
   "cell_type": "code",
   "execution_count": 17,
   "outputs": [],
   "source": [
    "traj_co = utils.get_data(\"coupled_oscillator\", count=1, sample_size=1000)[0]"
   ],
   "metadata": {
    "collapsed": false
   }
  },
  {
   "cell_type": "code",
   "execution_count": 18,
   "outputs": [],
   "source": [
    "images = []\n",
    "\n",
    "width = 500\n",
    "center = width // 2\n",
    "color_1 = (0, 0, 0)\n",
    "color_2 = (255, 255, 255)\n",
    "step = 1\n",
    "\n",
    "joint = (center)\n",
    "L = width // 3\n",
    "a = width // 10\n",
    "quarter = width // 4\n",
    "\n",
    "xMax = np.max(traj_co[:,0])\n",
    "\n",
    "for i in range(0, 1000, step):\n",
    "    raw_x1, raw_x2, _, _ = traj_co[i]\n",
    "    x1 = width // 4 + raw_x1 * (width // 4 - a) // xMax\n",
    "    x2 = width * 3 // 4 + raw_x2 * (width // 4 - a) // xMax\n",
    "\n",
    "    im = Image.new('RGB', (width, width), color_1)\n",
    "    draw = ImageDraw.Draw(im)\n",
    "    draw.line(((0, center + a), (width, center + a)))\n",
    "    b1_center = (x1, center)\n",
    "    b2_center = (x2, center)\n",
    "    draw.line(((0, center), (x1 - a, center)), fill=get_tension_color((x1 - a) / (quarter - a) - 1))\n",
    "    draw.line(((x1 + a, center), (x2 - a, center)), fill=get_tension_color((x2 - x1 - a * 2) / (center - a * 2) - 1))\n",
    "    draw.line(((x2 + a, center), (width, center)), fill=get_tension_color((width - x2 - a) / (quarter - a) - 1))\n",
    "    draw.rectangle(((b1_center[0] - a, b1_center[1] - a), (b1_center[0] + a, b1_center[1] + a)))\n",
    "    draw.rectangle(((b2_center[0] - a, b2_center[1] - a), (b2_center[0] + a, b2_center[1] + a)))\n",
    "    images.append(im)\n",
    "\n",
    "images[0].save('gifs/coupled_oscillator.gif',\n",
    "               save_all=True, append_images=images[1:], optimize=False, duration=30, loop=0)"
   ],
   "metadata": {
    "collapsed": false
   }
  },
  {
   "cell_type": "code",
   "execution_count": 19,
   "outputs": [
    {
     "data": {
      "text/plain": "Image(value=b'GIF89a\\xf4\\x01\\xf4\\x01\\x87\\x00\\x00\\xff\\xff\\xff\\xb4\\xb4\\xff\\x95\\x95\\xff\\xff\\x00\\x00\\x00\\x00\\x00\\x…",
      "application/vnd.jupyter.widget-view+json": {
       "version_major": 2,
       "version_minor": 0,
       "model_id": "e31d21864e9d4b749eb7b1c56bbedd20"
      }
     },
     "metadata": {},
     "output_type": "display_data"
    }
   ],
   "source": [
    "show('gifs/coupled_oscillator.gif')"
   ],
   "metadata": {
    "collapsed": false
   }
  },
  {
   "cell_type": "markdown",
   "source": [
    "## Kepler problem"
   ],
   "metadata": {
    "collapsed": false
   }
  },
  {
   "cell_type": "code",
   "execution_count": 20,
   "outputs": [],
   "source": [
    "traj_kp = utils.get_data(\"kepler_problem\", count=5, sample_size=1000)[0]"
   ],
   "metadata": {
    "collapsed": false
   }
  },
  {
   "cell_type": "code",
   "execution_count": 21,
   "outputs": [],
   "source": [
    "images = []\n",
    "\n",
    "width = 500\n",
    "center = width // 2\n",
    "color_1 = (0, 0, 0)\n",
    "color_2 = (255, 255, 255)\n",
    "step = 8\n",
    "\n",
    "sun = (center, center)\n",
    "R = width // 50\n",
    "r = width // 50\n",
    "\n",
    "maxX = np.max(np.abs(traj_kp[:,0]))\n",
    "maxY = np.max(np.abs(traj_kp[:,1]))\n",
    "maxD = max(maxX, maxY)\n",
    "\n",
    "for i in range(0, 1000, step):\n",
    "    raw_x, raw_y, _, _ = traj_kp[i]\n",
    "    x = center + raw_x * (width // 2 - a) // maxD\n",
    "    y = center + raw_y * (width // 2 - a) // maxD\n",
    "\n",
    "    im = Image.new('RGB', (width, width), color_1)\n",
    "    draw = ImageDraw.Draw(im)\n",
    "    draw.ellipse(((sun[0] - R, sun[1] - R), (sun[0] + R, sun[1] + R)), width=3)\n",
    "    draw.ellipse(((x - r, y - r), (x + r, y + r)))\n",
    "    images.append(im)\n",
    "\n",
    "images[0].save('gifs/kepler_problem.gif',\n",
    "               save_all=True, append_images=images[1:], optimize=False, duration=30, loop=0)"
   ],
   "metadata": {
    "collapsed": false
   }
  },
  {
   "cell_type": "code",
   "execution_count": 22,
   "outputs": [
    {
     "data": {
      "text/plain": "Image(value=b'GIF89a\\xf4\\x01\\xf4\\x01\\x87\\x00\\x00\\xff\\xff\\xff\\x00\\x00\\x00\\x00\\x00\\x00\\x00\\x00\\x00\\x00\\x00\\x00\\x…",
      "application/vnd.jupyter.widget-view+json": {
       "version_major": 2,
       "version_minor": 0,
       "model_id": "764e08a12ccb4cc8a5a2a898008b6c00"
      }
     },
     "metadata": {},
     "output_type": "display_data"
    }
   ],
   "source": [
    "show('gifs/kepler_problem.gif')"
   ],
   "metadata": {
    "collapsed": false
   }
  }
 ],
 "metadata": {
  "kernelspec": {
   "display_name": "Python 3",
   "language": "python",
   "name": "python3"
  },
  "language_info": {
   "codemirror_mode": {
    "name": "ipython",
    "version": 2
   },
   "file_extension": ".py",
   "mimetype": "text/x-python",
   "name": "python",
   "nbconvert_exporter": "python",
   "pygments_lexer": "ipython2",
   "version": "2.7.6"
  }
 },
 "nbformat": 4,
 "nbformat_minor": 0
}
