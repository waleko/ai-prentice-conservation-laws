{
 "cells": [
  {
   "cell_type": "code",
   "execution_count": null,
   "metadata": {
    "collapsed": true
   },
   "outputs": [],
   "source": [
    "from typing import Iterator\n",
    "\n",
    "import matplotlib.pyplot as plt\n",
    "import numpy as np\n",
    "from tqdm.notebook import tqdm\n",
    "import torch\n",
    "from torch import nn\n",
    "from torch.utils.data import DataLoader\n",
    "\n",
    "import torch\n",
    "from torch import nn\n",
    "from torch.nn import functional as F, Parameter\n",
    "from torch.utils.data import DataLoader\n",
    "from torch.utils.data import random_split\n",
    "import pytorch_lightning as pl"
   ]
  },
  {
   "cell_type": "code",
   "execution_count": null,
   "metadata": {
    "collapsed": false
   },
   "outputs": [],
   "source": [
    "import utils\n",
    "from experiments import *"
   ]
  },
  {
   "cell_type": "code",
   "execution_count": null,
   "metadata": {
    "collapsed": false
   },
   "outputs": [],
   "source": [
    "import wandb\n",
    "wandb.init(project=\"Autoencoders Algebra\")"
   ]
  },
  {
   "cell_type": "code",
   "execution_count": null,
   "metadata": {
    "collapsed": false
   },
   "outputs": [],
   "source": [
    "class Algebraic(nn.Module):\n",
    "\n",
    "    def __init__(self, input_dim):\n",
    "        super().__init__()\n",
    "        # self.funcs = [torch.sin, torch.cos, torch.tan]\n",
    "        # self.param = nn.ParameterDict({\n",
    "        #     's1': nn.Parameter(torch.tensor([1], dtype=torch.float32), requires_grad=True),\n",
    "        #     's2': nn.Parameter(torch.tensor(np.zeros(input_dim), dtype=torch.float32), requires_grad=True),\n",
    "        #     'c1': nn.Parameter(torch.tensor([1], dtype=torch.float32), requires_grad=True),\n",
    "        #     'c2': nn.Parameter(torch.tensor(np.zeros(input_dim), dtype=torch.float32), requires_grad=True),\n",
    "        #     't1': nn.Parameter(torch.tensor([1], dtype=torch.float32), requires_grad=True),\n",
    "        #     't2': nn.Parameter(torch.tensor(np.zeros(input_dim), dtype=torch.float32), requires_grad=True),\n",
    "        # })\n",
    "\n",
    "    def forward(self, x):\n",
    "        return torch.concat((\n",
    "            x,\n",
    "            torch.sin(x),\n",
    "            torch.cos(x),\n",
    "            torch.arcsin(((x + 1) % 2) - 1)\n",
    "        ), dim=1)\n",
    "\n",
    "    output_dim = 4 # update according to `forward`\n",
    "\n",
    "    # def parameters(self, recurse: bool = True) -> Iterator[Parameter]:\n",
    "    #     return self.param.values().__iter__()"
   ]
  },
  {
   "cell_type": "code",
   "execution_count": null,
   "metadata": {
    "collapsed": false
   },
   "outputs": [],
   "source": [
    "class DefaultAE(nn.Module):\n",
    "    name = \"Default AE\"\n",
    "    def __init__(self, input_dim: int, hidden_dim: int, intermediate_dim: int):\n",
    "        super(DefaultAE, self).__init__()\n",
    "        self.encoder = nn.Sequential(\n",
    "            nn.Linear(input_dim, intermediate_dim),\n",
    "            nn.Tanh(),\n",
    "            nn.Linear(intermediate_dim, intermediate_dim),\n",
    "            nn.Tanh(),\n",
    "            nn.Linear(intermediate_dim, intermediate_dim),\n",
    "            nn.Tanh(),\n",
    "            nn.Linear(intermediate_dim, intermediate_dim),\n",
    "            nn.Tanh(),\n",
    "            nn.Linear(intermediate_dim, intermediate_dim),\n",
    "            nn.Tanh(),\n",
    "            nn.Linear(intermediate_dim, intermediate_dim),\n",
    "            nn.Tanh(),\n",
    "            nn.Linear(intermediate_dim, hidden_dim),\n",
    "            nn.Tanh(),\n",
    "        )\n",
    "        self.decoder = nn.Sequential(\n",
    "            nn.Linear(hidden_dim, intermediate_dim),\n",
    "            nn.Tanh(),\n",
    "            nn.Linear(intermediate_dim, intermediate_dim),\n",
    "            nn.Tanh(),\n",
    "            nn.Linear(intermediate_dim, intermediate_dim),\n",
    "            nn.Tanh(),\n",
    "            nn.Linear(intermediate_dim, intermediate_dim),\n",
    "            nn.Tanh(),\n",
    "            nn.Linear(intermediate_dim, intermediate_dim),\n",
    "            nn.Tanh(),\n",
    "            nn.Linear(intermediate_dim, intermediate_dim),\n",
    "            nn.Tanh(),\n",
    "            nn.Linear(intermediate_dim, input_dim),\n",
    "        )\n",
    "\n",
    "    def forward(self, x):\n",
    "        x = self.encoder(x)\n",
    "        x = self.decoder(x)\n",
    "        return x"
   ]
  },
  {
   "cell_type": "code",
   "execution_count": null,
   "metadata": {
    "collapsed": false
   },
   "outputs": [],
   "source": [
    "class AlgebraAE(nn.Module):\n",
    "    name = \"Algebra AE\"\n",
    "    def __init__(self, input_dim: int, hidden_dim: int, intermediate_dim: int):\n",
    "        super(AlgebraAE, self).__init__()\n",
    "        self.encoder = nn.Sequential(\n",
    "            nn.Linear(input_dim, intermediate_dim),\n",
    "            nn.Tanh(),\n",
    "            nn.Linear(intermediate_dim, intermediate_dim),\n",
    "            nn.Tanh(),\n",
    "            nn.Linear(intermediate_dim, intermediate_dim),\n",
    "            nn.Tanh(),\n",
    "            nn.Linear(intermediate_dim, intermediate_dim),\n",
    "            nn.Tanh(),\n",
    "            nn.Linear(intermediate_dim, intermediate_dim),\n",
    "            nn.Tanh(),\n",
    "            nn.Linear(intermediate_dim, intermediate_dim),\n",
    "            nn.Tanh(),\n",
    "            nn.Linear(intermediate_dim, hidden_dim),\n",
    "            # Algebra begin\n",
    "            Algebraic(hidden_dim),\n",
    "            nn.Linear(Algebraic.output_dim * hidden_dim, hidden_dim),\n",
    "        )\n",
    "        self.decoder = nn.Sequential(\n",
    "            Algebraic(hidden_dim),\n",
    "            # Algebra end\n",
    "            nn.Linear(Algebraic.output_dim * hidden_dim, intermediate_dim),\n",
    "            nn.Tanh(),\n",
    "            nn.Linear(intermediate_dim, intermediate_dim),\n",
    "            nn.Tanh(),\n",
    "            nn.Linear(intermediate_dim, intermediate_dim),\n",
    "            nn.Tanh(),\n",
    "            nn.Linear(intermediate_dim, intermediate_dim),\n",
    "            nn.Tanh(),\n",
    "            nn.Linear(intermediate_dim, intermediate_dim),\n",
    "            nn.Tanh(),\n",
    "            nn.Linear(intermediate_dim, intermediate_dim),\n",
    "            nn.Tanh(),\n",
    "            nn.Linear(intermediate_dim, 2),\n",
    "        )\n",
    "    def forward(self, x):\n",
    "        embedding = self.encoder(x)\n",
    "        return self.decoder(embedding)"
   ]
  },
  {
   "cell_type": "markdown",
   "metadata": {},
   "source": [
    "## Training"
   ]
  },
  {
   "cell_type": "code",
   "execution_count": null,
   "metadata": {},
   "outputs": [],
   "source": [
    "def train_model(train_dataloader, valid_dataloader, input_dim: int, experiment_name: str, hidden_layer_dim: int, ae, epochs=1000, intermediate_dim=20, batch_size=10):\n",
    "    model = ae(input_dim, hidden_layer_dim, intermediate_dim).to(device)\n",
    "    criterion = nn.MSELoss().to(device)\n",
    "    optimizer = torch.optim.Adam(model.parameters())\n",
    "\n",
    "    counter = 0\n",
    "    for epoch in tqdm(range(epochs)):\n",
    "        train_losses = []\n",
    "        valid_losses = []\n",
    "\n",
    "        model.train()\n",
    "        for batch_pts in train_dataloader:\n",
    "            inp = batch_pts.float().to(device)\n",
    "            output = model(inp)\n",
    "            loss = criterion(output, inp)\n",
    "            train_losses.append(loss.item())\n",
    "\n",
    "            loss.backward()\n",
    "            optimizer.step()\n",
    "            optimizer.zero_grad()\n",
    "        \n",
    "        model.eval()\n",
    "        for batch_pts in valid_dataloader:\n",
    "            inp = batch_pts.float().to(device)\n",
    "            output = model(inp)\n",
    "            loss = criterion(output, inp)\n",
    "            valid_losses.append(loss.item())\n",
    "        \n",
    "        train_loss = np.sqrt(np.average(train_losses))\n",
    "        valid_loss = np.sqrt(np.average(valid_losses))\n",
    "\n",
    "        wandb.log({f\"{experiment_name}_{hidden_layer_dim}_train_loss_{ae.name}\": train_loss})\n",
    "        wandb.log({f\"{experiment_name}_{hidden_layer_dim}_val_loss_{ae.name}\": valid_loss})\n",
    "        \n",
    "        if valid_loss < decision_threshold / 2:\n",
    "            counter += 1\n",
    "        else:\n",
    "            counter = 0\n",
    "        if counter > 50:\n",
    "            wandb.alert(title=\"Early stopping\", text=f\"Early stopping for {experiment_name}{hidden_layer_dim} on epoch #{epoch}/{epochs}\")\n",
    "            print(\"Early stopping\")\n",
    "            break\n",
    "\n",
    "    return model"
   ]
  },
  {
   "cell_type": "code",
   "execution_count": null,
   "metadata": {},
   "outputs": [],
   "source": [
    "device = \"cpu\"\n",
    "decision_threshold = 0.02"
   ]
  },
  {
   "cell_type": "code",
   "execution_count": null,
   "metadata": {},
   "outputs": [],
   "source": [
    "def train_n_eff(exp: PhysExperiment, ae, epochs=5000, intermediate_dim=20, batch_size=10):\n",
    "    n_eff = exp.n_eff\n",
    "    traj = exp.single_trajectory(42)\n",
    "    traj_scaled = MaxAbsScaler().fit_transform(traj) # scale\n",
    "    traj_train, traj_val, traj_test = random_split(traj_scaled, [0.8, 0.1, 0.1])\n",
    "\n",
    "    train_dataloader = DataLoader(traj_train, batch_size=batch_size, shuffle=True)\n",
    "    valid_dataloader = DataLoader(traj_val, batch_size=batch_size, shuffle=True)\n",
    "    test_dataloader = DataLoader(traj_test, batch_size=batch_size, shuffle=True)\n",
    "    \n",
    "    model = train_model(train_dataloader, valid_dataloader, traj.shape[1], exp.experiment_name, n_eff, ae, epochs, intermediate_dim, batch_size)\n",
    "    test_traj = torch.Tensor(traj_scaled).to(device)\n",
    "    with torch.no_grad():\n",
    "        embedding = model.encoder(test_traj).detach().cpu().numpy()\n",
    "        transformed = model(test_traj).detach().cpu().numpy()\n",
    "\n",
    "        all_trajs = np.concatenate((traj_scaled, transformed))\n",
    "        color = np.concatenate((np.zeros(shape=(traj.shape[0], 1)), np.ones(shape=(transformed.shape[0], 1))))\n",
    "        exported = np.append(all_trajs, color, axis=1)\n",
    "        table = wandb.Table(columns=exp.column_names + [\"transformed\"], data=exported)\n",
    "        wandb.log({f\"{exp.experiment_name} before/after ({ae.name})\": table})\n",
    "    if n_eff == 1:\n",
    "        # coloring\n",
    "        traj_with_color = np.append(traj_scaled, embedding, axis=1)\n",
    "        wandb.log({f\"{exp.experiment_name} coloring for n_eff=1 embedding ({ae.name})\": wandb.Table(exp.column_names + [\"color\"], data=traj_with_color)})\n",
    "    elif n_eff == 2:\n",
    "        # 2d embedding\n",
    "        wandb.log({f\"{exp.experiment_name} 2d n_eff embedding ({ae.name})\": wandb.Table([\"projection1\", \"projection2\"], embedding)})\n",
    "    elif n_eff == 3:\n",
    "        # 3d embedding\n",
    "        wandb.log({f\"{exp.experiment_name} 3d n_eff embedding ({ae.name})\": wandb.Object3D(embedding)})\n",
    "    else:\n",
    "        wandb.alert(f\"no visual representation for n_eff={n_eff} with experiment {exp.experiment_name} ({ae.name})\")"
   ]
  },
  {
   "cell_type": "code",
   "execution_count": null,
   "metadata": {},
   "outputs": [],
   "source": [
    "exps = [Pendulum, HarmonicOscillator]\n",
    "aes = [DefaultAE, AlgebraAE]\n",
    "\n",
    "for exp in tqdm(exps, position=0):\n",
    "    for ae in tqdm(aes, position=1, leave=False):\n",
    "        train_n_eff(exp, ae, epochs=1000, intermediate_dim=10)"
   ]
  },
  {
   "cell_type": "code",
   "execution_count": null,
   "metadata": {},
   "outputs": [],
   "source": [
    "wandb.finish()"
   ]
  }
 ],
 "metadata": {
  "kernelspec": {
   "display_name": "base",
   "language": "python",
   "name": "python3"
  },
  "language_info": {
   "codemirror_mode": {
    "name": "ipython",
    "version": 3
   },
   "file_extension": ".py",
   "mimetype": "text/x-python",
   "name": "python",
   "nbconvert_exporter": "python",
   "pygments_lexer": "ipython3",
   "version": "3.8.13 | packaged by conda-forge | (default, Mar 25 2022, 06:04:10) \n[GCC 10.3.0]"
  },
  "vscode": {
   "interpreter": {
    "hash": "d4d1e4263499bec80672ea0156c357c1ee493ec2b1c70f0acce89fc37c4a6abe"
   }
  }
 },
 "nbformat": 4,
 "nbformat_minor": 0
}
